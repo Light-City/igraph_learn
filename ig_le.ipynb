{
 "cells": [
  {
   "cell_type": "code",
   "execution_count": 175,
   "metadata": {},
   "outputs": [],
   "source": [
    "from igraph import *"
   ]
  },
  {
   "cell_type": "code",
   "execution_count": 176,
   "metadata": {},
   "outputs": [
    {
     "data": {
      "text/plain": [
       "'0.7.1'"
      ]
     },
     "execution_count": 176,
     "metadata": {},
     "output_type": "execute_result"
    }
   ],
   "source": [
    "igraph.__version__"
   ]
  },
  {
   "cell_type": "code",
   "execution_count": 177,
   "metadata": {},
   "outputs": [
    {
     "data": {
      "text/plain": [
       "<igraph.Graph at 0x21d1237a4f8>"
      ]
     },
     "execution_count": 177,
     "metadata": {},
     "output_type": "execute_result"
    }
   ],
   "source": [
    "# 创建图\n",
    "g=Graph()\n",
    "g"
   ]
  },
  {
   "cell_type": "code",
   "execution_count": 178,
   "metadata": {},
   "outputs": [
    {
     "name": "stdout",
     "output_type": "stream",
     "text": [
      "IGRAPH U--- 0 0 --\n"
     ]
    }
   ],
   "source": [
    "print(g)"
   ]
  },
  {
   "cell_type": "code",
   "execution_count": 179,
   "metadata": {},
   "outputs": [],
   "source": [
    "# 添加三个节点\n",
    "g.add_vertices(3)"
   ]
  },
  {
   "cell_type": "code",
   "execution_count": 180,
   "metadata": {},
   "outputs": [
    {
     "name": "stdout",
     "output_type": "stream",
     "text": [
      "IGRAPH U--- 3 0 --\n"
     ]
    }
   ],
   "source": [
    "print(g)"
   ]
  },
  {
   "cell_type": "code",
   "execution_count": 181,
   "metadata": {},
   "outputs": [],
   "source": [
    "#添加两条边\n",
    "g.add_edges([(1,2),(0,1)])"
   ]
  },
  {
   "cell_type": "code",
   "execution_count": 182,
   "metadata": {},
   "outputs": [
    {
     "name": "stdout",
     "output_type": "stream",
     "text": [
      "IGRAPH U--- 3 2 --\n",
      "+ edges:\n",
      "1--2 0--1\n"
     ]
    }
   ],
   "source": [
    "# 生成3个节点，2条边\n",
    "print(g)"
   ]
  },
  {
   "cell_type": "code",
   "execution_count": 183,
   "metadata": {},
   "outputs": [],
   "source": [
    "# 再添加三个节点\n",
    "g.add_vertices(3)"
   ]
  },
  {
   "cell_type": "code",
   "execution_count": 184,
   "metadata": {},
   "outputs": [
    {
     "name": "stdout",
     "output_type": "stream",
     "text": [
      "IGRAPH U--- 6 2 --\n",
      "+ edges:\n",
      "1--2 0--1\n"
     ]
    }
   ],
   "source": [
    "print(g)"
   ]
  },
  {
   "cell_type": "code",
   "execution_count": 185,
   "metadata": {},
   "outputs": [],
   "source": [
    "# 添加更多关系\n",
    "g.add_edges([(2,3),(3,4),(4,5),(5,3)])"
   ]
  },
  {
   "cell_type": "code",
   "execution_count": 186,
   "metadata": {},
   "outputs": [
    {
     "name": "stdout",
     "output_type": "stream",
     "text": [
      "IGRAPH U--- 6 6 --\n",
      "+ edges:\n",
      "1--2 0--1 2--3 3--4 4--5 3--5\n"
     ]
    }
   ],
   "source": [
    "# 6个节点，6条边的无向图\n",
    "print(g)"
   ]
  },
  {
   "cell_type": "code",
   "execution_count": 187,
   "metadata": {},
   "outputs": [
    {
     "data": {
      "text/plain": [
       "0"
      ]
     },
     "execution_count": 187,
     "metadata": {},
     "output_type": "execute_result"
    }
   ],
   "source": [
    "g.get_eid(1,2)"
   ]
  },
  {
   "cell_type": "code",
   "execution_count": 188,
   "metadata": {},
   "outputs": [
    {
     "data": {
      "text/plain": [
       "1"
      ]
     },
     "execution_count": 188,
     "metadata": {},
     "output_type": "execute_result"
    }
   ],
   "source": [
    "g.get_eid(0,1)"
   ]
  },
  {
   "cell_type": "code",
   "execution_count": 189,
   "metadata": {},
   "outputs": [
    {
     "data": {
      "text/plain": [
       "[(1, 2), (0, 1), (2, 3), (3, 4), (4, 5), (3, 5)]"
      ]
     },
     "execution_count": 189,
     "metadata": {},
     "output_type": "execute_result"
    }
   ],
   "source": [
    "g.get_edgelist()"
   ]
  },
  {
   "cell_type": "code",
   "execution_count": 190,
   "metadata": {},
   "outputs": [
    {
     "name": "stdout",
     "output_type": "stream",
     "text": [
      "IGRAPH U--- 6 6 -- \n"
     ]
    }
   ],
   "source": [
    "summary(g)"
   ]
  },
  {
   "cell_type": "code",
   "execution_count": 191,
   "metadata": {},
   "outputs": [],
   "source": [
    "# 生成127个顶点，126条边，2代表每个顶点两个孩子\n",
    "g2=Graph.Tree(127,2)"
   ]
  },
  {
   "cell_type": "code",
   "execution_count": 192,
   "metadata": {},
   "outputs": [
    {
     "name": "stdout",
     "output_type": "stream",
     "text": [
      "IGRAPH U--- 127 126 --\n",
      "+ edges:\n",
      "0--1 0--2 1--3 1--4 2--5 2--6 3--7 3--8 4--9 4--10 5--11 5--12 6--13 6--14\n",
      "7--15 7--16 8--17 8--18 9--19 9--20 10--21 10--22 11--23 11--24 12--25 12--26\n",
      "13--27 13--28 14--29 14--30 15--31 15--32 16--33 16--34 17--35 17--36 18--37\n",
      "18--38 19--39 19--40 20--41 20--42 21--43 21--44 22--45 22--46 23--47 23--48\n",
      "24--49 24--50 25--51 25--52 26--53 26--54 27--55 27--56 28--57 28--58 29--59\n",
      "29--60 30--61 30--62 31--63 31--64 32--65 32--66 33--67 33--68 34--69 34--70\n",
      "35--71 35--72 36--73 36--74 37--75 37--76 38--77 38--78 39--79 39--80 40--81\n",
      "40--82 41--83 41--84 42--85 42--86 43--87 43--88 44--89 44--90 45--91 45--92\n",
      "46--93 46--94 47--95 47--96 48--97 48--98 49--99 49--100 50--101 50--102\n",
      "51--103 51--104 52--105 52--106 53--107 53--108 54--109 54--110 55--111\n",
      "55--112 56--113 56--114 57--115 57--116 58--117 58--118 59--119 59--120\n",
      "60--121 60--122 61--123 61--124 62--125 62--126\n"
     ]
    }
   ],
   "source": [
    "print(g2)"
   ]
  },
  {
   "cell_type": "code",
   "execution_count": 193,
   "metadata": {},
   "outputs": [
    {
     "data": {
      "text/plain": [
       "[(0, 1),\n",
       " (0, 2),\n",
       " (1, 3),\n",
       " (1, 4),\n",
       " (2, 5),\n",
       " (2, 6),\n",
       " (3, 7),\n",
       " (3, 8),\n",
       " (4, 9),\n",
       " (4, 10)]"
      ]
     },
     "execution_count": 193,
     "metadata": {},
     "output_type": "execute_result"
    }
   ],
   "source": [
    "g2.get_edgelist()[:10]"
   ]
  },
  {
   "cell_type": "code",
   "execution_count": 194,
   "metadata": {},
   "outputs": [],
   "source": [
    "#随机生成图\n",
    "g = Graph.GRG(100, 0.2)"
   ]
  },
  {
   "cell_type": "code",
   "execution_count": 195,
   "metadata": {},
   "outputs": [
    {
     "name": "stdout",
     "output_type": "stream",
     "text": [
      "IGRAPH U--- 100 544 --\n",
      "+ attr: x (v), y (v)\n",
      "+ edges:\n",
      "  0 --   1   2   3   7  10  12  15\n",
      "  1 --   0   2   3   4   7   9  10  15\n",
      "  2 --   0   1   3   4   7   9  10  11\n",
      "  3 --   0   1   2   7   9  10  12  15\n",
      "  4 --   1   2   5   8   9  11  18\n",
      "  5 --   4   8   9  11  13  14  18\n",
      "  6 --  13  14\n",
      "  7 --   0   1   2   3   9  10  12  15  21  22\n",
      "  8 --   4   5  11  13  14  18\n",
      "  9 --   1   2   3   4   5   7  11\n",
      " 10 --   0   1   2   3   7  12  15  21  22\n",
      " 11 --   2   4   5   8   9  13  14  18\n",
      " 12 --   0   3   7  10  15  22  23  24  25  26\n",
      " 13 --   5   6   8  11  14  18\n",
      " 14 --   5   6   8  11  13  18\n",
      " 15 --   0   1   3   7  10  12  21  22  24  25  26  27\n",
      " 16 --  17  19  20  23  29\n",
      " 17 --  16  19  20  23  29\n",
      " 18 --   4   5   8  11  13  14  30  31  35\n",
      " 19 --  16  17  20  23  24  26  29  37  38\n",
      " 20 --  16  17  19  23  29  38\n",
      " 21 --   7  10  15  22  25  26  27  28  33  34\n",
      " 22 --   7  10  12  15  21  24  25  26  27  28  33  36\n",
      " 23 --  12  16  17  19  20  24  25  26  29  36  37\n",
      " 24 --  12  15  19  22  23  25  26  29  36  37  39\n",
      " 25 --  12  15  21  22  23  24  26  27  36  39\n",
      " 26 --  12  15  19  21  22  23  24  25  29  36  37  39\n",
      " 27 --  15  21  22  25  28  32  33  34\n",
      " 28 --  21  22  27  32  33  34\n",
      " 29 --  16  17  19  20  23  24  26  37  38  40  42  45\n",
      " 30 --  18  31  32  34  35  46\n",
      " 31 --  18  30  35  41\n",
      " 32 --  27  28  30  33  34  35  46\n",
      " 33 --  21  22  27  28  32  34  43  44  46\n",
      " 34 --  21  27  28  30  32  33  43  44  46\n",
      " 35 --  18  30  31  32  41  46  50\n",
      " 36 --  22  23  24  25  26  37  39  42  43  44  47  48  49  51  53  58\n",
      " 37 --  19  23  24  26  29  36  38  39  40  42  45  47  48  49  51\n",
      " 38 --  19  20  29  37  40  42  45  47  49\n",
      " 39 --  24  25  26  36  37  42  43  44  47  48  49  51  52  53  55  58  61  63\n",
      " 40 --  29  37  38  42  45  47  49\n",
      " 41 --  31  35  50  59  60  66\n",
      " 42 --  29  36  37  38  39  40  45  47  48  49  51  58  65\n",
      " 43 --  33  34  36  39  44  46  51  52  53  55  56  57  61  62  63\n",
      " 44 --  33  34  36  39  43  48  51  52  53  55  58  61  63  67\n",
      " 45 --  29  37  38  40  42  47  48  49  65\n",
      " 46 --  30  32  33  34  35  43  50  54  56  57  62  64  68  69  70\n",
      " 47 --  36  37  38  39  40  42  45  48  49  51  55  58  61  65  67\n",
      " 48 --  36  37  39  42  44  45  47  49  51  52  53  55  58  61  63  65  67  72\n",
      "73\n",
      " 49 --  36  37  38  39  40  42  45  47  48  51  53  55  58  61  63  65  67  72\n",
      "73  75\n",
      " 50 --  35  41  46  54  56  57  59  62  64  66  68  70\n",
      " 51 --  36  37  39  42  43  44  47  48  49  52  53  55  58  61  63  65  67  72\n",
      "73  75\n",
      " 52 --  39  43  44  48  51  53  55  58  61  62  63  67  69  71  76\n",
      " 53 --  36  39  43  44  48  49  51  52  55  58  61  62  63  67  72  73  76\n",
      " 54 --  46  50  56  57  62  64  68  69  70  71  74\n",
      " 55 --  39  43  44  47  48  49  51  52  53  58  61  63  67  72  73  76\n",
      " 56 --  43  46  50  54  57  62  64  68  69  70  71  74\n",
      " 57 --  43  46  50  54  56  62  64  68  69  70  71  74\n",
      " 58 --  36  39  42  44  47  48  49  51  52  53  55  61  63  65  67  72  73  75\n",
      "76  77  78\n",
      " 59 --  41  50  60  64  66  79  80  81\n",
      " 60 --  41  59  66  79  85\n",
      " 61 --  39  43  44  47  48  49  51  52  53  55  58  63  65  67  72  73  75  76\n",
      "77  78\n",
      " 62 --  43  46  50  52  53  54  56  57  63  64  68  69  70  71  74  83  86\n",
      " 63 --  39  43  44  48  49  51  52  53  55  58  61  62  67  71  72  73  75  76\n",
      "78\n",
      " 64 --  46  50  54  56  57  59  62  68  69  70  71  74  80  81  84\n",
      " 65 --  42  45  47  48  49  51  58  61  67  72  73  75  77  78  82  87\n",
      " 66 --  41  50  59  60  79  80  81  85  88\n",
      " 67 --  44  47  48  49  51  52  53  55  58  61  63  65  72  73  75  76  77  78\n",
      "89\n",
      " 68 --  46  50  54  56  57  62  64  69  70  71  74  80  81  83  84  86\n",
      " 69 --  46  52  54  56  57  62  64  68  70  71  74  83  86\n",
      " 70 --  46  50  54  56  57  62  64  68  69  71  74  83  86\n",
      " 71 --  52  54  56  57  62  63  64  68  69  70  74  76  83  86\n",
      " 72 --  48  49  51  53  55  58  61  63  65  67  73  75  76  77  78  87  89  92\n",
      " 73 --  48  49  51  53  55  58  61  63  65  67  72  75  76  77  78  87  89  92\n",
      " 74 --  54  56  57  62  64  68  69  70  71  76  83  86\n",
      " 75 --  49  51  58  61  63  65  67  72  73  76  77  78  82  87  89  92\n",
      " 76 --  52  53  55  58  61  63  67  71  72  73  74  75  77  78  83  86  89\n",
      " 77 --  58  61  65  67  72  73  75  76  78  82  87  89  92  94\n",
      " 78 --  58  61  63  65  67  72  73  75  76  77  82  87  89  92  94\n",
      " 79 --  59  60  66  80  81  85  88  90  93\n",
      " 80 --  59  64  66  68  79  81  84  85  88  90  91\n",
      " 81 --  59  64  66  68  79  80  84  85  88  90  91  93\n",
      " 82 --  65  75  77  78  87  89  92  94  98\n",
      " 83 --  62  68  69  70  71  74  76  86  95\n",
      " 84 --  64  68  80  81  88  90  91\n",
      " 85 --  60  66  79  80  81  88  90  91  93  96  99\n",
      " 86 --  62  68  69  70  71  74  76  83  95\n",
      " 87 --  65  72  73  75  77  78  82  89  92  94  98\n",
      " 88 --  66  79  80  81  84  85  90  91  93  96  99\n",
      " 89 --  67  72  73  75  76  77  78  82  87  92  94  97  98\n",
      " 90 --  79  80  81  84  85  88  91  93  96  99\n",
      " 91 --  80  81  84  85  88  90  93  96\n",
      " 92 --  72  73  75  77  78  82  87  89  94  97  98\n",
      " 93 --  79  81  85  88  90  91  96  99\n",
      " 94 --  77  78  82  87  89  92  98\n",
      " 95 --  83  86  97\n",
      " 96 --  85  88  90  91  93  99\n",
      " 97 --  89  92  95\n",
      " 98 --  82  87  89  92  94\n",
      " 99 --  85  88  90  93  96\n"
     ]
    }
   ],
   "source": [
    "print(g)"
   ]
  },
  {
   "cell_type": "code",
   "execution_count": 196,
   "metadata": {},
   "outputs": [
    {
     "data": {
      "text/plain": [
       "[(0, 1),\n",
       " (0, 2),\n",
       " (0, 3),\n",
       " (0, 7),\n",
       " (0, 10),\n",
       " (0, 12),\n",
       " (0, 15),\n",
       " (1, 2),\n",
       " (1, 3),\n",
       " (1, 4)]"
      ]
     },
     "execution_count": 196,
     "metadata": {},
     "output_type": "execute_result"
    }
   ],
   "source": [
    "g.get_edgelist()[:10]"
   ]
  },
  {
   "cell_type": "code",
   "execution_count": 197,
   "metadata": {},
   "outputs": [],
   "source": [
    "#检查两图是否同构\n",
    "#g.isomorphic(g2)"
   ]
  },
  {
   "cell_type": "code",
   "execution_count": 198,
   "metadata": {},
   "outputs": [
    {
     "name": "stdout",
     "output_type": "stream",
     "text": [
      "IGRAPH U--- 7 9 --\n",
      "+ edges:\n",
      "0 -- 1 2 5     2 -- 0 3 4 5   4 -- 2 3       6 -- 3 5\n",
      "1 -- 0         3 -- 2 4 6     5 -- 0 2 6\n"
     ]
    }
   ],
   "source": [
    "\n",
    "g = Graph([(0,1), (0,2), (2,3), (3,4), (4,2), (2,5), (5,0), (6,3), (5,6)])\n",
    "print(g)"
   ]
  },
  {
   "cell_type": "code",
   "execution_count": 199,
   "metadata": {},
   "outputs": [
    {
     "data": {
      "text/plain": [
       "<igraph.VertexSeq at 0x21d1238c228>"
      ]
     },
     "execution_count": 199,
     "metadata": {},
     "output_type": "execute_result"
    }
   ],
   "source": [
    "g.vs"
   ]
  },
  {
   "cell_type": "code",
   "execution_count": 200,
   "metadata": {},
   "outputs": [],
   "source": [
    "g.vs[\"name\"] = [\"Alice\", \"Bob\", \"Claire\", \"Dennis\", \"Esther\", \"Frank\", \"George\"]"
   ]
  },
  {
   "cell_type": "code",
   "execution_count": 201,
   "metadata": {},
   "outputs": [
    {
     "name": "stdout",
     "output_type": "stream",
     "text": [
      "IGRAPH UN-- 7 9 --\n",
      "+ attr: name (v)\n",
      "+ edges (vertex names):\n",
      " Alice -- Bob, Claire, Frank             Esther -- Claire, Dennis\n",
      "   Bob -- Alice                           Frank -- Alice, Claire, George\n",
      "Claire -- Alice, Dennis, Esther, Frank   George -- Dennis, Frank\n",
      "Dennis -- Claire, Esther, George\n"
     ]
    }
   ],
   "source": [
    "print(g)"
   ]
  },
  {
   "cell_type": "code",
   "execution_count": 202,
   "metadata": {},
   "outputs": [],
   "source": [
    "g.vs[\"age\"] = [25, 31, 18, 47, 22, 23, 50]"
   ]
  },
  {
   "cell_type": "code",
   "execution_count": 203,
   "metadata": {},
   "outputs": [
    {
     "name": "stdout",
     "output_type": "stream",
     "text": [
      "IGRAPH UN-- 7 9 --\n",
      "+ attr: age (v), name (v)\n",
      "+ edges (vertex names):\n",
      " Alice -- Bob, Claire, Frank             Esther -- Claire, Dennis\n",
      "   Bob -- Alice                           Frank -- Alice, Claire, George\n",
      "Claire -- Alice, Dennis, Esther, Frank   George -- Dennis, Frank\n",
      "Dennis -- Claire, Esther, George\n"
     ]
    }
   ],
   "source": [
    "print(g)"
   ]
  },
  {
   "cell_type": "code",
   "execution_count": 204,
   "metadata": {},
   "outputs": [],
   "source": [
    "g.vs[\"gender\"] = [\"f\", \"m\", \"f\", \"m\", \"f\", \"m\", \"m\"]"
   ]
  },
  {
   "cell_type": "code",
   "execution_count": 205,
   "metadata": {},
   "outputs": [
    {
     "name": "stdout",
     "output_type": "stream",
     "text": [
      "IGRAPH UN-- 7 9 --\n",
      "+ attr: age (v), gender (v), name (v)\n",
      "+ edges (vertex names):\n",
      " Alice -- Bob, Claire, Frank             Esther -- Claire, Dennis\n",
      "   Bob -- Alice                           Frank -- Alice, Claire, George\n",
      "Claire -- Alice, Dennis, Esther, Frank   George -- Dennis, Frank\n",
      "Dennis -- Claire, Esther, George\n"
     ]
    }
   ],
   "source": [
    "print(g)"
   ]
  },
  {
   "cell_type": "code",
   "execution_count": 206,
   "metadata": {},
   "outputs": [],
   "source": [
    "g.es[\"is_formal\"] = [False, False, True, True, True, False, True, False, False]"
   ]
  },
  {
   "cell_type": "code",
   "execution_count": 207,
   "metadata": {},
   "outputs": [
    {
     "name": "stdout",
     "output_type": "stream",
     "text": [
      "IGRAPH UN-- 7 9 --\n",
      "+ attr: age (v), gender (v), name (v), is_formal (e)\n",
      "+ edges (vertex names):\n",
      " Alice -- Bob, Claire, Frank             Esther -- Claire, Dennis\n",
      "   Bob -- Alice                           Frank -- Alice, Claire, George\n",
      "Claire -- Alice, Dennis, Esther, Frank   George -- Dennis, Frank\n",
      "Dennis -- Claire, Esther, George\n"
     ]
    }
   ],
   "source": [
    "print(g)"
   ]
  },
  {
   "cell_type": "code",
   "execution_count": 208,
   "metadata": {},
   "outputs": [
    {
     "data": {
      "text/plain": [
       "igraph.Edge(<igraph.Graph object at 0x0000021D1237A6D8>, 0, {'is_formal': False})"
      ]
     },
     "execution_count": 208,
     "metadata": {},
     "output_type": "execute_result"
    }
   ],
   "source": [
    "g.es[0]"
   ]
  },
  {
   "cell_type": "code",
   "execution_count": 209,
   "metadata": {},
   "outputs": [
    {
     "data": {
      "text/plain": [
       "{'is_formal': False}"
      ]
     },
     "execution_count": 209,
     "metadata": {},
     "output_type": "execute_result"
    }
   ],
   "source": [
    "g.es[0].attributes()"
   ]
  },
  {
   "cell_type": "code",
   "execution_count": 210,
   "metadata": {},
   "outputs": [
    {
     "data": {
      "text/plain": [
       "False"
      ]
     },
     "execution_count": 210,
     "metadata": {},
     "output_type": "execute_result"
    }
   ],
   "source": [
    "g.es[0][\"is_formal\"]"
   ]
  },
  {
   "cell_type": "code",
   "execution_count": 211,
   "metadata": {},
   "outputs": [],
   "source": [
    "g.es[0][\"is_formal\"]=True"
   ]
  },
  {
   "cell_type": "code",
   "execution_count": 212,
   "metadata": {},
   "outputs": [
    {
     "data": {
      "text/plain": [
       "{'is_formal': True}"
      ]
     },
     "execution_count": 212,
     "metadata": {},
     "output_type": "execute_result"
    }
   ],
   "source": [
    "g.es[0].attributes()"
   ]
  },
  {
   "cell_type": "code",
   "execution_count": 213,
   "metadata": {},
   "outputs": [
    {
     "data": {
      "text/plain": [
       "igraph.Vertex(<igraph.Graph object at 0x0000021D1237A6D8>, 0, {'name': 'Alice', 'age': 25, 'gender': 'f'})"
      ]
     },
     "execution_count": 213,
     "metadata": {},
     "output_type": "execute_result"
    }
   ],
   "source": [
    "g.vs[0]"
   ]
  },
  {
   "cell_type": "code",
   "execution_count": 214,
   "metadata": {},
   "outputs": [
    {
     "data": {
      "text/plain": [
       "{'age': 25, 'gender': 'f', 'name': 'Alice'}"
      ]
     },
     "execution_count": 214,
     "metadata": {},
     "output_type": "execute_result"
    }
   ],
   "source": [
    "g.vs[0].attributes()"
   ]
  },
  {
   "cell_type": "code",
   "execution_count": 215,
   "metadata": {},
   "outputs": [],
   "source": [
    "g.vs[0]['age']=0"
   ]
  },
  {
   "cell_type": "code",
   "execution_count": 216,
   "metadata": {},
   "outputs": [
    {
     "data": {
      "text/plain": [
       "{'age': 0, 'gender': 'f', 'name': 'Alice'}"
      ]
     },
     "execution_count": 216,
     "metadata": {},
     "output_type": "execute_result"
    }
   ],
   "source": [
    "g.vs[0].attributes()"
   ]
  },
  {
   "cell_type": "code",
   "execution_count": 217,
   "metadata": {},
   "outputs": [],
   "source": [
    "g.vs[0]['age']=25"
   ]
  },
  {
   "cell_type": "code",
   "execution_count": 218,
   "metadata": {},
   "outputs": [
    {
     "data": {
      "text/plain": [
       "{'age': 25, 'gender': 'f', 'name': 'Alice'}"
      ]
     },
     "execution_count": 218,
     "metadata": {},
     "output_type": "execute_result"
    }
   ],
   "source": [
    "g.vs[0].attributes()"
   ]
  },
  {
   "cell_type": "code",
   "execution_count": 219,
   "metadata": {},
   "outputs": [],
   "source": [
    "g.vs[3][\"foo\"]=\"bar\""
   ]
  },
  {
   "cell_type": "code",
   "execution_count": 220,
   "metadata": {},
   "outputs": [
    {
     "data": {
      "text/plain": [
       "[None, None, None, 'bar', None, None, None]"
      ]
     },
     "execution_count": 220,
     "metadata": {},
     "output_type": "execute_result"
    }
   ],
   "source": [
    "g.vs[\"foo\"]"
   ]
  },
  {
   "cell_type": "code",
   "execution_count": 221,
   "metadata": {},
   "outputs": [],
   "source": [
    "del g.vs[\"foo\"]"
   ]
  },
  {
   "cell_type": "code",
   "execution_count": 222,
   "metadata": {},
   "outputs": [
    {
     "ename": "KeyError",
     "evalue": "'Attribute does not exist'",
     "traceback": [
      "\u001b[1;31m---------------------------------------------------------------------------\u001b[0m",
      "\u001b[1;31mKeyError\u001b[0m                                  Traceback (most recent call last)",
      "\u001b[1;32m<ipython-input-222-a2e2f8e7cb08>\u001b[0m in \u001b[0;36m<module>\u001b[1;34m()\u001b[0m\n\u001b[1;32m----> 1\u001b[1;33m \u001b[0mg\u001b[0m\u001b[1;33m.\u001b[0m\u001b[0mvs\u001b[0m\u001b[1;33m[\u001b[0m\u001b[1;34m\"foo\"\u001b[0m\u001b[1;33m]\u001b[0m\u001b[1;33m\u001b[0m\u001b[0m\n\u001b[0m",
      "\u001b[1;31mKeyError\u001b[0m: 'Attribute does not exist'"
     ],
     "output_type": "error"
    }
   ],
   "source": [
    "g.vs[\"foo\"]"
   ]
  },
  {
   "cell_type": "code",
   "execution_count": 223,
   "metadata": {},
   "outputs": [
    {
     "data": {
      "text/plain": [
       "[3, 1, 4, 3, 2, 3, 2]"
      ]
     },
     "execution_count": 223,
     "metadata": {},
     "output_type": "execute_result"
    }
   ],
   "source": [
    "g.degree()"
   ]
  },
  {
   "cell_type": "code",
   "execution_count": 224,
   "metadata": {},
   "outputs": [
    {
     "data": {
      "text/plain": [
       "[3, 1, 4, 3, 2, 3, 2]"
      ]
     },
     "execution_count": 224,
     "metadata": {},
     "output_type": "execute_result"
    }
   ],
   "source": [
    "# mode instead type\n",
    "g.degree(mode=\"in\")"
   ]
  },
  {
   "cell_type": "code",
   "execution_count": 225,
   "metadata": {},
   "outputs": [
    {
     "data": {
      "text/plain": [
       "[3, 1, 4, 3, 2, 3, 2]"
      ]
     },
     "execution_count": 225,
     "metadata": {},
     "output_type": "execute_result"
    }
   ],
   "source": [
    "g.degree(mode=\"out\")"
   ]
  },
  {
   "cell_type": "code",
   "execution_count": 226,
   "metadata": {},
   "outputs": [
    {
     "data": {
      "text/plain": [
       "[4, 3, 2]"
      ]
     },
     "execution_count": 226,
     "metadata": {},
     "output_type": "execute_result"
    }
   ],
   "source": [
    "g.degree([2,3,4])"
   ]
  },
  {
   "cell_type": "code",
   "execution_count": 227,
   "metadata": {},
   "outputs": [
    {
     "data": {
      "text/plain": [
       "[6.0, 6.0, 4.0, 2.0, 4.0, 3.0, 4.0, 3.0, 4.0]"
      ]
     },
     "execution_count": 227,
     "metadata": {},
     "output_type": "execute_result"
    }
   ],
   "source": [
    "# 边缘中介\n",
    "g.edge_betweenness()"
   ]
  },
  {
   "cell_type": "code",
   "execution_count": 228,
   "metadata": {},
   "outputs": [],
   "source": [
    "ebs = g.edge_betweenness()"
   ]
  },
  {
   "cell_type": "code",
   "execution_count": 229,
   "metadata": {},
   "outputs": [],
   "source": [
    "max_eb = max(ebs)"
   ]
  },
  {
   "cell_type": "code",
   "execution_count": 230,
   "metadata": {},
   "outputs": [
    {
     "data": {
      "text/plain": [
       "6.0"
      ]
     },
     "execution_count": 230,
     "metadata": {},
     "output_type": "execute_result"
    }
   ],
   "source": [
    "max_eb"
   ]
  },
  {
   "cell_type": "code",
   "execution_count": 231,
   "metadata": {},
   "outputs": [
    {
     "data": {
      "text/plain": [
       "[(0, 1), (0, 2)]"
      ]
     },
     "execution_count": 231,
     "metadata": {},
     "output_type": "execute_result"
    }
   ],
   "source": [
    "[g.es[idx].tuple for idx, eb in enumerate(ebs) if eb == max_eb]"
   ]
  },
  {
   "cell_type": "code",
   "execution_count": 232,
   "metadata": {},
   "outputs": [
    {
     "data": {
      "text/plain": [
       "[3, 1, 4, 3, 2, 3, 2]"
      ]
     },
     "execution_count": 232,
     "metadata": {},
     "output_type": "execute_result"
    }
   ],
   "source": [
    "g.vs.degree()"
   ]
  },
  {
   "cell_type": "code",
   "execution_count": 233,
   "metadata": {
    "scrolled": true
   },
   "outputs": [
    {
     "data": {
      "text/plain": [
       "[6.0, 6.0, 4.0, 2.0, 4.0, 3.0, 4.0, 3.0, 4.0]"
      ]
     },
     "execution_count": 233,
     "metadata": {},
     "output_type": "execute_result"
    }
   ],
   "source": [
    "g.es.edge_betweenness()"
   ]
  },
  {
   "cell_type": "code",
   "execution_count": 234,
   "metadata": {},
   "outputs": [
    {
     "data": {
      "text/plain": [
       "4"
      ]
     },
     "execution_count": 234,
     "metadata": {},
     "output_type": "execute_result"
    }
   ],
   "source": [
    "g.maxdegree()"
   ]
  },
  {
   "cell_type": "code",
   "execution_count": 235,
   "metadata": {},
   "outputs": [
    {
     "data": {
      "text/plain": [
       "['Claire']"
      ]
     },
     "execution_count": 235,
     "metadata": {},
     "output_type": "execute_result"
    }
   ],
   "source": [
    "#查询\n",
    "g.vs.select(_degree = g.maxdegree())[\"name\"]"
   ]
  },
  {
   "cell_type": "code",
   "execution_count": 236,
   "metadata": {},
   "outputs": [
    {
     "data": {
      "text/plain": [
       "3"
      ]
     },
     "execution_count": 236,
     "metadata": {},
     "output_type": "execute_result"
    }
   ],
   "source": [
    "seq = g.vs.select([2, 3, 6])\n",
    "len(seq)"
   ]
  },
  {
   "cell_type": "code",
   "execution_count": 237,
   "metadata": {},
   "outputs": [
    {
     "data": {
      "text/plain": [
       "<igraph.VertexSeq at 0x21d1210d318>"
      ]
     },
     "execution_count": 237,
     "metadata": {},
     "output_type": "execute_result"
    }
   ],
   "source": [
    "g.vs(age_lt=30)"
   ]
  },
  {
   "cell_type": "code",
   "execution_count": 238,
   "metadata": {},
   "outputs": [
    {
     "data": {
      "text/plain": [
       "3"
      ]
     },
     "execution_count": 238,
     "metadata": {},
     "output_type": "execute_result"
    }
   ],
   "source": [
    "g.degree(\"Dennis\")"
   ]
  },
  {
   "cell_type": "code",
   "execution_count": 239,
   "metadata": {},
   "outputs": [
    {
     "data": {
      "text/plain": [
       "3"
      ]
     },
     "execution_count": 239,
     "metadata": {},
     "output_type": "execute_result"
    }
   ],
   "source": [
    " g.vs.find(\"Dennis\").degree()"
   ]
  },
  {
   "cell_type": "code",
   "execution_count": 240,
   "metadata": {},
   "outputs": [],
   "source": [
    "layout = g.layout_kamada_kawai()"
   ]
  },
  {
   "cell_type": "code",
   "execution_count": 241,
   "metadata": {},
   "outputs": [],
   "source": [
    "layout = g.layout(\"kamada_kawai\")"
   ]
  },
  {
   "cell_type": "code",
   "execution_count": 242,
   "metadata": {},
   "outputs": [],
   "source": [
    "layout = g.layout(\"rt\", 2)"
   ]
  },
  {
   "cell_type": "code",
   "execution_count": 243,
   "metadata": {},
   "outputs": [],
   "source": [
    "layout = g.layout(\"kk\")"
   ]
  },
  {
   "cell_type": "code",
   "execution_count": 244,
   "metadata": {},
   "outputs": [
    {
     "data": {
      "image/svg+xml": [
       "<?xml version=\"1.0\" encoding=\"UTF-8\"?>\n",
       "<svg xmlns=\"http://www.w3.org/2000/svg\" xmlns:xlink=\"http://www.w3.org/1999/xlink\" width=\"600pt\" height=\"600pt\" viewBox=\"0 0 600 600\" version=\"1.1\">\n",
       "<g id=\"surface338\">\n",
       "<rect x=\"0\" y=\"0\" width=\"600\" height=\"600\" style=\"fill:rgb(100%,100%,100%);fill-opacity:1;stroke:none;\"/>\n",
       "<path style=\"fill:none;stroke-width:1;stroke-linecap:butt;stroke-linejoin:miter;stroke:rgb(26.666667%,26.666667%,26.666667%);stroke-opacity:1;stroke-miterlimit:10;\" d=\"M 212.261719 401.375 L 20 424.304688 \"/>\n",
       "<path style=\"fill:none;stroke-width:1;stroke-linecap:butt;stroke-linejoin:miter;stroke:rgb(26.666667%,26.666667%,26.666667%);stroke-opacity:1;stroke-miterlimit:10;\" d=\"M 212.261719 401.375 L 376.871094 253.753906 \"/>\n",
       "<path style=\"fill:none;stroke-width:1;stroke-linecap:butt;stroke-linejoin:miter;stroke:rgb(26.666667%,26.666667%,26.666667%);stroke-opacity:1;stroke-miterlimit:10;\" d=\"M 376.871094 253.753906 L 580 269.667969 \"/>\n",
       "<path style=\"fill:none;stroke-width:1;stroke-linecap:butt;stroke-linejoin:miter;stroke:rgb(26.666667%,26.666667%,26.666667%);stroke-opacity:1;stroke-miterlimit:10;\" d=\"M 580 269.667969 L 490 20 \"/>\n",
       "<path style=\"fill:none;stroke-width:1;stroke-linecap:butt;stroke-linejoin:miter;stroke:rgb(26.666667%,26.666667%,26.666667%);stroke-opacity:1;stroke-miterlimit:10;\" d=\"M 376.871094 253.753906 L 490 20 \"/>\n",
       "<path style=\"fill:none;stroke-width:1;stroke-linecap:butt;stroke-linejoin:miter;stroke:rgb(26.666667%,26.666667%,26.666667%);stroke-opacity:1;stroke-miterlimit:10;\" d=\"M 376.871094 253.753906 L 369.699219 564.289063 \"/>\n",
       "<path style=\"fill:none;stroke-width:1;stroke-linecap:butt;stroke-linejoin:miter;stroke:rgb(26.666667%,26.666667%,26.666667%);stroke-opacity:1;stroke-miterlimit:10;\" d=\"M 212.261719 401.375 L 369.699219 564.289063 \"/>\n",
       "<path style=\"fill:none;stroke-width:1;stroke-linecap:butt;stroke-linejoin:miter;stroke:rgb(26.666667%,26.666667%,26.666667%);stroke-opacity:1;stroke-miterlimit:10;\" d=\"M 580 269.667969 L 571.773438 580 \"/>\n",
       "<path style=\"fill:none;stroke-width:1;stroke-linecap:butt;stroke-linejoin:miter;stroke:rgb(26.666667%,26.666667%,26.666667%);stroke-opacity:1;stroke-miterlimit:10;\" d=\"M 369.699219 564.289063 L 571.773438 580 \"/>\n",
       "<path style=\"fill-rule:nonzero;fill:rgb(100%,0%,0%);fill-opacity:1;stroke-width:1;stroke-linecap:butt;stroke-linejoin:miter;stroke:rgb(0%,0%,0%);stroke-opacity:1;stroke-miterlimit:10;\" d=\"M 222.261719 401.375 C 222.261719 406.894531 217.785156 411.375 212.261719 411.375 C 206.738281 411.375 202.261719 406.894531 202.261719 401.375 C 202.261719 395.851563 206.738281 391.375 212.261719 391.375 C 217.785156 391.375 222.261719 395.851563 222.261719 401.375 \"/>\n",
       "<path style=\"fill-rule:nonzero;fill:rgb(100%,0%,0%);fill-opacity:1;stroke-width:1;stroke-linecap:butt;stroke-linejoin:miter;stroke:rgb(0%,0%,0%);stroke-opacity:1;stroke-miterlimit:10;\" d=\"M 30 424.304688 C 30 429.828125 25.523438 434.304688 20 434.304688 C 14.476563 434.304688 10 429.828125 10 424.304688 C 10 418.78125 14.476563 414.304688 20 414.304688 C 25.523438 414.304688 30 418.78125 30 424.304688 \"/>\n",
       "<path style=\"fill-rule:nonzero;fill:rgb(100%,0%,0%);fill-opacity:1;stroke-width:1;stroke-linecap:butt;stroke-linejoin:miter;stroke:rgb(0%,0%,0%);stroke-opacity:1;stroke-miterlimit:10;\" d=\"M 386.871094 253.753906 C 386.871094 259.277344 382.394531 263.753906 376.871094 263.753906 C 371.351563 263.753906 366.871094 259.277344 366.871094 253.753906 C 366.871094 248.230469 371.351563 243.753906 376.871094 243.753906 C 382.394531 243.753906 386.871094 248.230469 386.871094 253.753906 \"/>\n",
       "<path style=\"fill-rule:nonzero;fill:rgb(100%,0%,0%);fill-opacity:1;stroke-width:1;stroke-linecap:butt;stroke-linejoin:miter;stroke:rgb(0%,0%,0%);stroke-opacity:1;stroke-miterlimit:10;\" d=\"M 590 269.667969 C 590 275.191406 585.523438 279.667969 580 279.667969 C 574.476563 279.667969 570 275.191406 570 269.667969 C 570 264.144531 574.476563 259.667969 580 259.667969 C 585.523438 259.667969 590 264.144531 590 269.667969 \"/>\n",
       "<path style=\"fill-rule:nonzero;fill:rgb(100%,0%,0%);fill-opacity:1;stroke-width:1;stroke-linecap:butt;stroke-linejoin:miter;stroke:rgb(0%,0%,0%);stroke-opacity:1;stroke-miterlimit:10;\" d=\"M 500 20 C 500 25.523438 495.523438 30 490 30 C 484.476563 30 480 25.523438 480 20 C 480 14.476563 484.476563 10 490 10 C 495.523438 10 500 14.476563 500 20 \"/>\n",
       "<path style=\"fill-rule:nonzero;fill:rgb(100%,0%,0%);fill-opacity:1;stroke-width:1;stroke-linecap:butt;stroke-linejoin:miter;stroke:rgb(0%,0%,0%);stroke-opacity:1;stroke-miterlimit:10;\" d=\"M 379.699219 564.289063 C 379.699219 569.808594 375.222656 574.289063 369.699219 574.289063 C 364.175781 574.289063 359.699219 569.808594 359.699219 564.289063 C 359.699219 558.765625 364.175781 554.289063 369.699219 554.289063 C 375.222656 554.289063 379.699219 558.765625 379.699219 564.289063 \"/>\n",
       "<path style=\"fill-rule:nonzero;fill:rgb(100%,0%,0%);fill-opacity:1;stroke-width:1;stroke-linecap:butt;stroke-linejoin:miter;stroke:rgb(0%,0%,0%);stroke-opacity:1;stroke-miterlimit:10;\" d=\"M 581.773438 580 C 581.773438 585.523438 577.296875 590 571.773438 590 C 566.25 590 561.773438 585.523438 561.773438 580 C 561.773438 574.476563 566.25 570 571.773438 570 C 577.296875 570 581.773438 574.476563 581.773438 580 \"/>\n",
       "</g>\n",
       "</svg>\n"
      ],
      "text/plain": [
       "<igraph.drawing.Plot at 0x21d12347860>"
      ]
     },
     "execution_count": 244,
     "metadata": {},
     "output_type": "execute_result"
    }
   ],
   "source": [
    "plot(g, layout = layout)"
   ]
  },
  {
   "cell_type": "code",
   "execution_count": 245,
   "metadata": {},
   "outputs": [
    {
     "data": {
      "image/svg+xml": [
       "<?xml version=\"1.0\" encoding=\"UTF-8\"?>\n",
       "<svg xmlns=\"http://www.w3.org/2000/svg\" xmlns:xlink=\"http://www.w3.org/1999/xlink\" width=\"300pt\" height=\"300pt\" viewBox=\"0 0 300 300\" version=\"1.1\">\n",
       "<defs>\n",
       "<g>\n",
       "<symbol overflow=\"visible\" id=\"glyph0-0\">\n",
       "<path style=\"stroke:none;\" d=\"\"/>\n",
       "</symbol>\n",
       "<symbol overflow=\"visible\" id=\"glyph0-1\">\n",
       "<path style=\"stroke:none;\" d=\"M 4.429688 -3.71875 L 1.96875 -3.71875 L 1.476563 -1.640625 C 1.4375 -1.457031 1.417969 -1.308594 1.421875 -1.203125 C 1.417969 -1.054688 1.445313 -0.910156 1.503906 -0.765625 C 1.554688 -0.617188 1.710938 -0.542969 1.96875 -0.546875 L 2.132813 -0.546875 L 2.132813 -0.21875 L 0.109375 -0.21875 L 0.109375 -0.546875 L 0.273438 -0.546875 C 0.417969 -0.542969 0.546875 -0.589844 0.65625 -0.683594 C 0.765625 -0.773438 0.835938 -0.929688 0.875 -1.148438 L 3.007813 -9.515625 L 3.828125 -9.789063 L 5.90625 -1.148438 C 5.976563 -0.929688 6.066406 -0.773438 6.179688 -0.683594 C 6.285156 -0.589844 6.414063 -0.542969 6.5625 -0.546875 L 6.726563 -0.546875 L 6.726563 -0.21875 L 4.375 -0.21875 L 4.375 -0.546875 L 4.59375 -0.546875 C 4.8125 -0.542969 4.9375 -0.589844 4.976563 -0.683594 C 5.007813 -0.773438 5.027344 -0.855469 5.03125 -0.929688 C 5.027344 -1.074219 5.007813 -1.203125 4.976563 -1.3125 Z M 3.28125 -8.585938 L 3.226563 -8.585938 L 2.078125 -4.046875 L 4.375 -4.046875 Z M 3.28125 -8.585938 \"/>\n",
       "</symbol>\n",
       "<symbol overflow=\"visible\" id=\"glyph0-2\">\n",
       "<path style=\"stroke:none;\" d=\"M 2.023438 -9.570313 C 2.347656 -9.566406 2.660156 -9.605469 2.953125 -9.679688 C 3.242188 -9.75 3.515625 -9.859375 3.773438 -10.007813 L 3.882813 -10.007813 L 3.882813 -0.984375 C 3.878906 -0.835938 3.925781 -0.726563 4.019531 -0.65625 C 4.109375 -0.582031 4.226563 -0.542969 4.375 -0.546875 L 5.632813 -0.546875 L 5.632813 -0.21875 L 1.367188 -0.21875 L 1.367188 -0.546875 L 2.625 -0.546875 C 2.804688 -0.542969 2.929688 -0.582031 3.007813 -0.65625 C 3.078125 -0.726563 3.117188 -0.835938 3.117188 -0.984375 L 3.117188 -8.804688 C 3.117188 -8.949219 3.078125 -9.058594 3.007813 -9.132813 C 2.929688 -9.203125 2.804688 -9.238281 2.625 -9.242188 L 1.421875 -9.242188 L 1.421875 -9.570313 Z M 2.023438 -9.570313 \"/>\n",
       "</symbol>\n",
       "<symbol overflow=\"visible\" id=\"glyph0-3\">\n",
       "<path style=\"stroke:none;\" d=\"M 3.117188 -5.496094 C 3.117188 -5.640625 3.078125 -5.757813 3.007813 -5.847656 C 2.929688 -5.9375 2.804688 -5.980469 2.625 -5.984375 L 1.476563 -6.011719 L 1.476563 -6.34375 L 2.023438 -6.355469 C 2.347656 -6.34375 2.660156 -6.367188 2.953125 -6.425781 C 3.242188 -6.476563 3.515625 -6.578125 3.773438 -6.726563 L 3.882813 -6.726563 L 3.882813 -0.984375 C 3.878906 -0.835938 3.925781 -0.726563 4.019531 -0.65625 C 4.109375 -0.582031 4.226563 -0.542969 4.375 -0.546875 L 5.523438 -0.546875 L 5.523438 -0.21875 L 1.476563 -0.21875 L 1.476563 -0.546875 L 2.625 -0.546875 C 2.804688 -0.542969 2.929688 -0.582031 3.007813 -0.65625 C 3.078125 -0.726563 3.117188 -0.832031 3.117188 -0.980469 Z M 3.554688 -9.679688 C 3.734375 -9.679688 3.898438 -9.613281 4.046875 -9.488281 C 4.191406 -9.355469 4.265625 -9.203125 4.265625 -9.023438 C 4.265625 -8.839844 4.191406 -8.675781 4.046875 -8.53125 C 3.898438 -8.382813 3.734375 -8.308594 3.554688 -8.3125 C 3.371094 -8.308594 3.207031 -8.382813 3.0625 -8.53125 C 2.914063 -8.675781 2.839844 -8.839844 2.84375 -9.023438 C 2.839844 -9.203125 2.914063 -9.355469 3.0625 -9.488281 C 3.207031 -9.613281 3.371094 -9.679688 3.554688 -9.679688 Z M 3.554688 -9.679688 \"/>\n",
       "</symbol>\n",
       "<symbol overflow=\"visible\" id=\"glyph0-4\">\n",
       "<path style=\"stroke:none;\" d=\"M 4.703125 -4.867188 C 4.699219 -4.972656 4.71875 -5.046875 4.757813 -5.085938 C 4.757813 -5.121094 4.773438 -5.191406 4.8125 -5.304688 C 4.84375 -5.445313 4.773438 -5.621094 4.59375 -5.824219 C 4.410156 -6.023438 4.097656 -6.121094 3.664063 -6.125 C 3.113281 -6.121094 2.648438 -5.859375 2.269531 -5.332031 C 1.882813 -4.800781 1.691406 -4.097656 1.695313 -3.226563 C 1.691406 -2.421875 1.855469 -1.773438 2.1875 -1.285156 C 2.511719 -0.789063 3.058594 -0.542969 3.828125 -0.546875 C 4.335938 -0.542969 4.765625 -0.707031 5.113281 -1.039063 C 5.457031 -1.363281 5.703125 -1.746094 5.851563 -2.1875 L 6.125 -2.078125 C 5.976563 -1.527344 5.703125 -1.0625 5.304688 -0.683594 C 4.898438 -0.296875 4.351563 -0.105469 3.664063 -0.109375 C 2.785156 -0.105469 2.09375 -0.378906 1.585938 -0.929688 C 1.074219 -1.472656 0.820313 -2.257813 0.820313 -3.28125 C 0.820313 -4.191406 1.09375 -4.945313 1.640625 -5.550781 C 2.1875 -6.148438 2.898438 -6.449219 3.773438 -6.453125 C 4.390625 -6.449219 4.871094 -6.285156 5.222656 -5.960938 C 5.566406 -5.628906 5.742188 -5.300781 5.742188 -4.976563 C 5.742188 -4.753906 5.695313 -4.601563 5.605469 -4.511719 C 5.511719 -4.417969 5.375 -4.371094 5.195313 -4.375 C 5.046875 -4.371094 4.929688 -4.417969 4.839844 -4.511719 C 4.746094 -4.601563 4.699219 -4.71875 4.703125 -4.867188 Z M 4.703125 -4.867188 \"/>\n",
       "</symbol>\n",
       "<symbol overflow=\"visible\" id=\"glyph0-5\">\n",
       "<path style=\"stroke:none;\" d=\"M 5.25 -3.609375 C 5.285156 -4.410156 5.148438 -5.019531 4.839844 -5.441406 C 4.527344 -5.859375 4.117188 -6.070313 3.609375 -6.070313 C 3.0625 -6.070313 2.613281 -5.851563 2.269531 -5.414063 C 1.917969 -4.976563 1.746094 -4.375 1.75 -3.609375 Z M 1.75 -3.28125 C 1.746094 -2.296875 1.9375 -1.59375 2.324219 -1.175781 C 2.703125 -0.753906 3.203125 -0.542969 3.828125 -0.546875 C 4.296875 -0.542969 4.699219 -0.679688 5.03125 -0.957031 C 5.355469 -1.226563 5.59375 -1.566406 5.742188 -1.96875 L 6.015625 -1.859375 C 5.902344 -1.453125 5.65625 -1.0625 5.277344 -0.683594 C 4.890625 -0.296875 4.371094 -0.105469 3.71875 -0.109375 C 2.878906 -0.105469 2.195313 -0.378906 1.667969 -0.929688 C 1.136719 -1.472656 0.871094 -2.257813 0.875 -3.28125 C 0.871094 -4.191406 1.136719 -4.945313 1.667969 -5.550781 C 2.195313 -6.148438 2.84375 -6.449219 3.609375 -6.453125 C 4.300781 -6.449219 4.902344 -6.214844 5.414063 -5.742188 C 5.921875 -5.265625 6.175781 -4.445313 6.179688 -3.28125 Z M 1.75 -3.28125 \"/>\n",
       "</symbol>\n",
       "<symbol overflow=\"visible\" id=\"glyph0-6\">\n",
       "<path style=\"stroke:none;\" d=\"M 0.21875 -0.21875 L 0.21875 -0.546875 L 0.65625 -0.546875 C 0.835938 -0.542969 0.960938 -0.582031 1.039063 -0.65625 C 1.109375 -0.726563 1.148438 -0.835938 1.148438 -0.984375 L 1.148438 -8.804688 C 1.148438 -8.949219 1.109375 -9.058594 1.039063 -9.132813 C 0.960938 -9.203125 0.835938 -9.238281 0.65625 -9.242188 L 0.328125 -9.242188 L 0.328125 -9.570313 L 3.5 -9.570313 C 4.371094 -9.566406 5.019531 -9.394531 5.441406 -9.050781 C 5.859375 -8.703125 6.070313 -8.164063 6.070313 -7.4375 C 6.070313 -6.921875 5.960938 -6.503906 5.742188 -6.179688 C 5.523438 -5.847656 5.066406 -5.554688 4.375 -5.304688 C 5.210938 -5.046875 5.777344 -4.683594 6.070313 -4.210938 C 6.359375 -3.734375 6.503906 -3.207031 6.507813 -2.625 C 6.503906 -1.894531 6.25 -1.308594 5.742188 -0.875 C 5.230469 -0.433594 4.535156 -0.214844 3.664063 -0.21875 Z M 3.5 -0.546875 C 4.117188 -0.542969 4.601563 -0.734375 4.949219 -1.121094 C 5.292969 -1.5 5.464844 -2.039063 5.46875 -2.734375 C 5.464844 -3.535156 5.285156 -4.128906 4.921875 -4.511719 C 4.554688 -4.894531 4.007813 -5.085938 3.28125 -5.085938 L 2.023438 -5.085938 L 2.023438 -0.984375 C 2.019531 -0.835938 2.066406 -0.726563 2.160156 -0.65625 C 2.25 -0.582031 2.367188 -0.542969 2.515625 -0.546875 Z M 5.140625 -7.4375 C 5.136719 -8.089844 4.957031 -8.554688 4.59375 -8.832031 C 4.226563 -9.101563 3.75 -9.238281 3.171875 -9.242188 L 2.515625 -9.242188 C 2.367188 -9.238281 2.25 -9.203125 2.160156 -9.132813 C 2.066406 -9.058594 2.019531 -8.949219 2.023438 -8.804688 L 2.023438 -5.414063 L 3.445313 -5.414063 C 3.84375 -5.414063 4.226563 -5.578125 4.59375 -5.90625 C 4.957031 -6.234375 5.136719 -6.742188 5.140625 -7.4375 Z M 5.140625 -7.4375 \"/>\n",
       "</symbol>\n",
       "<symbol overflow=\"visible\" id=\"glyph0-7\">\n",
       "<path style=\"stroke:none;\" d=\"M 6.34375 -3.28125 C 6.339844 -2.367188 6.066406 -1.609375 5.523438 -1.011719 C 4.972656 -0.40625 4.296875 -0.105469 3.5 -0.109375 C 2.65625 -0.105469 1.972656 -0.414063 1.449219 -1.039063 C 0.917969 -1.65625 0.65625 -2.40625 0.65625 -3.28125 C 0.65625 -4.082031 0.917969 -4.808594 1.449219 -5.46875 C 1.972656 -6.121094 2.65625 -6.449219 3.5 -6.453125 C 4.371094 -6.449219 5.066406 -6.121094 5.578125 -5.46875 C 6.085938 -4.808594 6.339844 -4.082031 6.34375 -3.28125 Z M 1.53125 -3.226563 C 1.527344 -2.277344 1.71875 -1.574219 2.105469 -1.121094 C 2.484375 -0.660156 2.949219 -0.433594 3.5 -0.4375 C 4.117188 -0.433594 4.601563 -0.679688 4.949219 -1.175781 C 5.292969 -1.664063 5.464844 -2.347656 5.46875 -3.226563 C 5.464844 -4.171875 5.273438 -4.890625 4.894531 -5.386719 C 4.507813 -5.875 4.042969 -6.121094 3.5 -6.125 C 2.984375 -6.121094 2.53125 -5.875 2.132813 -5.386719 C 1.730469 -4.890625 1.527344 -4.171875 1.53125 -3.226563 Z M 1.53125 -3.226563 \"/>\n",
       "</symbol>\n",
       "<symbol overflow=\"visible\" id=\"glyph0-8\">\n",
       "<path style=\"stroke:none;\" d=\"M 1.914063 -5.085938 C 2.09375 -5.484375 2.386719 -5.800781 2.789063 -6.042969 C 3.1875 -6.277344 3.570313 -6.398438 3.9375 -6.398438 C 4.703125 -6.398438 5.277344 -6.132813 5.660156 -5.605469 C 6.042969 -5.074219 6.234375 -4.300781 6.234375 -3.28125 C 6.234375 -2.257813 5.988281 -1.480469 5.496094 -0.957031 C 5.003906 -0.425781 4.390625 -0.164063 3.664063 -0.164063 C 3.296875 -0.164063 2.960938 -0.226563 2.652344 -0.355469 C 2.339844 -0.480469 2.074219 -0.652344 1.859375 -0.875 L 1.367188 -0.21875 L 1.148438 -0.21875 L 1.148438 -8.804688 C 1.148438 -8.949219 1.109375 -9.058594 1.039063 -9.132813 C 0.960938 -9.203125 0.835938 -9.238281 0.65625 -9.242188 L 0.328125 -9.242188 L 0.328125 -9.570313 L 0.820313 -9.570313 C 1 -9.566406 1.179688 -9.605469 1.367188 -9.679688 C 1.546875 -9.75 1.730469 -9.859375 1.914063 -10.007813 Z M 1.914063 -2.023438 C 1.910156 -1.617188 2.046875 -1.273438 2.324219 -0.984375 C 2.59375 -0.691406 3.003906 -0.542969 3.554688 -0.546875 C 4.207031 -0.542969 4.671875 -0.773438 4.949219 -1.230469 C 5.21875 -1.683594 5.355469 -2.367188 5.359375 -3.28125 C 5.355469 -4.15625 5.238281 -4.820313 5.003906 -5.277344 C 4.765625 -5.730469 4.390625 -5.957031 3.882813 -5.960938 C 3.441406 -5.957031 3.058594 -5.832031 2.734375 -5.578125 C 2.402344 -5.320313 2.128906 -4.863281 1.914063 -4.210938 Z M 1.914063 -2.023438 \"/>\n",
       "</symbol>\n",
       "<symbol overflow=\"visible\" id=\"glyph0-9\">\n",
       "<path style=\"stroke:none;\" d=\"M 3.773438 -0.109375 C 2.75 -0.105469 1.9375 -0.488281 1.339844 -1.257813 C 0.734375 -2.019531 0.433594 -3.222656 0.4375 -4.867188 C 0.433594 -6.25 0.753906 -7.398438 1.394531 -8.3125 C 2.03125 -9.222656 2.894531 -9.679688 3.992188 -9.679688 C 4.242188 -9.679688 4.5 -9.640625 4.757813 -9.570313 C 5.011719 -9.457031 5.230469 -9.402344 5.414063 -9.40625 C 5.558594 -9.402344 5.675781 -9.421875 5.769531 -9.460938 C 5.859375 -9.496094 5.941406 -9.570313 6.015625 -9.679688 L 6.507813 -7.273438 L 6.179688 -7.164063 C 5.957031 -7.855469 5.664063 -8.382813 5.304688 -8.75 C 4.9375 -9.109375 4.464844 -9.292969 3.882813 -9.296875 C 3.113281 -9.292969 2.519531 -8.875 2.105469 -8.039063 C 1.683594 -7.199219 1.476563 -6.160156 1.476563 -4.921875 C 1.476563 -3.570313 1.65625 -2.511719 2.023438 -1.75 C 2.382813 -0.980469 2.984375 -0.597656 3.828125 -0.601563 C 4.40625 -0.597656 4.910156 -0.808594 5.332031 -1.230469 C 5.75 -1.648438 6.03125 -2.203125 6.179688 -2.898438 L 6.507813 -2.734375 C 6.324219 -1.964844 5.988281 -1.335938 5.496094 -0.847656 C 5.003906 -0.351563 4.429688 -0.105469 3.773438 -0.109375 Z M 3.773438 -0.109375 \"/>\n",
       "</symbol>\n",
       "<symbol overflow=\"visible\" id=\"glyph0-10\">\n",
       "<path style=\"stroke:none;\" d=\"M 2.679688 -0.164063 C 2.019531 -0.164063 1.511719 -0.316406 1.148438 -0.628906 C 0.78125 -0.933594 0.597656 -1.289063 0.601563 -1.695313 C 0.597656 -2.347656 0.878906 -2.886719 1.449219 -3.308594 C 2.011719 -3.726563 3.132813 -4.027344 4.8125 -4.210938 L 4.8125 -4.867188 C 4.808594 -5.230469 4.726563 -5.53125 4.566406 -5.769531 C 4.398438 -6.003906 4.027344 -6.121094 3.445313 -6.125 C 2.824219 -6.121094 2.386719 -6.023438 2.132813 -5.824219 C 1.875 -5.621094 1.78125 -5.410156 1.859375 -5.195313 C 1.890625 -5.121094 1.910156 -5.046875 1.914063 -4.976563 C 1.910156 -4.898438 1.882813 -4.808594 1.832031 -4.703125 C 1.773438 -4.589844 1.636719 -4.535156 1.421875 -4.539063 C 1.273438 -4.535156 1.15625 -4.582031 1.066406 -4.675781 C 0.972656 -4.765625 0.925781 -4.902344 0.929688 -5.085938 C 0.925781 -5.414063 1.164063 -5.722656 1.640625 -6.015625 C 2.113281 -6.304688 2.695313 -6.449219 3.390625 -6.453125 C 4.117188 -6.449219 4.664063 -6.3125 5.03125 -6.042969 C 5.394531 -5.765625 5.578125 -5.375 5.578125 -4.867188 L 5.578125 -1.257813 C 5.578125 -0.964844 5.605469 -0.792969 5.660156 -0.738281 C 5.714844 -0.683594 5.8125 -0.65625 5.960938 -0.65625 C 6.140625 -0.65625 6.269531 -0.738281 6.34375 -0.902344 C 6.414063 -1.066406 6.449219 -1.292969 6.453125 -1.585938 L 6.726563 -1.585938 C 6.726563 -1.074219 6.632813 -0.71875 6.453125 -0.519531 C 6.265625 -0.316406 6.03125 -0.214844 5.742188 -0.21875 C 5.484375 -0.214844 5.28125 -0.269531 5.140625 -0.382813 C 4.992188 -0.488281 4.882813 -0.671875 4.8125 -0.929688 C 4.445313 -0.671875 4.109375 -0.480469 3.800781 -0.355469 C 3.488281 -0.226563 3.113281 -0.164063 2.679688 -0.164063 Z M 1.53125 -1.859375 C 1.527344 -1.527344 1.628906 -1.226563 1.832031 -0.957031 C 2.03125 -0.679688 2.351563 -0.542969 2.789063 -0.546875 C 3.117188 -0.542969 3.445313 -0.609375 3.773438 -0.738281 C 4.101563 -0.863281 4.445313 -1.054688 4.8125 -1.3125 L 4.8125 -3.882813 C 3.570313 -3.734375 2.714844 -3.488281 2.242188 -3.144531 C 1.765625 -2.796875 1.527344 -2.367188 1.53125 -1.859375 Z M 1.53125 -1.859375 \"/>\n",
       "</symbol>\n",
       "<symbol overflow=\"visible\" id=\"glyph0-11\">\n",
       "<path style=\"stroke:none;\" d=\"M 2.789063 -4.648438 C 3.152344 -5.226563 3.542969 -5.675781 3.964844 -5.988281 C 4.382813 -6.296875 4.8125 -6.449219 5.25 -6.453125 C 5.613281 -6.449219 5.894531 -6.367188 6.097656 -6.207031 C 6.296875 -6.039063 6.398438 -5.847656 6.398438 -5.632813 C 6.398438 -5.445313 6.351563 -5.300781 6.261719 -5.195313 C 6.167969 -5.082031 6.03125 -5.027344 5.851563 -5.03125 C 5.667969 -5.027344 5.53125 -5.082031 5.441406 -5.195313 C 5.347656 -5.300781 5.320313 -5.445313 5.359375 -5.632813 C 5.355469 -5.738281 5.335938 -5.832031 5.304688 -5.90625 C 5.265625 -5.976563 5.15625 -6.011719 4.976563 -6.015625 C 4.679688 -6.011719 4.324219 -5.828125 3.910156 -5.46875 C 3.488281 -5.101563 3.117188 -4.59375 2.789063 -3.9375 L 2.789063 -0.984375 C 2.789063 -0.835938 2.832031 -0.726563 2.925781 -0.65625 C 3.011719 -0.582031 3.132813 -0.542969 3.28125 -0.546875 L 4.484375 -0.546875 L 4.484375 -0.21875 L 0.4375 -0.21875 L 0.4375 -0.546875 L 1.53125 -0.546875 C 1.710938 -0.542969 1.839844 -0.582031 1.914063 -0.65625 C 1.984375 -0.726563 2.019531 -0.835938 2.023438 -0.984375 L 2.023438 -5.523438 C 2.019531 -5.667969 1.984375 -5.785156 1.914063 -5.878906 C 1.839844 -5.964844 1.710938 -6.011719 1.53125 -6.015625 L 0.492188 -6.015625 L 0.492188 -6.34375 L 0.929688 -6.34375 C 1.183594 -6.339844 1.484375 -6.367188 1.832031 -6.425781 C 2.175781 -6.476563 2.441406 -6.539063 2.625 -6.617188 L 2.789063 -6.617188 Z M 2.789063 -4.648438 \"/>\n",
       "</symbol>\n",
       "<symbol overflow=\"visible\" id=\"glyph0-12\">\n",
       "<path style=\"stroke:none;\" d=\"M 5.46875 -4.976563 C 5.464844 -6.539063 5.230469 -7.644531 4.757813 -8.285156 C 4.28125 -8.921875 3.625 -9.238281 2.789063 -9.242188 C 2.53125 -9.238281 2.339844 -9.203125 2.214844 -9.132813 C 2.085938 -9.058594 2.019531 -8.949219 2.023438 -8.804688 L 2.023438 -0.984375 C 2.019531 -0.835938 2.074219 -0.726563 2.1875 -0.65625 C 2.292969 -0.582031 2.441406 -0.542969 2.625 -0.546875 C 3.425781 -0.542969 4.097656 -0.84375 4.648438 -1.449219 C 5.191406 -2.046875 5.464844 -3.222656 5.46875 -4.976563 Z M 1.148438 -8.804688 C 1.148438 -8.949219 1.109375 -9.058594 1.039063 -9.132813 C 0.960938 -9.203125 0.835938 -9.238281 0.65625 -9.242188 L 0.328125 -9.242188 L 0.328125 -9.570313 L 2.789063 -9.570313 C 3.917969 -9.566406 4.820313 -9.203125 5.496094 -8.476563 C 6.167969 -7.746094 6.503906 -6.617188 6.507813 -5.085938 C 6.503906 -3.40625 6.175781 -2.175781 5.523438 -1.394531 C 4.863281 -0.609375 3.898438 -0.214844 2.625 -0.21875 L 0.273438 -0.21875 L 0.273438 -0.546875 L 0.65625 -0.546875 C 0.835938 -0.542969 0.960938 -0.582031 1.039063 -0.65625 C 1.109375 -0.726563 1.148438 -0.835938 1.148438 -0.984375 Z M 1.148438 -8.804688 \"/>\n",
       "</symbol>\n",
       "<symbol overflow=\"visible\" id=\"glyph0-13\">\n",
       "<path style=\"stroke:none;\" d=\"M 0.4375 -0.21875 L 0.4375 -0.546875 L 0.710938 -0.546875 C 0.890625 -0.542969 1.019531 -0.582031 1.09375 -0.65625 C 1.164063 -0.726563 1.199219 -0.835938 1.203125 -0.984375 L 1.203125 -5.6875 C 1.199219 -5.792969 1.183594 -5.875 1.148438 -5.933594 C 1.109375 -5.984375 1.035156 -6.011719 0.929688 -6.015625 L 0.492188 -6.015625 L 0.492188 -6.34375 L 0.875 -6.34375 C 1.054688 -6.339844 1.230469 -6.359375 1.394531 -6.398438 C 1.558594 -6.433594 1.710938 -6.503906 1.859375 -6.617188 L 1.96875 -6.617188 L 1.96875 -5.359375 C 2.296875 -5.722656 2.625 -5.996094 2.953125 -6.179688 C 3.28125 -6.359375 3.625 -6.449219 3.992188 -6.453125 C 4.609375 -6.449219 5.066406 -6.285156 5.359375 -5.960938 C 5.648438 -5.628906 5.792969 -5.136719 5.796875 -4.484375 L 5.796875 -0.984375 C 5.792969 -0.835938 5.839844 -0.726563 5.933594 -0.65625 C 6.023438 -0.582031 6.140625 -0.542969 6.289063 -0.546875 L 6.5625 -0.546875 L 6.5625 -0.21875 L 4.265625 -0.21875 L 4.265625 -0.546875 L 4.539063 -0.546875 C 4.71875 -0.542969 4.847656 -0.582031 4.921875 -0.65625 C 4.992188 -0.726563 5.027344 -0.835938 5.03125 -0.984375 L 5.03125 -4.648438 C 5.027344 -5.082031 4.9375 -5.421875 4.757813 -5.660156 C 4.574219 -5.894531 4.300781 -6.011719 3.9375 -6.015625 C 3.609375 -6.011719 3.269531 -5.902344 2.925781 -5.6875 C 2.574219 -5.464844 2.257813 -5.15625 1.96875 -4.757813 L 1.96875 -0.984375 C 1.96875 -0.835938 2.011719 -0.726563 2.105469 -0.65625 C 2.191406 -0.582031 2.3125 -0.542969 2.460938 -0.546875 L 2.734375 -0.546875 L 2.734375 -0.21875 Z M 0.4375 -0.21875 \"/>\n",
       "</symbol>\n",
       "<symbol overflow=\"visible\" id=\"glyph0-14\">\n",
       "<path style=\"stroke:none;\" d=\"M 1.367188 -4.757813 C 1.363281 -5.304688 1.574219 -5.722656 1.996094 -6.015625 C 2.414063 -6.304688 2.914063 -6.449219 3.5 -6.453125 C 3.824219 -6.449219 4.136719 -6.414063 4.429688 -6.34375 C 4.71875 -6.230469 4.917969 -6.175781 5.03125 -6.179688 C 5.136719 -6.175781 5.226563 -6.195313 5.304688 -6.234375 C 5.375 -6.269531 5.46875 -6.339844 5.578125 -6.453125 L 5.796875 -4.648438 L 5.46875 -4.59375 C 5.320313 -5.066406 5.074219 -5.4375 4.730469 -5.714844 C 4.378906 -5.984375 3.988281 -6.121094 3.554688 -6.125 C 3.078125 -6.121094 2.703125 -6.03125 2.433594 -5.851563 C 2.15625 -5.667969 2.019531 -5.414063 2.023438 -5.085938 C 2.019531 -4.792969 2.085938 -4.5625 2.214844 -4.402344 C 2.339844 -4.234375 2.566406 -4.117188 2.898438 -4.046875 C 3.152344 -3.933594 3.480469 -3.824219 3.882813 -3.71875 C 4.246094 -3.570313 4.59375 -3.425781 4.921875 -3.28125 C 5.210938 -3.132813 5.457031 -2.941406 5.660156 -2.707031 C 5.859375 -2.46875 5.957031 -2.203125 5.960938 -1.914063 C 5.957031 -1.363281 5.765625 -0.933594 5.386719 -0.628906 C 5 -0.316406 4.445313 -0.164063 3.71875 -0.164063 C 3.242188 -0.164063 2.894531 -0.21875 2.679688 -0.328125 C 2.421875 -0.398438 2.222656 -0.433594 2.078125 -0.4375 C 1.964844 -0.433594 1.847656 -0.40625 1.722656 -0.355469 C 1.59375 -0.296875 1.457031 -0.234375 1.3125 -0.164063 L 1.148438 -2.1875 L 1.476563 -2.242188 C 1.585938 -1.65625 1.820313 -1.21875 2.1875 -0.929688 C 2.546875 -0.636719 3.058594 -0.492188 3.71875 -0.492188 C 4.226563 -0.492188 4.617188 -0.582031 4.894531 -0.765625 C 5.164063 -0.945313 5.300781 -1.21875 5.304688 -1.585938 C 5.300781 -1.839844 5.230469 -2.050781 5.085938 -2.214844 C 4.9375 -2.378906 4.789063 -2.496094 4.648438 -2.570313 C 4.28125 -2.714844 3.882813 -2.878906 3.445313 -3.0625 C 3.007813 -3.207031 2.625 -3.351563 2.296875 -3.5 C 1.96875 -3.640625 1.730469 -3.824219 1.585938 -4.046875 C 1.4375 -4.261719 1.363281 -4.5 1.367188 -4.757813 Z M 1.367188 -4.757813 \"/>\n",
       "</symbol>\n",
       "<symbol overflow=\"visible\" id=\"glyph0-15\">\n",
       "<path style=\"stroke:none;\" d=\"M 0.4375 -9.242188 L 0.4375 -9.570313 L 5.796875 -9.570313 L 6.398438 -7.710938 L 6.125 -7.601563 C 5.828125 -8.144531 5.519531 -8.554688 5.195313 -8.832031 C 4.863281 -9.101563 4.5 -9.238281 4.101563 -9.242188 L 2.570313 -9.242188 C 2.421875 -9.238281 2.304688 -9.203125 2.214844 -9.132813 C 2.121094 -9.058594 2.074219 -8.949219 2.078125 -8.804688 L 2.078125 -5.414063 L 3.664063 -5.414063 C 4.023438 -5.414063 4.289063 -5.503906 4.457031 -5.6875 C 4.617188 -5.867188 4.699219 -6.140625 4.703125 -6.507813 L 4.703125 -6.835938 L 5.03125 -6.835938 L 5.03125 -3.609375 L 4.703125 -3.609375 L 4.703125 -3.828125 C 4.699219 -4.226563 4.617188 -4.539063 4.457031 -4.757813 C 4.289063 -4.976563 4.023438 -5.085938 3.664063 -5.085938 L 2.078125 -5.085938 L 2.078125 -0.984375 C 2.074219 -0.835938 2.121094 -0.726563 2.214844 -0.65625 C 2.304688 -0.582031 2.421875 -0.542969 2.570313 -0.546875 L 3.992188 -0.546875 C 4.535156 -0.542969 5 -0.699219 5.386719 -1.011719 C 5.765625 -1.320313 6.066406 -1.804688 6.289063 -2.460938 L 6.5625 -2.351563 L 5.960938 -0.21875 L 0.382813 -0.21875 L 0.382813 -0.546875 L 0.710938 -0.546875 C 0.890625 -0.542969 1.019531 -0.582031 1.09375 -0.65625 C 1.164063 -0.726563 1.199219 -0.835938 1.203125 -0.984375 L 1.203125 -8.804688 C 1.199219 -8.949219 1.164063 -9.058594 1.09375 -9.132813 C 1.019531 -9.203125 0.890625 -9.238281 0.710938 -9.242188 Z M 0.4375 -9.242188 \"/>\n",
       "</symbol>\n",
       "<symbol overflow=\"visible\" id=\"glyph0-16\">\n",
       "<path style=\"stroke:none;\" d=\"M 3.28125 -1.96875 C 3.28125 -1.457031 3.371094 -1.109375 3.554688 -0.929688 C 3.734375 -0.746094 4.007813 -0.65625 4.375 -0.65625 C 4.738281 -0.65625 5.03125 -0.773438 5.25 -1.011719 C 5.46875 -1.246094 5.613281 -1.582031 5.6875 -2.023438 L 5.960938 -1.914063 C 5.882813 -1.402344 5.691406 -0.984375 5.386719 -0.65625 C 5.074219 -0.328125 4.664063 -0.164063 4.15625 -0.164063 C 3.605469 -0.164063 3.195313 -0.328125 2.925781 -0.65625 C 2.648438 -0.984375 2.511719 -1.492188 2.515625 -2.1875 L 2.515625 -6.015625 L 0.875 -6.015625 L 0.875 -6.34375 L 1.3125 -6.34375 C 1.75 -6.339844 2.105469 -6.476563 2.378906 -6.753906 C 2.652344 -7.023438 2.824219 -7.453125 2.898438 -8.039063 L 2.953125 -8.476563 L 3.28125 -8.476563 L 3.28125 -6.34375 L 5.46875 -6.34375 L 5.46875 -6.015625 L 3.28125 -6.015625 Z M 3.28125 -1.96875 \"/>\n",
       "</symbol>\n",
       "<symbol overflow=\"visible\" id=\"glyph0-17\">\n",
       "<path style=\"stroke:none;\" d=\"M 0.4375 -0.21875 L 0.4375 -0.546875 L 0.710938 -0.546875 C 0.890625 -0.542969 1.019531 -0.582031 1.09375 -0.65625 C 1.164063 -0.726563 1.199219 -0.835938 1.203125 -0.984375 L 1.203125 -8.804688 C 1.199219 -8.949219 1.164063 -9.058594 1.09375 -9.132813 C 1.019531 -9.203125 0.890625 -9.238281 0.710938 -9.242188 L 0.382813 -9.242188 L 0.382813 -9.570313 L 0.984375 -9.570313 C 1.128906 -9.566406 1.273438 -9.605469 1.421875 -9.679688 C 1.566406 -9.75 1.710938 -9.859375 1.859375 -10.007813 L 1.96875 -10.007813 L 1.96875 -5.359375 C 2.296875 -5.757813 2.632813 -6.039063 2.980469 -6.207031 C 3.324219 -6.367188 3.699219 -6.449219 4.101563 -6.453125 C 4.648438 -6.449219 5.066406 -6.296875 5.359375 -5.988281 C 5.648438 -5.675781 5.792969 -5.191406 5.796875 -4.539063 L 5.796875 -0.984375 C 5.792969 -0.835938 5.839844 -0.726563 5.933594 -0.65625 C 6.023438 -0.582031 6.140625 -0.542969 6.289063 -0.546875 L 6.5625 -0.546875 L 6.5625 -0.21875 L 4.265625 -0.21875 L 4.265625 -0.546875 L 4.539063 -0.546875 C 4.71875 -0.542969 4.847656 -0.582031 4.921875 -0.65625 C 4.992188 -0.726563 5.027344 -0.835938 5.03125 -0.984375 L 5.03125 -4.429688 C 5.027344 -5.046875 4.925781 -5.457031 4.730469 -5.660156 C 4.527344 -5.859375 4.265625 -5.957031 3.9375 -5.960938 C 3.644531 -5.957031 3.324219 -5.867188 2.980469 -5.6875 C 2.632813 -5.503906 2.296875 -5.195313 1.96875 -4.757813 L 1.96875 -0.984375 C 1.96875 -0.835938 2.011719 -0.726563 2.105469 -0.65625 C 2.191406 -0.582031 2.3125 -0.542969 2.460938 -0.546875 L 2.734375 -0.546875 L 2.734375 -0.21875 Z M 0.4375 -0.21875 \"/>\n",
       "</symbol>\n",
       "<symbol overflow=\"visible\" id=\"glyph0-18\">\n",
       "<path style=\"stroke:none;\" d=\"M 2.953125 -0.546875 L 2.953125 -0.21875 L 0.328125 -0.21875 L 0.328125 -0.546875 L 0.710938 -0.546875 C 0.890625 -0.542969 1.019531 -0.582031 1.09375 -0.65625 C 1.164063 -0.726563 1.199219 -0.835938 1.203125 -0.984375 L 1.203125 -8.804688 C 1.199219 -8.949219 1.164063 -9.058594 1.09375 -9.132813 C 1.019531 -9.203125 0.890625 -9.238281 0.710938 -9.242188 L 0.382813 -9.242188 L 0.382813 -9.570313 L 6.070313 -9.570313 L 6.726563 -7.601563 L 6.453125 -7.492188 C 6.15625 -8.074219 5.8125 -8.511719 5.414063 -8.804688 C 5.011719 -9.09375 4.574219 -9.238281 4.101563 -9.242188 L 2.570313 -9.242188 C 2.421875 -9.238281 2.304688 -9.203125 2.214844 -9.132813 C 2.121094 -9.058594 2.074219 -8.949219 2.078125 -8.804688 L 2.078125 -5.304688 L 3.882813 -5.304688 C 4.246094 -5.300781 4.511719 -5.382813 4.675781 -5.550781 C 4.839844 -5.710938 4.921875 -5.976563 4.921875 -6.34375 L 4.921875 -6.617188 L 5.25 -6.617188 L 5.25 -3.445313 L 4.921875 -3.445313 L 4.921875 -3.664063 C 4.921875 -4.097656 4.839844 -4.425781 4.675781 -4.648438 C 4.511719 -4.863281 4.246094 -4.972656 3.882813 -4.976563 L 2.078125 -4.976563 L 2.078125 -0.984375 C 2.074219 -0.835938 2.121094 -0.726563 2.214844 -0.65625 C 2.304688 -0.582031 2.421875 -0.542969 2.570313 -0.546875 Z M 2.953125 -0.546875 \"/>\n",
       "</symbol>\n",
       "<symbol overflow=\"visible\" id=\"glyph0-19\">\n",
       "<path style=\"stroke:none;\" d=\"M 3.664063 -4.15625 L 5.742188 -0.929688 C 5.851563 -0.78125 5.949219 -0.679688 6.042969 -0.628906 C 6.128906 -0.570313 6.230469 -0.542969 6.34375 -0.546875 L 6.5625 -0.546875 L 6.5625 -0.21875 L 4.320313 -0.21875 L 4.320313 -0.546875 L 4.484375 -0.546875 C 4.664063 -0.542969 4.792969 -0.570313 4.867188 -0.628906 C 4.9375 -0.679688 4.917969 -0.78125 4.8125 -0.929688 L 3.117188 -3.570313 L 2.023438 -2.460938 L 2.023438 -0.984375 C 2.019531 -0.835938 2.066406 -0.726563 2.160156 -0.65625 C 2.25 -0.582031 2.367188 -0.542969 2.515625 -0.546875 L 2.789063 -0.546875 L 2.789063 -0.21875 L 0.492188 -0.21875 L 0.492188 -0.546875 L 0.765625 -0.546875 C 0.945313 -0.542969 1.074219 -0.582031 1.148438 -0.65625 C 1.21875 -0.726563 1.253906 -0.835938 1.257813 -0.984375 L 1.257813 -8.804688 C 1.253906 -8.949219 1.21875 -9.058594 1.148438 -9.132813 C 1.074219 -9.203125 0.945313 -9.238281 0.765625 -9.242188 L 0.4375 -9.242188 L 0.4375 -9.570313 L 0.929688 -9.570313 C 1.144531 -9.566406 1.335938 -9.605469 1.503906 -9.679688 C 1.664063 -9.75 1.800781 -9.859375 1.914063 -10.007813 L 2.023438 -10.007813 L 2.023438 -3.0625 L 4.320313 -5.523438 C 4.390625 -5.667969 4.417969 -5.785156 4.402344 -5.878906 C 4.378906 -5.964844 4.296875 -6.011719 4.15625 -6.015625 L 3.828125 -6.015625 L 3.828125 -6.34375 L 6.125 -6.34375 L 6.125 -6.015625 L 5.851563 -6.015625 C 5.738281 -6.011719 5.601563 -5.984375 5.441406 -5.933594 C 5.273438 -5.875 5.117188 -5.773438 4.976563 -5.632813 Z M 3.664063 -4.15625 \"/>\n",
       "</symbol>\n",
       "<symbol overflow=\"visible\" id=\"glyph0-20\">\n",
       "<path style=\"stroke:none;\" d=\"M 3.554688 -9.296875 C 3.003906 -9.292969 2.503906 -8.917969 2.050781 -8.175781 C 1.59375 -7.425781 1.363281 -6.289063 1.367188 -4.757813 C 1.363281 -3.734375 1.539063 -2.765625 1.886719 -1.859375 C 2.230469 -0.945313 2.804688 -0.492188 3.609375 -0.492188 C 4.007813 -0.492188 4.324219 -0.574219 4.566406 -0.738281 C 4.800781 -0.902344 4.9375 -1.148438 4.976563 -1.476563 L 4.976563 -3.335938 C 4.972656 -3.550781 4.917969 -3.714844 4.8125 -3.828125 C 4.699219 -3.933594 4.535156 -3.988281 4.320313 -3.992188 L 3.992188 -3.992188 L 3.992188 -4.320313 L 6.726563 -4.320313 L 6.726563 -3.992188 L 6.453125 -3.992188 C 6.265625 -3.988281 6.121094 -3.933594 6.015625 -3.828125 C 5.902344 -3.714844 5.847656 -3.570313 5.851563 -3.390625 L 5.851563 -0.65625 C 5.777344 -0.691406 5.714844 -0.71875 5.660156 -0.738281 C 5.605469 -0.753906 5.539063 -0.761719 5.46875 -0.765625 C 5.390625 -0.761719 5.320313 -0.753906 5.25 -0.738281 C 5.175781 -0.71875 5.101563 -0.671875 5.03125 -0.601563 C 4.808594 -0.417969 4.582031 -0.289063 4.347656 -0.21875 C 4.109375 -0.140625 3.84375 -0.105469 3.554688 -0.109375 C 2.457031 -0.105469 1.65625 -0.589844 1.148438 -1.558594 C 0.636719 -2.523438 0.378906 -3.589844 0.382813 -4.757813 C 0.378906 -6.105469 0.679688 -7.261719 1.285156 -8.230469 C 1.882813 -9.195313 2.640625 -9.679688 3.554688 -9.679688 C 3.769531 -9.679688 4.023438 -9.625 4.320313 -9.515625 C 4.609375 -9.40625 4.792969 -9.351563 4.867188 -9.351563 C 4.972656 -9.351563 5.082031 -9.378906 5.195313 -9.433594 C 5.300781 -9.488281 5.390625 -9.570313 5.46875 -9.679688 L 5.90625 -7.21875 L 5.578125 -7.109375 C 5.359375 -7.871094 5.085938 -8.429688 4.757813 -8.777344 C 4.429688 -9.121094 4.027344 -9.292969 3.554688 -9.296875 Z M 3.554688 -9.296875 \"/>\n",
       "</symbol>\n",
       "<symbol overflow=\"visible\" id=\"glyph0-21\">\n",
       "<path style=\"stroke:none;\" d=\"M 1.914063 -4.320313 C 1.910156 -3.878906 2.039063 -3.507813 2.296875 -3.199219 C 2.550781 -2.886719 2.894531 -2.730469 3.335938 -2.734375 C 3.804688 -2.730469 4.160156 -2.867188 4.402344 -3.144531 C 4.636719 -3.414063 4.757813 -3.804688 4.757813 -4.320313 C 4.757813 -4.9375 4.621094 -5.386719 4.347656 -5.660156 C 4.074219 -5.933594 3.734375 -6.070313 3.335938 -6.070313 C 2.929688 -6.070313 2.59375 -5.933594 2.324219 -5.660156 C 2.046875 -5.386719 1.910156 -4.9375 1.914063 -4.320313 Z M 4.59375 -1.367188 C 5.140625 -1.289063 5.539063 -1.136719 5.796875 -0.902344 C 6.046875 -0.664063 6.175781 -0.347656 6.179688 0.0546875 C 6.175781 0.597656 5.949219 1.035156 5.496094 1.367188 C 5.039063 1.691406 4.316406 1.855469 3.335938 1.859375 C 2.566406 1.855469 1.949219 1.703125 1.476563 1.394531 C 1 1.082031 0.761719 0.726563 0.765625 0.328125 C 0.761719 0.0742188 0.851563 -0.179688 1.039063 -0.4375 C 1.21875 -0.691406 1.511719 -0.890625 1.914063 -1.039063 C 1.691406 -1.144531 1.519531 -1.265625 1.394531 -1.394531 C 1.265625 -1.519531 1.199219 -1.671875 1.203125 -1.859375 C 1.199219 -2.074219 1.273438 -2.265625 1.421875 -2.433594 C 1.566406 -2.59375 1.75 -2.730469 1.96875 -2.84375 C 1.75 -3.023438 1.558594 -3.242188 1.394531 -3.5 C 1.230469 -3.75 1.148438 -4.023438 1.148438 -4.320313 C 1.148438 -4.863281 1.339844 -5.347656 1.722656 -5.769531 C 2.105469 -6.1875 2.640625 -6.398438 3.335938 -6.398438 C 3.625 -6.398438 3.910156 -6.359375 4.183594 -6.289063 C 4.457031 -6.210938 4.683594 -6.085938 4.867188 -5.90625 C 5.121094 -6.085938 5.347656 -6.222656 5.550781 -6.316406 C 5.746094 -6.40625 5.921875 -6.449219 6.070313 -6.453125 C 6.25 -6.449219 6.375 -6.386719 6.453125 -6.261719 C 6.523438 -6.132813 6.5625 -6.015625 6.5625 -5.90625 C 6.5625 -5.757813 6.535156 -5.636719 6.480469 -5.550781 C 6.425781 -5.457031 6.324219 -5.414063 6.179688 -5.414063 C 6.066406 -5.414063 5.976563 -5.441406 5.90625 -5.496094 C 5.832031 -5.550781 5.777344 -5.632813 5.742188 -5.742188 C 5.703125 -5.851563 5.621094 -5.894531 5.496094 -5.878906 C 5.367188 -5.855469 5.230469 -5.792969 5.085938 -5.6875 C 5.230469 -5.539063 5.339844 -5.339844 5.414063 -5.085938 C 5.484375 -4.828125 5.519531 -4.570313 5.523438 -4.320313 C 5.519531 -3.878906 5.347656 -3.453125 5.003906 -3.035156 C 4.65625 -2.613281 4.097656 -2.402344 3.335938 -2.40625 C 3.113281 -2.402344 2.914063 -2.429688 2.734375 -2.488281 C 2.550781 -2.539063 2.40625 -2.601563 2.296875 -2.679688 C 2.148438 -2.601563 2.039063 -2.511719 1.96875 -2.40625 C 1.894531 -2.292969 1.855469 -2.203125 1.859375 -2.132813 C 1.855469 -1.984375 1.894531 -1.875 1.96875 -1.804688 C 2.039063 -1.730469 2.148438 -1.691406 2.296875 -1.695313 C 2.769531 -1.617188 3.195313 -1.554688 3.582031 -1.503906 C 3.960938 -1.445313 4.300781 -1.398438 4.59375 -1.367188 Z M 2.351563 -0.929688 C 2.019531 -0.78125 1.792969 -0.609375 1.667969 -0.410156 C 1.539063 -0.207031 1.476563 0.0390625 1.476563 0.328125 C 1.476563 0.617188 1.640625 0.890625 1.96875 1.148438 C 2.296875 1.402344 2.789063 1.527344 3.445313 1.53125 C 4.0625 1.527344 4.554688 1.429688 4.921875 1.230469 C 5.285156 1.027344 5.464844 0.726563 5.46875 0.328125 C 5.464844 0.0742188 5.421875 -0.125 5.332031 -0.273438 C 5.238281 -0.417969 5.101563 -0.507813 4.921875 -0.546875 C 4.554688 -0.617188 4.152344 -0.691406 3.71875 -0.765625 C 3.277344 -0.800781 2.820313 -0.855469 2.351563 -0.929688 Z M 2.351563 -0.929688 \"/>\n",
       "</symbol>\n",
       "</g>\n",
       "</defs>\n",
       "<g id=\"surface344\">\n",
       "<rect x=\"0\" y=\"0\" width=\"300\" height=\"300\" style=\"fill:rgb(100%,100%,100%);fill-opacity:1;stroke:none;\"/>\n",
       "<path style=\"fill:none;stroke-width:1;stroke-linecap:butt;stroke-linejoin:miter;stroke:rgb(26.666667%,26.666667%,26.666667%);stroke-opacity:1;stroke-miterlimit:10;\" d=\"M 112.398438 193.445313 L 30 203.273438 \"/>\n",
       "<path style=\"fill:none;stroke-width:1;stroke-linecap:butt;stroke-linejoin:miter;stroke:rgb(26.666667%,26.666667%,26.666667%);stroke-opacity:1;stroke-miterlimit:10;\" d=\"M 112.398438 193.445313 L 182.945313 130.179688 \"/>\n",
       "<path style=\"fill:none;stroke-width:1;stroke-linecap:butt;stroke-linejoin:miter;stroke:rgb(26.666667%,26.666667%,26.666667%);stroke-opacity:1;stroke-miterlimit:10;\" d=\"M 182.945313 130.179688 L 270 137 \"/>\n",
       "<path style=\"fill:none;stroke-width:1;stroke-linecap:butt;stroke-linejoin:miter;stroke:rgb(26.666667%,26.666667%,26.666667%);stroke-opacity:1;stroke-miterlimit:10;\" d=\"M 270 137 L 231.429688 30 \"/>\n",
       "<path style=\"fill:none;stroke-width:1;stroke-linecap:butt;stroke-linejoin:miter;stroke:rgb(26.666667%,26.666667%,26.666667%);stroke-opacity:1;stroke-miterlimit:10;\" d=\"M 182.945313 130.179688 L 231.429688 30 \"/>\n",
       "<path style=\"fill:none;stroke-width:1;stroke-linecap:butt;stroke-linejoin:miter;stroke:rgb(26.666667%,26.666667%,26.666667%);stroke-opacity:1;stroke-miterlimit:10;\" d=\"M 182.945313 130.179688 L 179.871094 263.265625 \"/>\n",
       "<path style=\"fill:none;stroke-width:1;stroke-linecap:butt;stroke-linejoin:miter;stroke:rgb(26.666667%,26.666667%,26.666667%);stroke-opacity:1;stroke-miterlimit:10;\" d=\"M 112.398438 193.445313 L 179.871094 263.265625 \"/>\n",
       "<path style=\"fill:none;stroke-width:1;stroke-linecap:butt;stroke-linejoin:miter;stroke:rgb(26.666667%,26.666667%,26.666667%);stroke-opacity:1;stroke-miterlimit:10;\" d=\"M 270 137 L 266.472656 270 \"/>\n",
       "<path style=\"fill:none;stroke-width:1;stroke-linecap:butt;stroke-linejoin:miter;stroke:rgb(26.666667%,26.666667%,26.666667%);stroke-opacity:1;stroke-miterlimit:10;\" d=\"M 179.871094 263.265625 L 266.472656 270 \"/>\n",
       "<path style=\"fill-rule:nonzero;fill:rgb(100%,75.294118%,79.607843%);fill-opacity:1;stroke-width:1;stroke-linecap:butt;stroke-linejoin:miter;stroke:rgb(0%,0%,0%);stroke-opacity:1;stroke-miterlimit:10;\" d=\"M 122.398438 193.445313 C 122.398438 198.96875 117.921875 203.445313 112.398438 203.445313 C 106.875 203.445313 102.398438 198.96875 102.398438 193.445313 C 102.398438 187.921875 106.875 183.445313 112.398438 183.445313 C 117.921875 183.445313 122.398438 187.921875 122.398438 193.445313 \"/>\n",
       "<path style=\"fill-rule:nonzero;fill:rgb(0%,100%,0%);fill-opacity:1;stroke-width:1;stroke-linecap:butt;stroke-linejoin:miter;stroke:rgb(0%,0%,0%);stroke-opacity:1;stroke-miterlimit:10;\" d=\"M 40 203.273438 C 40 208.796875 35.523438 213.273438 30 213.273438 C 24.476563 213.273438 20 208.796875 20 203.273438 C 20 197.75 24.476563 193.273438 30 193.273438 C 35.523438 193.273438 40 197.75 40 203.273438 \"/>\n",
       "<path style=\"fill-rule:nonzero;fill:rgb(100%,75.294118%,79.607843%);fill-opacity:1;stroke-width:1;stroke-linecap:butt;stroke-linejoin:miter;stroke:rgb(0%,0%,0%);stroke-opacity:1;stroke-miterlimit:10;\" d=\"M 192.945313 130.179688 C 192.945313 135.703125 188.46875 140.179688 182.945313 140.179688 C 177.421875 140.179688 172.945313 135.703125 172.945313 130.179688 C 172.945313 124.65625 177.421875 120.179688 182.945313 120.179688 C 188.46875 120.179688 192.945313 124.65625 192.945313 130.179688 \"/>\n",
       "<path style=\"fill-rule:nonzero;fill:rgb(0%,100%,0%);fill-opacity:1;stroke-width:1;stroke-linecap:butt;stroke-linejoin:miter;stroke:rgb(0%,0%,0%);stroke-opacity:1;stroke-miterlimit:10;\" d=\"M 280 137 C 280 142.523438 275.523438 147 270 147 C 264.476563 147 260 142.523438 260 137 C 260 131.476563 264.476563 127 270 127 C 275.523438 127 280 131.476563 280 137 \"/>\n",
       "<path style=\"fill-rule:nonzero;fill:rgb(100%,75.294118%,79.607843%);fill-opacity:1;stroke-width:1;stroke-linecap:butt;stroke-linejoin:miter;stroke:rgb(0%,0%,0%);stroke-opacity:1;stroke-miterlimit:10;\" d=\"M 241.429688 30 C 241.429688 35.523438 236.953125 40 231.429688 40 C 225.90625 40 221.429688 35.523438 221.429688 30 C 221.429688 24.476563 225.90625 20 231.429688 20 C 236.953125 20 241.429688 24.476563 241.429688 30 \"/>\n",
       "<path style=\"fill-rule:nonzero;fill:rgb(0%,100%,0%);fill-opacity:1;stroke-width:1;stroke-linecap:butt;stroke-linejoin:miter;stroke:rgb(0%,0%,0%);stroke-opacity:1;stroke-miterlimit:10;\" d=\"M 189.871094 263.265625 C 189.871094 268.789063 185.394531 273.265625 179.871094 273.265625 C 174.347656 273.265625 169.871094 268.789063 169.871094 263.265625 C 169.871094 257.742188 174.347656 253.265625 179.871094 253.265625 C 185.394531 253.265625 189.871094 257.742188 189.871094 263.265625 \"/>\n",
       "<path style=\"fill-rule:nonzero;fill:rgb(0%,100%,0%);fill-opacity:1;stroke-width:1;stroke-linecap:butt;stroke-linejoin:miter;stroke:rgb(0%,0%,0%);stroke-opacity:1;stroke-miterlimit:10;\" d=\"M 276.472656 270 C 276.472656 275.523438 271.996094 280 266.472656 280 C 260.953125 280 256.472656 275.523438 256.472656 270 C 256.472656 264.476563 260.953125 260 266.472656 260 C 271.996094 260 276.472656 264.476563 276.472656 270 \"/>\n",
       "<g style=\"fill:rgb(0%,0%,0%);fill-opacity:1;\">\n",
       "  <use xlink:href=\"#glyph0-1\" x=\"95.253906\" y=\"199.449219\"/>\n",
       "  <use xlink:href=\"#glyph0-2\" x=\"102.253906\" y=\"199.449219\"/>\n",
       "  <use xlink:href=\"#glyph0-3\" x=\"109.253906\" y=\"199.449219\"/>\n",
       "  <use xlink:href=\"#glyph0-4\" x=\"116.253906\" y=\"199.449219\"/>\n",
       "  <use xlink:href=\"#glyph0-5\" x=\"123.253906\" y=\"199.449219\"/>\n",
       "</g>\n",
       "<g style=\"fill:rgb(0%,0%,0%);fill-opacity:1;\">\n",
       "  <use xlink:href=\"#glyph0-6\" x=\"19.773438\" y=\"209.277344\"/>\n",
       "  <use xlink:href=\"#glyph0-7\" x=\"26.773438\" y=\"209.277344\"/>\n",
       "  <use xlink:href=\"#glyph0-8\" x=\"33.773438\" y=\"209.277344\"/>\n",
       "</g>\n",
       "<g style=\"fill:rgb(0%,0%,0%);fill-opacity:1;\">\n",
       "  <use xlink:href=\"#glyph0-9\" x=\"162.136719\" y=\"136.183594\"/>\n",
       "  <use xlink:href=\"#glyph0-2\" x=\"169.136719\" y=\"136.183594\"/>\n",
       "  <use xlink:href=\"#glyph0-10\" x=\"176.136719\" y=\"136.183594\"/>\n",
       "  <use xlink:href=\"#glyph0-3\" x=\"183.136719\" y=\"136.183594\"/>\n",
       "  <use xlink:href=\"#glyph0-11\" x=\"190.136719\" y=\"136.183594\"/>\n",
       "  <use xlink:href=\"#glyph0-5\" x=\"197.136719\" y=\"136.183594\"/>\n",
       "</g>\n",
       "<g style=\"fill:rgb(0%,0%,0%);fill-opacity:1;\">\n",
       "  <use xlink:href=\"#glyph0-12\" x=\"249.382813\" y=\"142.839844\"/>\n",
       "  <use xlink:href=\"#glyph0-5\" x=\"256.382813\" y=\"142.839844\"/>\n",
       "  <use xlink:href=\"#glyph0-13\" x=\"263.382813\" y=\"142.839844\"/>\n",
       "  <use xlink:href=\"#glyph0-13\" x=\"270.382813\" y=\"142.839844\"/>\n",
       "  <use xlink:href=\"#glyph0-3\" x=\"277.382813\" y=\"142.839844\"/>\n",
       "  <use xlink:href=\"#glyph0-14\" x=\"284.382813\" y=\"142.839844\"/>\n",
       "</g>\n",
       "<g style=\"fill:rgb(0%,0%,0%);fill-opacity:1;\">\n",
       "  <use xlink:href=\"#glyph0-15\" x=\"210.539063\" y=\"36.003906\"/>\n",
       "  <use xlink:href=\"#glyph0-14\" x=\"217.539063\" y=\"36.003906\"/>\n",
       "  <use xlink:href=\"#glyph0-16\" x=\"224.539063\" y=\"36.003906\"/>\n",
       "  <use xlink:href=\"#glyph0-17\" x=\"231.539063\" y=\"36.003906\"/>\n",
       "  <use xlink:href=\"#glyph0-5\" x=\"238.539063\" y=\"36.003906\"/>\n",
       "  <use xlink:href=\"#glyph0-11\" x=\"245.539063\" y=\"36.003906\"/>\n",
       "</g>\n",
       "<g style=\"fill:rgb(0%,0%,0%);fill-opacity:1;\">\n",
       "  <use xlink:href=\"#glyph0-18\" x=\"162.425781\" y=\"269.269531\"/>\n",
       "  <use xlink:href=\"#glyph0-11\" x=\"169.425781\" y=\"269.269531\"/>\n",
       "  <use xlink:href=\"#glyph0-10\" x=\"176.425781\" y=\"269.269531\"/>\n",
       "  <use xlink:href=\"#glyph0-13\" x=\"183.425781\" y=\"269.269531\"/>\n",
       "  <use xlink:href=\"#glyph0-19\" x=\"190.425781\" y=\"269.269531\"/>\n",
       "</g>\n",
       "<g style=\"fill:rgb(0%,0%,0%);fill-opacity:1;\">\n",
       "  <use xlink:href=\"#glyph0-20\" x=\"245.691406\" y=\"275.839844\"/>\n",
       "  <use xlink:href=\"#glyph0-5\" x=\"252.691406\" y=\"275.839844\"/>\n",
       "  <use xlink:href=\"#glyph0-7\" x=\"259.691406\" y=\"275.839844\"/>\n",
       "  <use xlink:href=\"#glyph0-11\" x=\"266.691406\" y=\"275.839844\"/>\n",
       "  <use xlink:href=\"#glyph0-21\" x=\"273.691406\" y=\"275.839844\"/>\n",
       "  <use xlink:href=\"#glyph0-5\" x=\"280.691406\" y=\"275.839844\"/>\n",
       "</g>\n",
       "</g>\n",
       "</svg>\n"
      ],
      "text/plain": [
       "<igraph.drawing.Plot at 0x21d12347828>"
      ]
     },
     "execution_count": 245,
     "metadata": {},
     "output_type": "execute_result"
    }
   ],
   "source": [
    "g.vs[\"label\"] = g.vs[\"name\"]\n",
    "color_dict = {\"m\": \"green\", \"f\": \"pink\"}\n",
    "g.vs[\"color\"] = [color_dict[gender] for gender in g.vs[\"gender\"]]\n",
    "plot(g, layout = layout, bbox = (300, 300), margin = 30)"
   ]
  },
  {
   "cell_type": "code",
   "execution_count": 246,
   "metadata": {},
   "outputs": [
    {
     "data": {
      "image/svg+xml": [
       "<?xml version=\"1.0\" encoding=\"UTF-8\"?>\n",
       "<svg xmlns=\"http://www.w3.org/2000/svg\" xmlns:xlink=\"http://www.w3.org/1999/xlink\" width=\"300pt\" height=\"300pt\" viewBox=\"0 0 300 300\" version=\"1.1\">\n",
       "<defs>\n",
       "<g>\n",
       "<symbol overflow=\"visible\" id=\"glyph0-0\">\n",
       "<path style=\"stroke:none;\" d=\"\"/>\n",
       "</symbol>\n",
       "<symbol overflow=\"visible\" id=\"glyph0-1\">\n",
       "<path style=\"stroke:none;\" d=\"M 4.429688 -3.71875 L 1.96875 -3.71875 L 1.476563 -1.640625 C 1.4375 -1.457031 1.417969 -1.308594 1.421875 -1.203125 C 1.417969 -1.054688 1.445313 -0.910156 1.503906 -0.765625 C 1.554688 -0.617188 1.710938 -0.542969 1.96875 -0.546875 L 2.132813 -0.546875 L 2.132813 -0.21875 L 0.109375 -0.21875 L 0.109375 -0.546875 L 0.273438 -0.546875 C 0.417969 -0.542969 0.546875 -0.589844 0.65625 -0.683594 C 0.765625 -0.773438 0.835938 -0.929688 0.875 -1.148438 L 3.007813 -9.515625 L 3.828125 -9.789063 L 5.90625 -1.148438 C 5.976563 -0.929688 6.066406 -0.773438 6.179688 -0.683594 C 6.285156 -0.589844 6.414063 -0.542969 6.5625 -0.546875 L 6.726563 -0.546875 L 6.726563 -0.21875 L 4.375 -0.21875 L 4.375 -0.546875 L 4.59375 -0.546875 C 4.8125 -0.542969 4.9375 -0.589844 4.976563 -0.683594 C 5.007813 -0.773438 5.027344 -0.855469 5.03125 -0.929688 C 5.027344 -1.074219 5.007813 -1.203125 4.976563 -1.3125 Z M 3.28125 -8.585938 L 3.226563 -8.585938 L 2.078125 -4.046875 L 4.375 -4.046875 Z M 3.28125 -8.585938 \"/>\n",
       "</symbol>\n",
       "<symbol overflow=\"visible\" id=\"glyph0-2\">\n",
       "<path style=\"stroke:none;\" d=\"M 2.023438 -9.570313 C 2.347656 -9.566406 2.660156 -9.605469 2.953125 -9.679688 C 3.242188 -9.75 3.515625 -9.859375 3.773438 -10.007813 L 3.882813 -10.007813 L 3.882813 -0.984375 C 3.878906 -0.835938 3.925781 -0.726563 4.019531 -0.65625 C 4.109375 -0.582031 4.226563 -0.542969 4.375 -0.546875 L 5.632813 -0.546875 L 5.632813 -0.21875 L 1.367188 -0.21875 L 1.367188 -0.546875 L 2.625 -0.546875 C 2.804688 -0.542969 2.929688 -0.582031 3.007813 -0.65625 C 3.078125 -0.726563 3.117188 -0.835938 3.117188 -0.984375 L 3.117188 -8.804688 C 3.117188 -8.949219 3.078125 -9.058594 3.007813 -9.132813 C 2.929688 -9.203125 2.804688 -9.238281 2.625 -9.242188 L 1.421875 -9.242188 L 1.421875 -9.570313 Z M 2.023438 -9.570313 \"/>\n",
       "</symbol>\n",
       "<symbol overflow=\"visible\" id=\"glyph0-3\">\n",
       "<path style=\"stroke:none;\" d=\"M 3.117188 -5.496094 C 3.117188 -5.640625 3.078125 -5.757813 3.007813 -5.847656 C 2.929688 -5.9375 2.804688 -5.980469 2.625 -5.984375 L 1.476563 -6.011719 L 1.476563 -6.34375 L 2.023438 -6.355469 C 2.347656 -6.34375 2.660156 -6.367188 2.953125 -6.425781 C 3.242188 -6.476563 3.515625 -6.578125 3.773438 -6.726563 L 3.882813 -6.726563 L 3.882813 -0.984375 C 3.878906 -0.835938 3.925781 -0.726563 4.019531 -0.65625 C 4.109375 -0.582031 4.226563 -0.542969 4.375 -0.546875 L 5.523438 -0.546875 L 5.523438 -0.21875 L 1.476563 -0.21875 L 1.476563 -0.546875 L 2.625 -0.546875 C 2.804688 -0.542969 2.929688 -0.582031 3.007813 -0.65625 C 3.078125 -0.726563 3.117188 -0.832031 3.117188 -0.980469 Z M 3.554688 -9.679688 C 3.734375 -9.679688 3.898438 -9.613281 4.046875 -9.488281 C 4.191406 -9.355469 4.265625 -9.203125 4.265625 -9.023438 C 4.265625 -8.839844 4.191406 -8.675781 4.046875 -8.53125 C 3.898438 -8.382813 3.734375 -8.308594 3.554688 -8.3125 C 3.371094 -8.308594 3.207031 -8.382813 3.0625 -8.53125 C 2.914063 -8.675781 2.839844 -8.839844 2.84375 -9.023438 C 2.839844 -9.203125 2.914063 -9.355469 3.0625 -9.488281 C 3.207031 -9.613281 3.371094 -9.679688 3.554688 -9.679688 Z M 3.554688 -9.679688 \"/>\n",
       "</symbol>\n",
       "<symbol overflow=\"visible\" id=\"glyph0-4\">\n",
       "<path style=\"stroke:none;\" d=\"M 4.703125 -4.867188 C 4.699219 -4.972656 4.71875 -5.046875 4.757813 -5.085938 C 4.757813 -5.121094 4.773438 -5.191406 4.8125 -5.304688 C 4.84375 -5.445313 4.773438 -5.621094 4.59375 -5.824219 C 4.410156 -6.023438 4.097656 -6.121094 3.664063 -6.125 C 3.113281 -6.121094 2.648438 -5.859375 2.269531 -5.332031 C 1.882813 -4.800781 1.691406 -4.097656 1.695313 -3.226563 C 1.691406 -2.421875 1.855469 -1.773438 2.1875 -1.285156 C 2.511719 -0.789063 3.058594 -0.542969 3.828125 -0.546875 C 4.335938 -0.542969 4.765625 -0.707031 5.113281 -1.039063 C 5.457031 -1.363281 5.703125 -1.746094 5.851563 -2.1875 L 6.125 -2.078125 C 5.976563 -1.527344 5.703125 -1.0625 5.304688 -0.683594 C 4.898438 -0.296875 4.351563 -0.105469 3.664063 -0.109375 C 2.785156 -0.105469 2.09375 -0.378906 1.585938 -0.929688 C 1.074219 -1.472656 0.820313 -2.257813 0.820313 -3.28125 C 0.820313 -4.191406 1.09375 -4.945313 1.640625 -5.550781 C 2.1875 -6.148438 2.898438 -6.449219 3.773438 -6.453125 C 4.390625 -6.449219 4.871094 -6.285156 5.222656 -5.960938 C 5.566406 -5.628906 5.742188 -5.300781 5.742188 -4.976563 C 5.742188 -4.753906 5.695313 -4.601563 5.605469 -4.511719 C 5.511719 -4.417969 5.375 -4.371094 5.195313 -4.375 C 5.046875 -4.371094 4.929688 -4.417969 4.839844 -4.511719 C 4.746094 -4.601563 4.699219 -4.71875 4.703125 -4.867188 Z M 4.703125 -4.867188 \"/>\n",
       "</symbol>\n",
       "<symbol overflow=\"visible\" id=\"glyph0-5\">\n",
       "<path style=\"stroke:none;\" d=\"M 5.25 -3.609375 C 5.285156 -4.410156 5.148438 -5.019531 4.839844 -5.441406 C 4.527344 -5.859375 4.117188 -6.070313 3.609375 -6.070313 C 3.0625 -6.070313 2.613281 -5.851563 2.269531 -5.414063 C 1.917969 -4.976563 1.746094 -4.375 1.75 -3.609375 Z M 1.75 -3.28125 C 1.746094 -2.296875 1.9375 -1.59375 2.324219 -1.175781 C 2.703125 -0.753906 3.203125 -0.542969 3.828125 -0.546875 C 4.296875 -0.542969 4.699219 -0.679688 5.03125 -0.957031 C 5.355469 -1.226563 5.59375 -1.566406 5.742188 -1.96875 L 6.015625 -1.859375 C 5.902344 -1.453125 5.65625 -1.0625 5.277344 -0.683594 C 4.890625 -0.296875 4.371094 -0.105469 3.71875 -0.109375 C 2.878906 -0.105469 2.195313 -0.378906 1.667969 -0.929688 C 1.136719 -1.472656 0.871094 -2.257813 0.875 -3.28125 C 0.871094 -4.191406 1.136719 -4.945313 1.667969 -5.550781 C 2.195313 -6.148438 2.84375 -6.449219 3.609375 -6.453125 C 4.300781 -6.449219 4.902344 -6.214844 5.414063 -5.742188 C 5.921875 -5.265625 6.175781 -4.445313 6.179688 -3.28125 Z M 1.75 -3.28125 \"/>\n",
       "</symbol>\n",
       "<symbol overflow=\"visible\" id=\"glyph0-6\">\n",
       "<path style=\"stroke:none;\" d=\"M 0.21875 -0.21875 L 0.21875 -0.546875 L 0.65625 -0.546875 C 0.835938 -0.542969 0.960938 -0.582031 1.039063 -0.65625 C 1.109375 -0.726563 1.148438 -0.835938 1.148438 -0.984375 L 1.148438 -8.804688 C 1.148438 -8.949219 1.109375 -9.058594 1.039063 -9.132813 C 0.960938 -9.203125 0.835938 -9.238281 0.65625 -9.242188 L 0.328125 -9.242188 L 0.328125 -9.570313 L 3.5 -9.570313 C 4.371094 -9.566406 5.019531 -9.394531 5.441406 -9.050781 C 5.859375 -8.703125 6.070313 -8.164063 6.070313 -7.4375 C 6.070313 -6.921875 5.960938 -6.503906 5.742188 -6.179688 C 5.523438 -5.847656 5.066406 -5.554688 4.375 -5.304688 C 5.210938 -5.046875 5.777344 -4.683594 6.070313 -4.210938 C 6.359375 -3.734375 6.503906 -3.207031 6.507813 -2.625 C 6.503906 -1.894531 6.25 -1.308594 5.742188 -0.875 C 5.230469 -0.433594 4.535156 -0.214844 3.664063 -0.21875 Z M 3.5 -0.546875 C 4.117188 -0.542969 4.601563 -0.734375 4.949219 -1.121094 C 5.292969 -1.5 5.464844 -2.039063 5.46875 -2.734375 C 5.464844 -3.535156 5.285156 -4.128906 4.921875 -4.511719 C 4.554688 -4.894531 4.007813 -5.085938 3.28125 -5.085938 L 2.023438 -5.085938 L 2.023438 -0.984375 C 2.019531 -0.835938 2.066406 -0.726563 2.160156 -0.65625 C 2.25 -0.582031 2.367188 -0.542969 2.515625 -0.546875 Z M 5.140625 -7.4375 C 5.136719 -8.089844 4.957031 -8.554688 4.59375 -8.832031 C 4.226563 -9.101563 3.75 -9.238281 3.171875 -9.242188 L 2.515625 -9.242188 C 2.367188 -9.238281 2.25 -9.203125 2.160156 -9.132813 C 2.066406 -9.058594 2.019531 -8.949219 2.023438 -8.804688 L 2.023438 -5.414063 L 3.445313 -5.414063 C 3.84375 -5.414063 4.226563 -5.578125 4.59375 -5.90625 C 4.957031 -6.234375 5.136719 -6.742188 5.140625 -7.4375 Z M 5.140625 -7.4375 \"/>\n",
       "</symbol>\n",
       "<symbol overflow=\"visible\" id=\"glyph0-7\">\n",
       "<path style=\"stroke:none;\" d=\"M 6.34375 -3.28125 C 6.339844 -2.367188 6.066406 -1.609375 5.523438 -1.011719 C 4.972656 -0.40625 4.296875 -0.105469 3.5 -0.109375 C 2.65625 -0.105469 1.972656 -0.414063 1.449219 -1.039063 C 0.917969 -1.65625 0.65625 -2.40625 0.65625 -3.28125 C 0.65625 -4.082031 0.917969 -4.808594 1.449219 -5.46875 C 1.972656 -6.121094 2.65625 -6.449219 3.5 -6.453125 C 4.371094 -6.449219 5.066406 -6.121094 5.578125 -5.46875 C 6.085938 -4.808594 6.339844 -4.082031 6.34375 -3.28125 Z M 1.53125 -3.226563 C 1.527344 -2.277344 1.71875 -1.574219 2.105469 -1.121094 C 2.484375 -0.660156 2.949219 -0.433594 3.5 -0.4375 C 4.117188 -0.433594 4.601563 -0.679688 4.949219 -1.175781 C 5.292969 -1.664063 5.464844 -2.347656 5.46875 -3.226563 C 5.464844 -4.171875 5.273438 -4.890625 4.894531 -5.386719 C 4.507813 -5.875 4.042969 -6.121094 3.5 -6.125 C 2.984375 -6.121094 2.53125 -5.875 2.132813 -5.386719 C 1.730469 -4.890625 1.527344 -4.171875 1.53125 -3.226563 Z M 1.53125 -3.226563 \"/>\n",
       "</symbol>\n",
       "<symbol overflow=\"visible\" id=\"glyph0-8\">\n",
       "<path style=\"stroke:none;\" d=\"M 1.914063 -5.085938 C 2.09375 -5.484375 2.386719 -5.800781 2.789063 -6.042969 C 3.1875 -6.277344 3.570313 -6.398438 3.9375 -6.398438 C 4.703125 -6.398438 5.277344 -6.132813 5.660156 -5.605469 C 6.042969 -5.074219 6.234375 -4.300781 6.234375 -3.28125 C 6.234375 -2.257813 5.988281 -1.480469 5.496094 -0.957031 C 5.003906 -0.425781 4.390625 -0.164063 3.664063 -0.164063 C 3.296875 -0.164063 2.960938 -0.226563 2.652344 -0.355469 C 2.339844 -0.480469 2.074219 -0.652344 1.859375 -0.875 L 1.367188 -0.21875 L 1.148438 -0.21875 L 1.148438 -8.804688 C 1.148438 -8.949219 1.109375 -9.058594 1.039063 -9.132813 C 0.960938 -9.203125 0.835938 -9.238281 0.65625 -9.242188 L 0.328125 -9.242188 L 0.328125 -9.570313 L 0.820313 -9.570313 C 1 -9.566406 1.179688 -9.605469 1.367188 -9.679688 C 1.546875 -9.75 1.730469 -9.859375 1.914063 -10.007813 Z M 1.914063 -2.023438 C 1.910156 -1.617188 2.046875 -1.273438 2.324219 -0.984375 C 2.59375 -0.691406 3.003906 -0.542969 3.554688 -0.546875 C 4.207031 -0.542969 4.671875 -0.773438 4.949219 -1.230469 C 5.21875 -1.683594 5.355469 -2.367188 5.359375 -3.28125 C 5.355469 -4.15625 5.238281 -4.820313 5.003906 -5.277344 C 4.765625 -5.730469 4.390625 -5.957031 3.882813 -5.960938 C 3.441406 -5.957031 3.058594 -5.832031 2.734375 -5.578125 C 2.402344 -5.320313 2.128906 -4.863281 1.914063 -4.210938 Z M 1.914063 -2.023438 \"/>\n",
       "</symbol>\n",
       "<symbol overflow=\"visible\" id=\"glyph0-9\">\n",
       "<path style=\"stroke:none;\" d=\"M 3.773438 -0.109375 C 2.75 -0.105469 1.9375 -0.488281 1.339844 -1.257813 C 0.734375 -2.019531 0.433594 -3.222656 0.4375 -4.867188 C 0.433594 -6.25 0.753906 -7.398438 1.394531 -8.3125 C 2.03125 -9.222656 2.894531 -9.679688 3.992188 -9.679688 C 4.242188 -9.679688 4.5 -9.640625 4.757813 -9.570313 C 5.011719 -9.457031 5.230469 -9.402344 5.414063 -9.40625 C 5.558594 -9.402344 5.675781 -9.421875 5.769531 -9.460938 C 5.859375 -9.496094 5.941406 -9.570313 6.015625 -9.679688 L 6.507813 -7.273438 L 6.179688 -7.164063 C 5.957031 -7.855469 5.664063 -8.382813 5.304688 -8.75 C 4.9375 -9.109375 4.464844 -9.292969 3.882813 -9.296875 C 3.113281 -9.292969 2.519531 -8.875 2.105469 -8.039063 C 1.683594 -7.199219 1.476563 -6.160156 1.476563 -4.921875 C 1.476563 -3.570313 1.65625 -2.511719 2.023438 -1.75 C 2.382813 -0.980469 2.984375 -0.597656 3.828125 -0.601563 C 4.40625 -0.597656 4.910156 -0.808594 5.332031 -1.230469 C 5.75 -1.648438 6.03125 -2.203125 6.179688 -2.898438 L 6.507813 -2.734375 C 6.324219 -1.964844 5.988281 -1.335938 5.496094 -0.847656 C 5.003906 -0.351563 4.429688 -0.105469 3.773438 -0.109375 Z M 3.773438 -0.109375 \"/>\n",
       "</symbol>\n",
       "<symbol overflow=\"visible\" id=\"glyph0-10\">\n",
       "<path style=\"stroke:none;\" d=\"M 2.679688 -0.164063 C 2.019531 -0.164063 1.511719 -0.316406 1.148438 -0.628906 C 0.78125 -0.933594 0.597656 -1.289063 0.601563 -1.695313 C 0.597656 -2.347656 0.878906 -2.886719 1.449219 -3.308594 C 2.011719 -3.726563 3.132813 -4.027344 4.8125 -4.210938 L 4.8125 -4.867188 C 4.808594 -5.230469 4.726563 -5.53125 4.566406 -5.769531 C 4.398438 -6.003906 4.027344 -6.121094 3.445313 -6.125 C 2.824219 -6.121094 2.386719 -6.023438 2.132813 -5.824219 C 1.875 -5.621094 1.78125 -5.410156 1.859375 -5.195313 C 1.890625 -5.121094 1.910156 -5.046875 1.914063 -4.976563 C 1.910156 -4.898438 1.882813 -4.808594 1.832031 -4.703125 C 1.773438 -4.589844 1.636719 -4.535156 1.421875 -4.539063 C 1.273438 -4.535156 1.15625 -4.582031 1.066406 -4.675781 C 0.972656 -4.765625 0.925781 -4.902344 0.929688 -5.085938 C 0.925781 -5.414063 1.164063 -5.722656 1.640625 -6.015625 C 2.113281 -6.304688 2.695313 -6.449219 3.390625 -6.453125 C 4.117188 -6.449219 4.664063 -6.3125 5.03125 -6.042969 C 5.394531 -5.765625 5.578125 -5.375 5.578125 -4.867188 L 5.578125 -1.257813 C 5.578125 -0.964844 5.605469 -0.792969 5.660156 -0.738281 C 5.714844 -0.683594 5.8125 -0.65625 5.960938 -0.65625 C 6.140625 -0.65625 6.269531 -0.738281 6.34375 -0.902344 C 6.414063 -1.066406 6.449219 -1.292969 6.453125 -1.585938 L 6.726563 -1.585938 C 6.726563 -1.074219 6.632813 -0.71875 6.453125 -0.519531 C 6.265625 -0.316406 6.03125 -0.214844 5.742188 -0.21875 C 5.484375 -0.214844 5.28125 -0.269531 5.140625 -0.382813 C 4.992188 -0.488281 4.882813 -0.671875 4.8125 -0.929688 C 4.445313 -0.671875 4.109375 -0.480469 3.800781 -0.355469 C 3.488281 -0.226563 3.113281 -0.164063 2.679688 -0.164063 Z M 1.53125 -1.859375 C 1.527344 -1.527344 1.628906 -1.226563 1.832031 -0.957031 C 2.03125 -0.679688 2.351563 -0.542969 2.789063 -0.546875 C 3.117188 -0.542969 3.445313 -0.609375 3.773438 -0.738281 C 4.101563 -0.863281 4.445313 -1.054688 4.8125 -1.3125 L 4.8125 -3.882813 C 3.570313 -3.734375 2.714844 -3.488281 2.242188 -3.144531 C 1.765625 -2.796875 1.527344 -2.367188 1.53125 -1.859375 Z M 1.53125 -1.859375 \"/>\n",
       "</symbol>\n",
       "<symbol overflow=\"visible\" id=\"glyph0-11\">\n",
       "<path style=\"stroke:none;\" d=\"M 2.789063 -4.648438 C 3.152344 -5.226563 3.542969 -5.675781 3.964844 -5.988281 C 4.382813 -6.296875 4.8125 -6.449219 5.25 -6.453125 C 5.613281 -6.449219 5.894531 -6.367188 6.097656 -6.207031 C 6.296875 -6.039063 6.398438 -5.847656 6.398438 -5.632813 C 6.398438 -5.445313 6.351563 -5.300781 6.261719 -5.195313 C 6.167969 -5.082031 6.03125 -5.027344 5.851563 -5.03125 C 5.667969 -5.027344 5.53125 -5.082031 5.441406 -5.195313 C 5.347656 -5.300781 5.320313 -5.445313 5.359375 -5.632813 C 5.355469 -5.738281 5.335938 -5.832031 5.304688 -5.90625 C 5.265625 -5.976563 5.15625 -6.011719 4.976563 -6.015625 C 4.679688 -6.011719 4.324219 -5.828125 3.910156 -5.46875 C 3.488281 -5.101563 3.117188 -4.59375 2.789063 -3.9375 L 2.789063 -0.984375 C 2.789063 -0.835938 2.832031 -0.726563 2.925781 -0.65625 C 3.011719 -0.582031 3.132813 -0.542969 3.28125 -0.546875 L 4.484375 -0.546875 L 4.484375 -0.21875 L 0.4375 -0.21875 L 0.4375 -0.546875 L 1.53125 -0.546875 C 1.710938 -0.542969 1.839844 -0.582031 1.914063 -0.65625 C 1.984375 -0.726563 2.019531 -0.835938 2.023438 -0.984375 L 2.023438 -5.523438 C 2.019531 -5.667969 1.984375 -5.785156 1.914063 -5.878906 C 1.839844 -5.964844 1.710938 -6.011719 1.53125 -6.015625 L 0.492188 -6.015625 L 0.492188 -6.34375 L 0.929688 -6.34375 C 1.183594 -6.339844 1.484375 -6.367188 1.832031 -6.425781 C 2.175781 -6.476563 2.441406 -6.539063 2.625 -6.617188 L 2.789063 -6.617188 Z M 2.789063 -4.648438 \"/>\n",
       "</symbol>\n",
       "<symbol overflow=\"visible\" id=\"glyph0-12\">\n",
       "<path style=\"stroke:none;\" d=\"M 5.46875 -4.976563 C 5.464844 -6.539063 5.230469 -7.644531 4.757813 -8.285156 C 4.28125 -8.921875 3.625 -9.238281 2.789063 -9.242188 C 2.53125 -9.238281 2.339844 -9.203125 2.214844 -9.132813 C 2.085938 -9.058594 2.019531 -8.949219 2.023438 -8.804688 L 2.023438 -0.984375 C 2.019531 -0.835938 2.074219 -0.726563 2.1875 -0.65625 C 2.292969 -0.582031 2.441406 -0.542969 2.625 -0.546875 C 3.425781 -0.542969 4.097656 -0.84375 4.648438 -1.449219 C 5.191406 -2.046875 5.464844 -3.222656 5.46875 -4.976563 Z M 1.148438 -8.804688 C 1.148438 -8.949219 1.109375 -9.058594 1.039063 -9.132813 C 0.960938 -9.203125 0.835938 -9.238281 0.65625 -9.242188 L 0.328125 -9.242188 L 0.328125 -9.570313 L 2.789063 -9.570313 C 3.917969 -9.566406 4.820313 -9.203125 5.496094 -8.476563 C 6.167969 -7.746094 6.503906 -6.617188 6.507813 -5.085938 C 6.503906 -3.40625 6.175781 -2.175781 5.523438 -1.394531 C 4.863281 -0.609375 3.898438 -0.214844 2.625 -0.21875 L 0.273438 -0.21875 L 0.273438 -0.546875 L 0.65625 -0.546875 C 0.835938 -0.542969 0.960938 -0.582031 1.039063 -0.65625 C 1.109375 -0.726563 1.148438 -0.835938 1.148438 -0.984375 Z M 1.148438 -8.804688 \"/>\n",
       "</symbol>\n",
       "<symbol overflow=\"visible\" id=\"glyph0-13\">\n",
       "<path style=\"stroke:none;\" d=\"M 0.4375 -0.21875 L 0.4375 -0.546875 L 0.710938 -0.546875 C 0.890625 -0.542969 1.019531 -0.582031 1.09375 -0.65625 C 1.164063 -0.726563 1.199219 -0.835938 1.203125 -0.984375 L 1.203125 -5.6875 C 1.199219 -5.792969 1.183594 -5.875 1.148438 -5.933594 C 1.109375 -5.984375 1.035156 -6.011719 0.929688 -6.015625 L 0.492188 -6.015625 L 0.492188 -6.34375 L 0.875 -6.34375 C 1.054688 -6.339844 1.230469 -6.359375 1.394531 -6.398438 C 1.558594 -6.433594 1.710938 -6.503906 1.859375 -6.617188 L 1.96875 -6.617188 L 1.96875 -5.359375 C 2.296875 -5.722656 2.625 -5.996094 2.953125 -6.179688 C 3.28125 -6.359375 3.625 -6.449219 3.992188 -6.453125 C 4.609375 -6.449219 5.066406 -6.285156 5.359375 -5.960938 C 5.648438 -5.628906 5.792969 -5.136719 5.796875 -4.484375 L 5.796875 -0.984375 C 5.792969 -0.835938 5.839844 -0.726563 5.933594 -0.65625 C 6.023438 -0.582031 6.140625 -0.542969 6.289063 -0.546875 L 6.5625 -0.546875 L 6.5625 -0.21875 L 4.265625 -0.21875 L 4.265625 -0.546875 L 4.539063 -0.546875 C 4.71875 -0.542969 4.847656 -0.582031 4.921875 -0.65625 C 4.992188 -0.726563 5.027344 -0.835938 5.03125 -0.984375 L 5.03125 -4.648438 C 5.027344 -5.082031 4.9375 -5.421875 4.757813 -5.660156 C 4.574219 -5.894531 4.300781 -6.011719 3.9375 -6.015625 C 3.609375 -6.011719 3.269531 -5.902344 2.925781 -5.6875 C 2.574219 -5.464844 2.257813 -5.15625 1.96875 -4.757813 L 1.96875 -0.984375 C 1.96875 -0.835938 2.011719 -0.726563 2.105469 -0.65625 C 2.191406 -0.582031 2.3125 -0.542969 2.460938 -0.546875 L 2.734375 -0.546875 L 2.734375 -0.21875 Z M 0.4375 -0.21875 \"/>\n",
       "</symbol>\n",
       "<symbol overflow=\"visible\" id=\"glyph0-14\">\n",
       "<path style=\"stroke:none;\" d=\"M 1.367188 -4.757813 C 1.363281 -5.304688 1.574219 -5.722656 1.996094 -6.015625 C 2.414063 -6.304688 2.914063 -6.449219 3.5 -6.453125 C 3.824219 -6.449219 4.136719 -6.414063 4.429688 -6.34375 C 4.71875 -6.230469 4.917969 -6.175781 5.03125 -6.179688 C 5.136719 -6.175781 5.226563 -6.195313 5.304688 -6.234375 C 5.375 -6.269531 5.46875 -6.339844 5.578125 -6.453125 L 5.796875 -4.648438 L 5.46875 -4.59375 C 5.320313 -5.066406 5.074219 -5.4375 4.730469 -5.714844 C 4.378906 -5.984375 3.988281 -6.121094 3.554688 -6.125 C 3.078125 -6.121094 2.703125 -6.03125 2.433594 -5.851563 C 2.15625 -5.667969 2.019531 -5.414063 2.023438 -5.085938 C 2.019531 -4.792969 2.085938 -4.5625 2.214844 -4.402344 C 2.339844 -4.234375 2.566406 -4.117188 2.898438 -4.046875 C 3.152344 -3.933594 3.480469 -3.824219 3.882813 -3.71875 C 4.246094 -3.570313 4.59375 -3.425781 4.921875 -3.28125 C 5.210938 -3.132813 5.457031 -2.941406 5.660156 -2.707031 C 5.859375 -2.46875 5.957031 -2.203125 5.960938 -1.914063 C 5.957031 -1.363281 5.765625 -0.933594 5.386719 -0.628906 C 5 -0.316406 4.445313 -0.164063 3.71875 -0.164063 C 3.242188 -0.164063 2.894531 -0.21875 2.679688 -0.328125 C 2.421875 -0.398438 2.222656 -0.433594 2.078125 -0.4375 C 1.964844 -0.433594 1.847656 -0.40625 1.722656 -0.355469 C 1.59375 -0.296875 1.457031 -0.234375 1.3125 -0.164063 L 1.148438 -2.1875 L 1.476563 -2.242188 C 1.585938 -1.65625 1.820313 -1.21875 2.1875 -0.929688 C 2.546875 -0.636719 3.058594 -0.492188 3.71875 -0.492188 C 4.226563 -0.492188 4.617188 -0.582031 4.894531 -0.765625 C 5.164063 -0.945313 5.300781 -1.21875 5.304688 -1.585938 C 5.300781 -1.839844 5.230469 -2.050781 5.085938 -2.214844 C 4.9375 -2.378906 4.789063 -2.496094 4.648438 -2.570313 C 4.28125 -2.714844 3.882813 -2.878906 3.445313 -3.0625 C 3.007813 -3.207031 2.625 -3.351563 2.296875 -3.5 C 1.96875 -3.640625 1.730469 -3.824219 1.585938 -4.046875 C 1.4375 -4.261719 1.363281 -4.5 1.367188 -4.757813 Z M 1.367188 -4.757813 \"/>\n",
       "</symbol>\n",
       "<symbol overflow=\"visible\" id=\"glyph0-15\">\n",
       "<path style=\"stroke:none;\" d=\"M 0.4375 -9.242188 L 0.4375 -9.570313 L 5.796875 -9.570313 L 6.398438 -7.710938 L 6.125 -7.601563 C 5.828125 -8.144531 5.519531 -8.554688 5.195313 -8.832031 C 4.863281 -9.101563 4.5 -9.238281 4.101563 -9.242188 L 2.570313 -9.242188 C 2.421875 -9.238281 2.304688 -9.203125 2.214844 -9.132813 C 2.121094 -9.058594 2.074219 -8.949219 2.078125 -8.804688 L 2.078125 -5.414063 L 3.664063 -5.414063 C 4.023438 -5.414063 4.289063 -5.503906 4.457031 -5.6875 C 4.617188 -5.867188 4.699219 -6.140625 4.703125 -6.507813 L 4.703125 -6.835938 L 5.03125 -6.835938 L 5.03125 -3.609375 L 4.703125 -3.609375 L 4.703125 -3.828125 C 4.699219 -4.226563 4.617188 -4.539063 4.457031 -4.757813 C 4.289063 -4.976563 4.023438 -5.085938 3.664063 -5.085938 L 2.078125 -5.085938 L 2.078125 -0.984375 C 2.074219 -0.835938 2.121094 -0.726563 2.214844 -0.65625 C 2.304688 -0.582031 2.421875 -0.542969 2.570313 -0.546875 L 3.992188 -0.546875 C 4.535156 -0.542969 5 -0.699219 5.386719 -1.011719 C 5.765625 -1.320313 6.066406 -1.804688 6.289063 -2.460938 L 6.5625 -2.351563 L 5.960938 -0.21875 L 0.382813 -0.21875 L 0.382813 -0.546875 L 0.710938 -0.546875 C 0.890625 -0.542969 1.019531 -0.582031 1.09375 -0.65625 C 1.164063 -0.726563 1.199219 -0.835938 1.203125 -0.984375 L 1.203125 -8.804688 C 1.199219 -8.949219 1.164063 -9.058594 1.09375 -9.132813 C 1.019531 -9.203125 0.890625 -9.238281 0.710938 -9.242188 Z M 0.4375 -9.242188 \"/>\n",
       "</symbol>\n",
       "<symbol overflow=\"visible\" id=\"glyph0-16\">\n",
       "<path style=\"stroke:none;\" d=\"M 3.28125 -1.96875 C 3.28125 -1.457031 3.371094 -1.109375 3.554688 -0.929688 C 3.734375 -0.746094 4.007813 -0.65625 4.375 -0.65625 C 4.738281 -0.65625 5.03125 -0.773438 5.25 -1.011719 C 5.46875 -1.246094 5.613281 -1.582031 5.6875 -2.023438 L 5.960938 -1.914063 C 5.882813 -1.402344 5.691406 -0.984375 5.386719 -0.65625 C 5.074219 -0.328125 4.664063 -0.164063 4.15625 -0.164063 C 3.605469 -0.164063 3.195313 -0.328125 2.925781 -0.65625 C 2.648438 -0.984375 2.511719 -1.492188 2.515625 -2.1875 L 2.515625 -6.015625 L 0.875 -6.015625 L 0.875 -6.34375 L 1.3125 -6.34375 C 1.75 -6.339844 2.105469 -6.476563 2.378906 -6.753906 C 2.652344 -7.023438 2.824219 -7.453125 2.898438 -8.039063 L 2.953125 -8.476563 L 3.28125 -8.476563 L 3.28125 -6.34375 L 5.46875 -6.34375 L 5.46875 -6.015625 L 3.28125 -6.015625 Z M 3.28125 -1.96875 \"/>\n",
       "</symbol>\n",
       "<symbol overflow=\"visible\" id=\"glyph0-17\">\n",
       "<path style=\"stroke:none;\" d=\"M 0.4375 -0.21875 L 0.4375 -0.546875 L 0.710938 -0.546875 C 0.890625 -0.542969 1.019531 -0.582031 1.09375 -0.65625 C 1.164063 -0.726563 1.199219 -0.835938 1.203125 -0.984375 L 1.203125 -8.804688 C 1.199219 -8.949219 1.164063 -9.058594 1.09375 -9.132813 C 1.019531 -9.203125 0.890625 -9.238281 0.710938 -9.242188 L 0.382813 -9.242188 L 0.382813 -9.570313 L 0.984375 -9.570313 C 1.128906 -9.566406 1.273438 -9.605469 1.421875 -9.679688 C 1.566406 -9.75 1.710938 -9.859375 1.859375 -10.007813 L 1.96875 -10.007813 L 1.96875 -5.359375 C 2.296875 -5.757813 2.632813 -6.039063 2.980469 -6.207031 C 3.324219 -6.367188 3.699219 -6.449219 4.101563 -6.453125 C 4.648438 -6.449219 5.066406 -6.296875 5.359375 -5.988281 C 5.648438 -5.675781 5.792969 -5.191406 5.796875 -4.539063 L 5.796875 -0.984375 C 5.792969 -0.835938 5.839844 -0.726563 5.933594 -0.65625 C 6.023438 -0.582031 6.140625 -0.542969 6.289063 -0.546875 L 6.5625 -0.546875 L 6.5625 -0.21875 L 4.265625 -0.21875 L 4.265625 -0.546875 L 4.539063 -0.546875 C 4.71875 -0.542969 4.847656 -0.582031 4.921875 -0.65625 C 4.992188 -0.726563 5.027344 -0.835938 5.03125 -0.984375 L 5.03125 -4.429688 C 5.027344 -5.046875 4.925781 -5.457031 4.730469 -5.660156 C 4.527344 -5.859375 4.265625 -5.957031 3.9375 -5.960938 C 3.644531 -5.957031 3.324219 -5.867188 2.980469 -5.6875 C 2.632813 -5.503906 2.296875 -5.195313 1.96875 -4.757813 L 1.96875 -0.984375 C 1.96875 -0.835938 2.011719 -0.726563 2.105469 -0.65625 C 2.191406 -0.582031 2.3125 -0.542969 2.460938 -0.546875 L 2.734375 -0.546875 L 2.734375 -0.21875 Z M 0.4375 -0.21875 \"/>\n",
       "</symbol>\n",
       "<symbol overflow=\"visible\" id=\"glyph0-18\">\n",
       "<path style=\"stroke:none;\" d=\"M 2.953125 -0.546875 L 2.953125 -0.21875 L 0.328125 -0.21875 L 0.328125 -0.546875 L 0.710938 -0.546875 C 0.890625 -0.542969 1.019531 -0.582031 1.09375 -0.65625 C 1.164063 -0.726563 1.199219 -0.835938 1.203125 -0.984375 L 1.203125 -8.804688 C 1.199219 -8.949219 1.164063 -9.058594 1.09375 -9.132813 C 1.019531 -9.203125 0.890625 -9.238281 0.710938 -9.242188 L 0.382813 -9.242188 L 0.382813 -9.570313 L 6.070313 -9.570313 L 6.726563 -7.601563 L 6.453125 -7.492188 C 6.15625 -8.074219 5.8125 -8.511719 5.414063 -8.804688 C 5.011719 -9.09375 4.574219 -9.238281 4.101563 -9.242188 L 2.570313 -9.242188 C 2.421875 -9.238281 2.304688 -9.203125 2.214844 -9.132813 C 2.121094 -9.058594 2.074219 -8.949219 2.078125 -8.804688 L 2.078125 -5.304688 L 3.882813 -5.304688 C 4.246094 -5.300781 4.511719 -5.382813 4.675781 -5.550781 C 4.839844 -5.710938 4.921875 -5.976563 4.921875 -6.34375 L 4.921875 -6.617188 L 5.25 -6.617188 L 5.25 -3.445313 L 4.921875 -3.445313 L 4.921875 -3.664063 C 4.921875 -4.097656 4.839844 -4.425781 4.675781 -4.648438 C 4.511719 -4.863281 4.246094 -4.972656 3.882813 -4.976563 L 2.078125 -4.976563 L 2.078125 -0.984375 C 2.074219 -0.835938 2.121094 -0.726563 2.214844 -0.65625 C 2.304688 -0.582031 2.421875 -0.542969 2.570313 -0.546875 Z M 2.953125 -0.546875 \"/>\n",
       "</symbol>\n",
       "<symbol overflow=\"visible\" id=\"glyph0-19\">\n",
       "<path style=\"stroke:none;\" d=\"M 3.664063 -4.15625 L 5.742188 -0.929688 C 5.851563 -0.78125 5.949219 -0.679688 6.042969 -0.628906 C 6.128906 -0.570313 6.230469 -0.542969 6.34375 -0.546875 L 6.5625 -0.546875 L 6.5625 -0.21875 L 4.320313 -0.21875 L 4.320313 -0.546875 L 4.484375 -0.546875 C 4.664063 -0.542969 4.792969 -0.570313 4.867188 -0.628906 C 4.9375 -0.679688 4.917969 -0.78125 4.8125 -0.929688 L 3.117188 -3.570313 L 2.023438 -2.460938 L 2.023438 -0.984375 C 2.019531 -0.835938 2.066406 -0.726563 2.160156 -0.65625 C 2.25 -0.582031 2.367188 -0.542969 2.515625 -0.546875 L 2.789063 -0.546875 L 2.789063 -0.21875 L 0.492188 -0.21875 L 0.492188 -0.546875 L 0.765625 -0.546875 C 0.945313 -0.542969 1.074219 -0.582031 1.148438 -0.65625 C 1.21875 -0.726563 1.253906 -0.835938 1.257813 -0.984375 L 1.257813 -8.804688 C 1.253906 -8.949219 1.21875 -9.058594 1.148438 -9.132813 C 1.074219 -9.203125 0.945313 -9.238281 0.765625 -9.242188 L 0.4375 -9.242188 L 0.4375 -9.570313 L 0.929688 -9.570313 C 1.144531 -9.566406 1.335938 -9.605469 1.503906 -9.679688 C 1.664063 -9.75 1.800781 -9.859375 1.914063 -10.007813 L 2.023438 -10.007813 L 2.023438 -3.0625 L 4.320313 -5.523438 C 4.390625 -5.667969 4.417969 -5.785156 4.402344 -5.878906 C 4.378906 -5.964844 4.296875 -6.011719 4.15625 -6.015625 L 3.828125 -6.015625 L 3.828125 -6.34375 L 6.125 -6.34375 L 6.125 -6.015625 L 5.851563 -6.015625 C 5.738281 -6.011719 5.601563 -5.984375 5.441406 -5.933594 C 5.273438 -5.875 5.117188 -5.773438 4.976563 -5.632813 Z M 3.664063 -4.15625 \"/>\n",
       "</symbol>\n",
       "<symbol overflow=\"visible\" id=\"glyph0-20\">\n",
       "<path style=\"stroke:none;\" d=\"M 3.554688 -9.296875 C 3.003906 -9.292969 2.503906 -8.917969 2.050781 -8.175781 C 1.59375 -7.425781 1.363281 -6.289063 1.367188 -4.757813 C 1.363281 -3.734375 1.539063 -2.765625 1.886719 -1.859375 C 2.230469 -0.945313 2.804688 -0.492188 3.609375 -0.492188 C 4.007813 -0.492188 4.324219 -0.574219 4.566406 -0.738281 C 4.800781 -0.902344 4.9375 -1.148438 4.976563 -1.476563 L 4.976563 -3.335938 C 4.972656 -3.550781 4.917969 -3.714844 4.8125 -3.828125 C 4.699219 -3.933594 4.535156 -3.988281 4.320313 -3.992188 L 3.992188 -3.992188 L 3.992188 -4.320313 L 6.726563 -4.320313 L 6.726563 -3.992188 L 6.453125 -3.992188 C 6.265625 -3.988281 6.121094 -3.933594 6.015625 -3.828125 C 5.902344 -3.714844 5.847656 -3.570313 5.851563 -3.390625 L 5.851563 -0.65625 C 5.777344 -0.691406 5.714844 -0.71875 5.660156 -0.738281 C 5.605469 -0.753906 5.539063 -0.761719 5.46875 -0.765625 C 5.390625 -0.761719 5.320313 -0.753906 5.25 -0.738281 C 5.175781 -0.71875 5.101563 -0.671875 5.03125 -0.601563 C 4.808594 -0.417969 4.582031 -0.289063 4.347656 -0.21875 C 4.109375 -0.140625 3.84375 -0.105469 3.554688 -0.109375 C 2.457031 -0.105469 1.65625 -0.589844 1.148438 -1.558594 C 0.636719 -2.523438 0.378906 -3.589844 0.382813 -4.757813 C 0.378906 -6.105469 0.679688 -7.261719 1.285156 -8.230469 C 1.882813 -9.195313 2.640625 -9.679688 3.554688 -9.679688 C 3.769531 -9.679688 4.023438 -9.625 4.320313 -9.515625 C 4.609375 -9.40625 4.792969 -9.351563 4.867188 -9.351563 C 4.972656 -9.351563 5.082031 -9.378906 5.195313 -9.433594 C 5.300781 -9.488281 5.390625 -9.570313 5.46875 -9.679688 L 5.90625 -7.21875 L 5.578125 -7.109375 C 5.359375 -7.871094 5.085938 -8.429688 4.757813 -8.777344 C 4.429688 -9.121094 4.027344 -9.292969 3.554688 -9.296875 Z M 3.554688 -9.296875 \"/>\n",
       "</symbol>\n",
       "<symbol overflow=\"visible\" id=\"glyph0-21\">\n",
       "<path style=\"stroke:none;\" d=\"M 1.914063 -4.320313 C 1.910156 -3.878906 2.039063 -3.507813 2.296875 -3.199219 C 2.550781 -2.886719 2.894531 -2.730469 3.335938 -2.734375 C 3.804688 -2.730469 4.160156 -2.867188 4.402344 -3.144531 C 4.636719 -3.414063 4.757813 -3.804688 4.757813 -4.320313 C 4.757813 -4.9375 4.621094 -5.386719 4.347656 -5.660156 C 4.074219 -5.933594 3.734375 -6.070313 3.335938 -6.070313 C 2.929688 -6.070313 2.59375 -5.933594 2.324219 -5.660156 C 2.046875 -5.386719 1.910156 -4.9375 1.914063 -4.320313 Z M 4.59375 -1.367188 C 5.140625 -1.289063 5.539063 -1.136719 5.796875 -0.902344 C 6.046875 -0.664063 6.175781 -0.347656 6.179688 0.0546875 C 6.175781 0.597656 5.949219 1.035156 5.496094 1.367188 C 5.039063 1.691406 4.316406 1.855469 3.335938 1.859375 C 2.566406 1.855469 1.949219 1.703125 1.476563 1.394531 C 1 1.082031 0.761719 0.726563 0.765625 0.328125 C 0.761719 0.0742188 0.851563 -0.179688 1.039063 -0.4375 C 1.21875 -0.691406 1.511719 -0.890625 1.914063 -1.039063 C 1.691406 -1.144531 1.519531 -1.265625 1.394531 -1.394531 C 1.265625 -1.519531 1.199219 -1.671875 1.203125 -1.859375 C 1.199219 -2.074219 1.273438 -2.265625 1.421875 -2.433594 C 1.566406 -2.59375 1.75 -2.730469 1.96875 -2.84375 C 1.75 -3.023438 1.558594 -3.242188 1.394531 -3.5 C 1.230469 -3.75 1.148438 -4.023438 1.148438 -4.320313 C 1.148438 -4.863281 1.339844 -5.347656 1.722656 -5.769531 C 2.105469 -6.1875 2.640625 -6.398438 3.335938 -6.398438 C 3.625 -6.398438 3.910156 -6.359375 4.183594 -6.289063 C 4.457031 -6.210938 4.683594 -6.085938 4.867188 -5.90625 C 5.121094 -6.085938 5.347656 -6.222656 5.550781 -6.316406 C 5.746094 -6.40625 5.921875 -6.449219 6.070313 -6.453125 C 6.25 -6.449219 6.375 -6.386719 6.453125 -6.261719 C 6.523438 -6.132813 6.5625 -6.015625 6.5625 -5.90625 C 6.5625 -5.757813 6.535156 -5.636719 6.480469 -5.550781 C 6.425781 -5.457031 6.324219 -5.414063 6.179688 -5.414063 C 6.066406 -5.414063 5.976563 -5.441406 5.90625 -5.496094 C 5.832031 -5.550781 5.777344 -5.632813 5.742188 -5.742188 C 5.703125 -5.851563 5.621094 -5.894531 5.496094 -5.878906 C 5.367188 -5.855469 5.230469 -5.792969 5.085938 -5.6875 C 5.230469 -5.539063 5.339844 -5.339844 5.414063 -5.085938 C 5.484375 -4.828125 5.519531 -4.570313 5.523438 -4.320313 C 5.519531 -3.878906 5.347656 -3.453125 5.003906 -3.035156 C 4.65625 -2.613281 4.097656 -2.402344 3.335938 -2.40625 C 3.113281 -2.402344 2.914063 -2.429688 2.734375 -2.488281 C 2.550781 -2.539063 2.40625 -2.601563 2.296875 -2.679688 C 2.148438 -2.601563 2.039063 -2.511719 1.96875 -2.40625 C 1.894531 -2.292969 1.855469 -2.203125 1.859375 -2.132813 C 1.855469 -1.984375 1.894531 -1.875 1.96875 -1.804688 C 2.039063 -1.730469 2.148438 -1.691406 2.296875 -1.695313 C 2.769531 -1.617188 3.195313 -1.554688 3.582031 -1.503906 C 3.960938 -1.445313 4.300781 -1.398438 4.59375 -1.367188 Z M 2.351563 -0.929688 C 2.019531 -0.78125 1.792969 -0.609375 1.667969 -0.410156 C 1.539063 -0.207031 1.476563 0.0390625 1.476563 0.328125 C 1.476563 0.617188 1.640625 0.890625 1.96875 1.148438 C 2.296875 1.402344 2.789063 1.527344 3.445313 1.53125 C 4.0625 1.527344 4.554688 1.429688 4.921875 1.230469 C 5.285156 1.027344 5.464844 0.726563 5.46875 0.328125 C 5.464844 0.0742188 5.421875 -0.125 5.332031 -0.273438 C 5.238281 -0.417969 5.101563 -0.507813 4.921875 -0.546875 C 4.554688 -0.617188 4.152344 -0.691406 3.71875 -0.765625 C 3.277344 -0.800781 2.820313 -0.855469 2.351563 -0.929688 Z M 2.351563 -0.929688 \"/>\n",
       "</symbol>\n",
       "</g>\n",
       "</defs>\n",
       "<g id=\"surface350\">\n",
       "<rect x=\"0\" y=\"0\" width=\"300\" height=\"300\" style=\"fill:rgb(100%,100%,100%);fill-opacity:1;stroke:none;\"/>\n",
       "<path style=\"fill:none;stroke-width:3;stroke-linecap:butt;stroke-linejoin:miter;stroke:rgb(26.666667%,26.666667%,26.666667%);stroke-opacity:1;stroke-miterlimit:10;\" d=\"M 109.265625 197.066406 L 20 207.710938 \"/>\n",
       "<path style=\"fill:none;stroke-width:1;stroke-linecap:butt;stroke-linejoin:miter;stroke:rgb(26.666667%,26.666667%,26.666667%);stroke-opacity:1;stroke-miterlimit:10;\" d=\"M 109.265625 197.066406 L 185.691406 128.527344 \"/>\n",
       "<path style=\"fill:none;stroke-width:3;stroke-linecap:butt;stroke-linejoin:miter;stroke:rgb(26.666667%,26.666667%,26.666667%);stroke-opacity:1;stroke-miterlimit:10;\" d=\"M 185.691406 128.527344 L 280 135.917969 \"/>\n",
       "<path style=\"fill:none;stroke-width:3;stroke-linecap:butt;stroke-linejoin:miter;stroke:rgb(26.666667%,26.666667%,26.666667%);stroke-opacity:1;stroke-miterlimit:10;\" d=\"M 280 135.917969 L 238.214844 20 \"/>\n",
       "<path style=\"fill:none;stroke-width:3;stroke-linecap:butt;stroke-linejoin:miter;stroke:rgb(26.666667%,26.666667%,26.666667%);stroke-opacity:1;stroke-miterlimit:10;\" d=\"M 185.691406 128.527344 L 238.214844 20 \"/>\n",
       "<path style=\"fill:none;stroke-width:1;stroke-linecap:butt;stroke-linejoin:miter;stroke:rgb(26.666667%,26.666667%,26.666667%);stroke-opacity:1;stroke-miterlimit:10;\" d=\"M 185.691406 128.527344 L 182.359375 272.703125 \"/>\n",
       "<path style=\"fill:none;stroke-width:3;stroke-linecap:butt;stroke-linejoin:miter;stroke:rgb(26.666667%,26.666667%,26.666667%);stroke-opacity:1;stroke-miterlimit:10;\" d=\"M 109.265625 197.066406 L 182.359375 272.703125 \"/>\n",
       "<path style=\"fill:none;stroke-width:1;stroke-linecap:butt;stroke-linejoin:miter;stroke:rgb(26.666667%,26.666667%,26.666667%);stroke-opacity:1;stroke-miterlimit:10;\" d=\"M 280 135.917969 L 276.179688 280 \"/>\n",
       "<path style=\"fill:none;stroke-width:1;stroke-linecap:butt;stroke-linejoin:miter;stroke:rgb(26.666667%,26.666667%,26.666667%);stroke-opacity:1;stroke-miterlimit:10;\" d=\"M 182.359375 272.703125 L 276.179688 280 \"/>\n",
       "<path style=\"fill-rule:nonzero;fill:rgb(100%,75.294118%,79.607843%);fill-opacity:1;stroke-width:1;stroke-linecap:butt;stroke-linejoin:miter;stroke:rgb(0%,0%,0%);stroke-opacity:1;stroke-miterlimit:10;\" d=\"M 119.265625 197.066406 C 119.265625 202.589844 114.785156 207.066406 109.265625 207.066406 C 103.742188 207.066406 99.265625 202.589844 99.265625 197.066406 C 99.265625 191.542969 103.742188 187.066406 109.265625 187.066406 C 114.785156 187.066406 119.265625 191.542969 119.265625 197.066406 \"/>\n",
       "<path style=\"fill-rule:nonzero;fill:rgb(0%,100%,0%);fill-opacity:1;stroke-width:1;stroke-linecap:butt;stroke-linejoin:miter;stroke:rgb(0%,0%,0%);stroke-opacity:1;stroke-miterlimit:10;\" d=\"M 30 207.710938 C 30 213.234375 25.523438 217.710938 20 217.710938 C 14.476563 217.710938 10 213.234375 10 207.710938 C 10 202.191406 14.476563 197.710938 20 197.710938 C 25.523438 197.710938 30 202.191406 30 207.710938 \"/>\n",
       "<path style=\"fill-rule:nonzero;fill:rgb(100%,75.294118%,79.607843%);fill-opacity:1;stroke-width:1;stroke-linecap:butt;stroke-linejoin:miter;stroke:rgb(0%,0%,0%);stroke-opacity:1;stroke-miterlimit:10;\" d=\"M 195.691406 128.527344 C 195.691406 134.050781 191.214844 138.527344 185.691406 138.527344 C 180.167969 138.527344 175.691406 134.050781 175.691406 128.527344 C 175.691406 123.003906 180.167969 118.527344 185.691406 118.527344 C 191.214844 118.527344 195.691406 123.003906 195.691406 128.527344 \"/>\n",
       "<path style=\"fill-rule:nonzero;fill:rgb(0%,100%,0%);fill-opacity:1;stroke-width:1;stroke-linecap:butt;stroke-linejoin:miter;stroke:rgb(0%,0%,0%);stroke-opacity:1;stroke-miterlimit:10;\" d=\"M 290 135.917969 C 290 141.441406 285.523438 145.917969 280 145.917969 C 274.476563 145.917969 270 141.441406 270 135.917969 C 270 130.394531 274.476563 125.917969 280 125.917969 C 285.523438 125.917969 290 130.394531 290 135.917969 \"/>\n",
       "<path style=\"fill-rule:nonzero;fill:rgb(100%,75.294118%,79.607843%);fill-opacity:1;stroke-width:1;stroke-linecap:butt;stroke-linejoin:miter;stroke:rgb(0%,0%,0%);stroke-opacity:1;stroke-miterlimit:10;\" d=\"M 248.214844 20 C 248.214844 25.523438 243.738281 30 238.214844 30 C 232.691406 30 228.214844 25.523438 228.214844 20 C 228.214844 14.476563 232.691406 10 238.214844 10 C 243.738281 10 248.214844 14.476563 248.214844 20 \"/>\n",
       "<path style=\"fill-rule:nonzero;fill:rgb(0%,100%,0%);fill-opacity:1;stroke-width:1;stroke-linecap:butt;stroke-linejoin:miter;stroke:rgb(0%,0%,0%);stroke-opacity:1;stroke-miterlimit:10;\" d=\"M 192.359375 272.703125 C 192.359375 278.226563 187.882813 282.703125 182.359375 282.703125 C 176.835938 282.703125 172.359375 278.226563 172.359375 272.703125 C 172.359375 267.183594 176.835938 262.703125 182.359375 262.703125 C 187.882813 262.703125 192.359375 267.183594 192.359375 272.703125 \"/>\n",
       "<path style=\"fill-rule:nonzero;fill:rgb(0%,100%,0%);fill-opacity:1;stroke-width:1;stroke-linecap:butt;stroke-linejoin:miter;stroke:rgb(0%,0%,0%);stroke-opacity:1;stroke-miterlimit:10;\" d=\"M 286.179688 280 C 286.179688 285.523438 281.703125 290 276.179688 290 C 270.65625 290 266.179688 285.523438 266.179688 280 C 266.179688 274.476563 270.65625 270 276.179688 270 C 281.703125 270 286.179688 274.476563 286.179688 280 \"/>\n",
       "<g style=\"fill:rgb(0%,0%,0%);fill-opacity:1;\">\n",
       "  <use xlink:href=\"#glyph0-1\" x=\"92.121094\" y=\"203.070313\"/>\n",
       "  <use xlink:href=\"#glyph0-2\" x=\"99.121094\" y=\"203.070313\"/>\n",
       "  <use xlink:href=\"#glyph0-3\" x=\"106.121094\" y=\"203.070313\"/>\n",
       "  <use xlink:href=\"#glyph0-4\" x=\"113.121094\" y=\"203.070313\"/>\n",
       "  <use xlink:href=\"#glyph0-5\" x=\"120.121094\" y=\"203.070313\"/>\n",
       "</g>\n",
       "<g style=\"fill:rgb(0%,0%,0%);fill-opacity:1;\">\n",
       "  <use xlink:href=\"#glyph0-6\" x=\"9.773438\" y=\"213.714844\"/>\n",
       "  <use xlink:href=\"#glyph0-7\" x=\"16.773438\" y=\"213.714844\"/>\n",
       "  <use xlink:href=\"#glyph0-8\" x=\"23.773438\" y=\"213.714844\"/>\n",
       "</g>\n",
       "<g style=\"fill:rgb(0%,0%,0%);fill-opacity:1;\">\n",
       "  <use xlink:href=\"#glyph0-9\" x=\"164.882813\" y=\"134.53125\"/>\n",
       "  <use xlink:href=\"#glyph0-2\" x=\"171.882813\" y=\"134.53125\"/>\n",
       "  <use xlink:href=\"#glyph0-10\" x=\"178.882813\" y=\"134.53125\"/>\n",
       "  <use xlink:href=\"#glyph0-3\" x=\"185.882813\" y=\"134.53125\"/>\n",
       "  <use xlink:href=\"#glyph0-11\" x=\"192.882813\" y=\"134.53125\"/>\n",
       "  <use xlink:href=\"#glyph0-5\" x=\"199.882813\" y=\"134.53125\"/>\n",
       "</g>\n",
       "<g style=\"fill:rgb(0%,0%,0%);fill-opacity:1;\">\n",
       "  <use xlink:href=\"#glyph0-12\" x=\"259.382813\" y=\"141.757813\"/>\n",
       "  <use xlink:href=\"#glyph0-5\" x=\"266.382813\" y=\"141.757813\"/>\n",
       "  <use xlink:href=\"#glyph0-13\" x=\"273.382813\" y=\"141.757813\"/>\n",
       "  <use xlink:href=\"#glyph0-13\" x=\"280.382813\" y=\"141.757813\"/>\n",
       "  <use xlink:href=\"#glyph0-3\" x=\"287.382813\" y=\"141.757813\"/>\n",
       "  <use xlink:href=\"#glyph0-14\" x=\"294.382813\" y=\"141.757813\"/>\n",
       "</g>\n",
       "<g style=\"fill:rgb(0%,0%,0%);fill-opacity:1;\">\n",
       "  <use xlink:href=\"#glyph0-15\" x=\"217.324219\" y=\"26.003906\"/>\n",
       "  <use xlink:href=\"#glyph0-14\" x=\"224.324219\" y=\"26.003906\"/>\n",
       "  <use xlink:href=\"#glyph0-16\" x=\"231.324219\" y=\"26.003906\"/>\n",
       "  <use xlink:href=\"#glyph0-17\" x=\"238.324219\" y=\"26.003906\"/>\n",
       "  <use xlink:href=\"#glyph0-5\" x=\"245.324219\" y=\"26.003906\"/>\n",
       "  <use xlink:href=\"#glyph0-11\" x=\"252.324219\" y=\"26.003906\"/>\n",
       "</g>\n",
       "<g style=\"fill:rgb(0%,0%,0%);fill-opacity:1;\">\n",
       "  <use xlink:href=\"#glyph0-18\" x=\"164.914063\" y=\"278.707031\"/>\n",
       "  <use xlink:href=\"#glyph0-11\" x=\"171.914063\" y=\"278.707031\"/>\n",
       "  <use xlink:href=\"#glyph0-10\" x=\"178.914063\" y=\"278.707031\"/>\n",
       "  <use xlink:href=\"#glyph0-13\" x=\"185.914063\" y=\"278.707031\"/>\n",
       "  <use xlink:href=\"#glyph0-19\" x=\"192.914063\" y=\"278.707031\"/>\n",
       "</g>\n",
       "<g style=\"fill:rgb(0%,0%,0%);fill-opacity:1;\">\n",
       "  <use xlink:href=\"#glyph0-20\" x=\"255.398438\" y=\"285.839844\"/>\n",
       "  <use xlink:href=\"#glyph0-5\" x=\"262.398438\" y=\"285.839844\"/>\n",
       "  <use xlink:href=\"#glyph0-7\" x=\"269.398438\" y=\"285.839844\"/>\n",
       "  <use xlink:href=\"#glyph0-11\" x=\"276.398438\" y=\"285.839844\"/>\n",
       "  <use xlink:href=\"#glyph0-21\" x=\"283.398438\" y=\"285.839844\"/>\n",
       "  <use xlink:href=\"#glyph0-5\" x=\"290.398438\" y=\"285.839844\"/>\n",
       "</g>\n",
       "</g>\n",
       "</svg>\n"
      ],
      "text/plain": [
       "<igraph.drawing.Plot at 0x21d12379da0>"
      ]
     },
     "execution_count": 246,
     "metadata": {},
     "output_type": "execute_result"
    }
   ],
   "source": [
    "visual_style = {}\n",
    "visual_style[\"vertex_size\"] = 20\n",
    "visual_style[\"vertex_color\"] = [color_dict[gender] for gender in g.vs[\"gender\"]]\n",
    "visual_style[\"vertex_label\"] = g.vs[\"name\"]\n",
    "visual_style[\"edge_width\"] = [1 + 2 * int(is_formal) for is_formal in g.es[\"is_formal\"]]\n",
    "visual_style[\"layout\"] = layout\n",
    "visual_style[\"bbox\"] = (300, 300)\n",
    "visual_style[\"margin\"] = 20\n",
    "\n",
    "\n",
    "plot(g, **visual_style)"
   ]
  },
  {
   "cell_type": "code",
   "execution_count": 247,
   "metadata": {},
   "outputs": [
    {
     "data": {
      "image/svg+xml": [
       "<?xml version=\"1.0\" encoding=\"UTF-8\"?>\n",
       "<svg xmlns=\"http://www.w3.org/2000/svg\" xmlns:xlink=\"http://www.w3.org/1999/xlink\" width=\"300pt\" height=\"300pt\" viewBox=\"0 0 300 300\" version=\"1.1\">\n",
       "<defs>\n",
       "<g>\n",
       "<symbol overflow=\"visible\" id=\"glyph0-0\">\n",
       "<path style=\"stroke:none;\" d=\"\"/>\n",
       "</symbol>\n",
       "<symbol overflow=\"visible\" id=\"glyph0-1\">\n",
       "<path style=\"stroke:none;\" d=\"M 4.429688 -3.71875 L 1.96875 -3.71875 L 1.476563 -1.640625 C 1.4375 -1.457031 1.417969 -1.308594 1.421875 -1.203125 C 1.417969 -1.054688 1.445313 -0.910156 1.503906 -0.765625 C 1.554688 -0.617188 1.710938 -0.542969 1.96875 -0.546875 L 2.132813 -0.546875 L 2.132813 -0.21875 L 0.109375 -0.21875 L 0.109375 -0.546875 L 0.273438 -0.546875 C 0.417969 -0.542969 0.546875 -0.589844 0.65625 -0.683594 C 0.765625 -0.773438 0.835938 -0.929688 0.875 -1.148438 L 3.007813 -9.515625 L 3.828125 -9.789063 L 5.90625 -1.148438 C 5.976563 -0.929688 6.066406 -0.773438 6.179688 -0.683594 C 6.285156 -0.589844 6.414063 -0.542969 6.5625 -0.546875 L 6.726563 -0.546875 L 6.726563 -0.21875 L 4.375 -0.21875 L 4.375 -0.546875 L 4.59375 -0.546875 C 4.8125 -0.542969 4.9375 -0.589844 4.976563 -0.683594 C 5.007813 -0.773438 5.027344 -0.855469 5.03125 -0.929688 C 5.027344 -1.074219 5.007813 -1.203125 4.976563 -1.3125 Z M 3.28125 -8.585938 L 3.226563 -8.585938 L 2.078125 -4.046875 L 4.375 -4.046875 Z M 3.28125 -8.585938 \"/>\n",
       "</symbol>\n",
       "<symbol overflow=\"visible\" id=\"glyph0-2\">\n",
       "<path style=\"stroke:none;\" d=\"M 2.023438 -9.570313 C 2.347656 -9.566406 2.660156 -9.605469 2.953125 -9.679688 C 3.242188 -9.75 3.515625 -9.859375 3.773438 -10.007813 L 3.882813 -10.007813 L 3.882813 -0.984375 C 3.878906 -0.835938 3.925781 -0.726563 4.019531 -0.65625 C 4.109375 -0.582031 4.226563 -0.542969 4.375 -0.546875 L 5.632813 -0.546875 L 5.632813 -0.21875 L 1.367188 -0.21875 L 1.367188 -0.546875 L 2.625 -0.546875 C 2.804688 -0.542969 2.929688 -0.582031 3.007813 -0.65625 C 3.078125 -0.726563 3.117188 -0.835938 3.117188 -0.984375 L 3.117188 -8.804688 C 3.117188 -8.949219 3.078125 -9.058594 3.007813 -9.132813 C 2.929688 -9.203125 2.804688 -9.238281 2.625 -9.242188 L 1.421875 -9.242188 L 1.421875 -9.570313 Z M 2.023438 -9.570313 \"/>\n",
       "</symbol>\n",
       "<symbol overflow=\"visible\" id=\"glyph0-3\">\n",
       "<path style=\"stroke:none;\" d=\"M 3.117188 -5.496094 C 3.117188 -5.640625 3.078125 -5.757813 3.007813 -5.847656 C 2.929688 -5.9375 2.804688 -5.980469 2.625 -5.984375 L 1.476563 -6.011719 L 1.476563 -6.34375 L 2.023438 -6.355469 C 2.347656 -6.34375 2.660156 -6.367188 2.953125 -6.425781 C 3.242188 -6.476563 3.515625 -6.578125 3.773438 -6.726563 L 3.882813 -6.726563 L 3.882813 -0.984375 C 3.878906 -0.835938 3.925781 -0.726563 4.019531 -0.65625 C 4.109375 -0.582031 4.226563 -0.542969 4.375 -0.546875 L 5.523438 -0.546875 L 5.523438 -0.21875 L 1.476563 -0.21875 L 1.476563 -0.546875 L 2.625 -0.546875 C 2.804688 -0.542969 2.929688 -0.582031 3.007813 -0.65625 C 3.078125 -0.726563 3.117188 -0.832031 3.117188 -0.980469 Z M 3.554688 -9.679688 C 3.734375 -9.679688 3.898438 -9.613281 4.046875 -9.488281 C 4.191406 -9.355469 4.265625 -9.203125 4.265625 -9.023438 C 4.265625 -8.839844 4.191406 -8.675781 4.046875 -8.53125 C 3.898438 -8.382813 3.734375 -8.308594 3.554688 -8.3125 C 3.371094 -8.308594 3.207031 -8.382813 3.0625 -8.53125 C 2.914063 -8.675781 2.839844 -8.839844 2.84375 -9.023438 C 2.839844 -9.203125 2.914063 -9.355469 3.0625 -9.488281 C 3.207031 -9.613281 3.371094 -9.679688 3.554688 -9.679688 Z M 3.554688 -9.679688 \"/>\n",
       "</symbol>\n",
       "<symbol overflow=\"visible\" id=\"glyph0-4\">\n",
       "<path style=\"stroke:none;\" d=\"M 4.703125 -4.867188 C 4.699219 -4.972656 4.71875 -5.046875 4.757813 -5.085938 C 4.757813 -5.121094 4.773438 -5.191406 4.8125 -5.304688 C 4.84375 -5.445313 4.773438 -5.621094 4.59375 -5.824219 C 4.410156 -6.023438 4.097656 -6.121094 3.664063 -6.125 C 3.113281 -6.121094 2.648438 -5.859375 2.269531 -5.332031 C 1.882813 -4.800781 1.691406 -4.097656 1.695313 -3.226563 C 1.691406 -2.421875 1.855469 -1.773438 2.1875 -1.285156 C 2.511719 -0.789063 3.058594 -0.542969 3.828125 -0.546875 C 4.335938 -0.542969 4.765625 -0.707031 5.113281 -1.039063 C 5.457031 -1.363281 5.703125 -1.746094 5.851563 -2.1875 L 6.125 -2.078125 C 5.976563 -1.527344 5.703125 -1.0625 5.304688 -0.683594 C 4.898438 -0.296875 4.351563 -0.105469 3.664063 -0.109375 C 2.785156 -0.105469 2.09375 -0.378906 1.585938 -0.929688 C 1.074219 -1.472656 0.820313 -2.257813 0.820313 -3.28125 C 0.820313 -4.191406 1.09375 -4.945313 1.640625 -5.550781 C 2.1875 -6.148438 2.898438 -6.449219 3.773438 -6.453125 C 4.390625 -6.449219 4.871094 -6.285156 5.222656 -5.960938 C 5.566406 -5.628906 5.742188 -5.300781 5.742188 -4.976563 C 5.742188 -4.753906 5.695313 -4.601563 5.605469 -4.511719 C 5.511719 -4.417969 5.375 -4.371094 5.195313 -4.375 C 5.046875 -4.371094 4.929688 -4.417969 4.839844 -4.511719 C 4.746094 -4.601563 4.699219 -4.71875 4.703125 -4.867188 Z M 4.703125 -4.867188 \"/>\n",
       "</symbol>\n",
       "<symbol overflow=\"visible\" id=\"glyph0-5\">\n",
       "<path style=\"stroke:none;\" d=\"M 5.25 -3.609375 C 5.285156 -4.410156 5.148438 -5.019531 4.839844 -5.441406 C 4.527344 -5.859375 4.117188 -6.070313 3.609375 -6.070313 C 3.0625 -6.070313 2.613281 -5.851563 2.269531 -5.414063 C 1.917969 -4.976563 1.746094 -4.375 1.75 -3.609375 Z M 1.75 -3.28125 C 1.746094 -2.296875 1.9375 -1.59375 2.324219 -1.175781 C 2.703125 -0.753906 3.203125 -0.542969 3.828125 -0.546875 C 4.296875 -0.542969 4.699219 -0.679688 5.03125 -0.957031 C 5.355469 -1.226563 5.59375 -1.566406 5.742188 -1.96875 L 6.015625 -1.859375 C 5.902344 -1.453125 5.65625 -1.0625 5.277344 -0.683594 C 4.890625 -0.296875 4.371094 -0.105469 3.71875 -0.109375 C 2.878906 -0.105469 2.195313 -0.378906 1.667969 -0.929688 C 1.136719 -1.472656 0.871094 -2.257813 0.875 -3.28125 C 0.871094 -4.191406 1.136719 -4.945313 1.667969 -5.550781 C 2.195313 -6.148438 2.84375 -6.449219 3.609375 -6.453125 C 4.300781 -6.449219 4.902344 -6.214844 5.414063 -5.742188 C 5.921875 -5.265625 6.175781 -4.445313 6.179688 -3.28125 Z M 1.75 -3.28125 \"/>\n",
       "</symbol>\n",
       "<symbol overflow=\"visible\" id=\"glyph0-6\">\n",
       "<path style=\"stroke:none;\" d=\"M 0.21875 -0.21875 L 0.21875 -0.546875 L 0.65625 -0.546875 C 0.835938 -0.542969 0.960938 -0.582031 1.039063 -0.65625 C 1.109375 -0.726563 1.148438 -0.835938 1.148438 -0.984375 L 1.148438 -8.804688 C 1.148438 -8.949219 1.109375 -9.058594 1.039063 -9.132813 C 0.960938 -9.203125 0.835938 -9.238281 0.65625 -9.242188 L 0.328125 -9.242188 L 0.328125 -9.570313 L 3.5 -9.570313 C 4.371094 -9.566406 5.019531 -9.394531 5.441406 -9.050781 C 5.859375 -8.703125 6.070313 -8.164063 6.070313 -7.4375 C 6.070313 -6.921875 5.960938 -6.503906 5.742188 -6.179688 C 5.523438 -5.847656 5.066406 -5.554688 4.375 -5.304688 C 5.210938 -5.046875 5.777344 -4.683594 6.070313 -4.210938 C 6.359375 -3.734375 6.503906 -3.207031 6.507813 -2.625 C 6.503906 -1.894531 6.25 -1.308594 5.742188 -0.875 C 5.230469 -0.433594 4.535156 -0.214844 3.664063 -0.21875 Z M 3.5 -0.546875 C 4.117188 -0.542969 4.601563 -0.734375 4.949219 -1.121094 C 5.292969 -1.5 5.464844 -2.039063 5.46875 -2.734375 C 5.464844 -3.535156 5.285156 -4.128906 4.921875 -4.511719 C 4.554688 -4.894531 4.007813 -5.085938 3.28125 -5.085938 L 2.023438 -5.085938 L 2.023438 -0.984375 C 2.019531 -0.835938 2.066406 -0.726563 2.160156 -0.65625 C 2.25 -0.582031 2.367188 -0.542969 2.515625 -0.546875 Z M 5.140625 -7.4375 C 5.136719 -8.089844 4.957031 -8.554688 4.59375 -8.832031 C 4.226563 -9.101563 3.75 -9.238281 3.171875 -9.242188 L 2.515625 -9.242188 C 2.367188 -9.238281 2.25 -9.203125 2.160156 -9.132813 C 2.066406 -9.058594 2.019531 -8.949219 2.023438 -8.804688 L 2.023438 -5.414063 L 3.445313 -5.414063 C 3.84375 -5.414063 4.226563 -5.578125 4.59375 -5.90625 C 4.957031 -6.234375 5.136719 -6.742188 5.140625 -7.4375 Z M 5.140625 -7.4375 \"/>\n",
       "</symbol>\n",
       "<symbol overflow=\"visible\" id=\"glyph0-7\">\n",
       "<path style=\"stroke:none;\" d=\"M 6.34375 -3.28125 C 6.339844 -2.367188 6.066406 -1.609375 5.523438 -1.011719 C 4.972656 -0.40625 4.296875 -0.105469 3.5 -0.109375 C 2.65625 -0.105469 1.972656 -0.414063 1.449219 -1.039063 C 0.917969 -1.65625 0.65625 -2.40625 0.65625 -3.28125 C 0.65625 -4.082031 0.917969 -4.808594 1.449219 -5.46875 C 1.972656 -6.121094 2.65625 -6.449219 3.5 -6.453125 C 4.371094 -6.449219 5.066406 -6.121094 5.578125 -5.46875 C 6.085938 -4.808594 6.339844 -4.082031 6.34375 -3.28125 Z M 1.53125 -3.226563 C 1.527344 -2.277344 1.71875 -1.574219 2.105469 -1.121094 C 2.484375 -0.660156 2.949219 -0.433594 3.5 -0.4375 C 4.117188 -0.433594 4.601563 -0.679688 4.949219 -1.175781 C 5.292969 -1.664063 5.464844 -2.347656 5.46875 -3.226563 C 5.464844 -4.171875 5.273438 -4.890625 4.894531 -5.386719 C 4.507813 -5.875 4.042969 -6.121094 3.5 -6.125 C 2.984375 -6.121094 2.53125 -5.875 2.132813 -5.386719 C 1.730469 -4.890625 1.527344 -4.171875 1.53125 -3.226563 Z M 1.53125 -3.226563 \"/>\n",
       "</symbol>\n",
       "<symbol overflow=\"visible\" id=\"glyph0-8\">\n",
       "<path style=\"stroke:none;\" d=\"M 1.914063 -5.085938 C 2.09375 -5.484375 2.386719 -5.800781 2.789063 -6.042969 C 3.1875 -6.277344 3.570313 -6.398438 3.9375 -6.398438 C 4.703125 -6.398438 5.277344 -6.132813 5.660156 -5.605469 C 6.042969 -5.074219 6.234375 -4.300781 6.234375 -3.28125 C 6.234375 -2.257813 5.988281 -1.480469 5.496094 -0.957031 C 5.003906 -0.425781 4.390625 -0.164063 3.664063 -0.164063 C 3.296875 -0.164063 2.960938 -0.226563 2.652344 -0.355469 C 2.339844 -0.480469 2.074219 -0.652344 1.859375 -0.875 L 1.367188 -0.21875 L 1.148438 -0.21875 L 1.148438 -8.804688 C 1.148438 -8.949219 1.109375 -9.058594 1.039063 -9.132813 C 0.960938 -9.203125 0.835938 -9.238281 0.65625 -9.242188 L 0.328125 -9.242188 L 0.328125 -9.570313 L 0.820313 -9.570313 C 1 -9.566406 1.179688 -9.605469 1.367188 -9.679688 C 1.546875 -9.75 1.730469 -9.859375 1.914063 -10.007813 Z M 1.914063 -2.023438 C 1.910156 -1.617188 2.046875 -1.273438 2.324219 -0.984375 C 2.59375 -0.691406 3.003906 -0.542969 3.554688 -0.546875 C 4.207031 -0.542969 4.671875 -0.773438 4.949219 -1.230469 C 5.21875 -1.683594 5.355469 -2.367188 5.359375 -3.28125 C 5.355469 -4.15625 5.238281 -4.820313 5.003906 -5.277344 C 4.765625 -5.730469 4.390625 -5.957031 3.882813 -5.960938 C 3.441406 -5.957031 3.058594 -5.832031 2.734375 -5.578125 C 2.402344 -5.320313 2.128906 -4.863281 1.914063 -4.210938 Z M 1.914063 -2.023438 \"/>\n",
       "</symbol>\n",
       "<symbol overflow=\"visible\" id=\"glyph0-9\">\n",
       "<path style=\"stroke:none;\" d=\"M 3.773438 -0.109375 C 2.75 -0.105469 1.9375 -0.488281 1.339844 -1.257813 C 0.734375 -2.019531 0.433594 -3.222656 0.4375 -4.867188 C 0.433594 -6.25 0.753906 -7.398438 1.394531 -8.3125 C 2.03125 -9.222656 2.894531 -9.679688 3.992188 -9.679688 C 4.242188 -9.679688 4.5 -9.640625 4.757813 -9.570313 C 5.011719 -9.457031 5.230469 -9.402344 5.414063 -9.40625 C 5.558594 -9.402344 5.675781 -9.421875 5.769531 -9.460938 C 5.859375 -9.496094 5.941406 -9.570313 6.015625 -9.679688 L 6.507813 -7.273438 L 6.179688 -7.164063 C 5.957031 -7.855469 5.664063 -8.382813 5.304688 -8.75 C 4.9375 -9.109375 4.464844 -9.292969 3.882813 -9.296875 C 3.113281 -9.292969 2.519531 -8.875 2.105469 -8.039063 C 1.683594 -7.199219 1.476563 -6.160156 1.476563 -4.921875 C 1.476563 -3.570313 1.65625 -2.511719 2.023438 -1.75 C 2.382813 -0.980469 2.984375 -0.597656 3.828125 -0.601563 C 4.40625 -0.597656 4.910156 -0.808594 5.332031 -1.230469 C 5.75 -1.648438 6.03125 -2.203125 6.179688 -2.898438 L 6.507813 -2.734375 C 6.324219 -1.964844 5.988281 -1.335938 5.496094 -0.847656 C 5.003906 -0.351563 4.429688 -0.105469 3.773438 -0.109375 Z M 3.773438 -0.109375 \"/>\n",
       "</symbol>\n",
       "<symbol overflow=\"visible\" id=\"glyph0-10\">\n",
       "<path style=\"stroke:none;\" d=\"M 2.679688 -0.164063 C 2.019531 -0.164063 1.511719 -0.316406 1.148438 -0.628906 C 0.78125 -0.933594 0.597656 -1.289063 0.601563 -1.695313 C 0.597656 -2.347656 0.878906 -2.886719 1.449219 -3.308594 C 2.011719 -3.726563 3.132813 -4.027344 4.8125 -4.210938 L 4.8125 -4.867188 C 4.808594 -5.230469 4.726563 -5.53125 4.566406 -5.769531 C 4.398438 -6.003906 4.027344 -6.121094 3.445313 -6.125 C 2.824219 -6.121094 2.386719 -6.023438 2.132813 -5.824219 C 1.875 -5.621094 1.78125 -5.410156 1.859375 -5.195313 C 1.890625 -5.121094 1.910156 -5.046875 1.914063 -4.976563 C 1.910156 -4.898438 1.882813 -4.808594 1.832031 -4.703125 C 1.773438 -4.589844 1.636719 -4.535156 1.421875 -4.539063 C 1.273438 -4.535156 1.15625 -4.582031 1.066406 -4.675781 C 0.972656 -4.765625 0.925781 -4.902344 0.929688 -5.085938 C 0.925781 -5.414063 1.164063 -5.722656 1.640625 -6.015625 C 2.113281 -6.304688 2.695313 -6.449219 3.390625 -6.453125 C 4.117188 -6.449219 4.664063 -6.3125 5.03125 -6.042969 C 5.394531 -5.765625 5.578125 -5.375 5.578125 -4.867188 L 5.578125 -1.257813 C 5.578125 -0.964844 5.605469 -0.792969 5.660156 -0.738281 C 5.714844 -0.683594 5.8125 -0.65625 5.960938 -0.65625 C 6.140625 -0.65625 6.269531 -0.738281 6.34375 -0.902344 C 6.414063 -1.066406 6.449219 -1.292969 6.453125 -1.585938 L 6.726563 -1.585938 C 6.726563 -1.074219 6.632813 -0.71875 6.453125 -0.519531 C 6.265625 -0.316406 6.03125 -0.214844 5.742188 -0.21875 C 5.484375 -0.214844 5.28125 -0.269531 5.140625 -0.382813 C 4.992188 -0.488281 4.882813 -0.671875 4.8125 -0.929688 C 4.445313 -0.671875 4.109375 -0.480469 3.800781 -0.355469 C 3.488281 -0.226563 3.113281 -0.164063 2.679688 -0.164063 Z M 1.53125 -1.859375 C 1.527344 -1.527344 1.628906 -1.226563 1.832031 -0.957031 C 2.03125 -0.679688 2.351563 -0.542969 2.789063 -0.546875 C 3.117188 -0.542969 3.445313 -0.609375 3.773438 -0.738281 C 4.101563 -0.863281 4.445313 -1.054688 4.8125 -1.3125 L 4.8125 -3.882813 C 3.570313 -3.734375 2.714844 -3.488281 2.242188 -3.144531 C 1.765625 -2.796875 1.527344 -2.367188 1.53125 -1.859375 Z M 1.53125 -1.859375 \"/>\n",
       "</symbol>\n",
       "<symbol overflow=\"visible\" id=\"glyph0-11\">\n",
       "<path style=\"stroke:none;\" d=\"M 2.789063 -4.648438 C 3.152344 -5.226563 3.542969 -5.675781 3.964844 -5.988281 C 4.382813 -6.296875 4.8125 -6.449219 5.25 -6.453125 C 5.613281 -6.449219 5.894531 -6.367188 6.097656 -6.207031 C 6.296875 -6.039063 6.398438 -5.847656 6.398438 -5.632813 C 6.398438 -5.445313 6.351563 -5.300781 6.261719 -5.195313 C 6.167969 -5.082031 6.03125 -5.027344 5.851563 -5.03125 C 5.667969 -5.027344 5.53125 -5.082031 5.441406 -5.195313 C 5.347656 -5.300781 5.320313 -5.445313 5.359375 -5.632813 C 5.355469 -5.738281 5.335938 -5.832031 5.304688 -5.90625 C 5.265625 -5.976563 5.15625 -6.011719 4.976563 -6.015625 C 4.679688 -6.011719 4.324219 -5.828125 3.910156 -5.46875 C 3.488281 -5.101563 3.117188 -4.59375 2.789063 -3.9375 L 2.789063 -0.984375 C 2.789063 -0.835938 2.832031 -0.726563 2.925781 -0.65625 C 3.011719 -0.582031 3.132813 -0.542969 3.28125 -0.546875 L 4.484375 -0.546875 L 4.484375 -0.21875 L 0.4375 -0.21875 L 0.4375 -0.546875 L 1.53125 -0.546875 C 1.710938 -0.542969 1.839844 -0.582031 1.914063 -0.65625 C 1.984375 -0.726563 2.019531 -0.835938 2.023438 -0.984375 L 2.023438 -5.523438 C 2.019531 -5.667969 1.984375 -5.785156 1.914063 -5.878906 C 1.839844 -5.964844 1.710938 -6.011719 1.53125 -6.015625 L 0.492188 -6.015625 L 0.492188 -6.34375 L 0.929688 -6.34375 C 1.183594 -6.339844 1.484375 -6.367188 1.832031 -6.425781 C 2.175781 -6.476563 2.441406 -6.539063 2.625 -6.617188 L 2.789063 -6.617188 Z M 2.789063 -4.648438 \"/>\n",
       "</symbol>\n",
       "<symbol overflow=\"visible\" id=\"glyph0-12\">\n",
       "<path style=\"stroke:none;\" d=\"M 5.46875 -4.976563 C 5.464844 -6.539063 5.230469 -7.644531 4.757813 -8.285156 C 4.28125 -8.921875 3.625 -9.238281 2.789063 -9.242188 C 2.53125 -9.238281 2.339844 -9.203125 2.214844 -9.132813 C 2.085938 -9.058594 2.019531 -8.949219 2.023438 -8.804688 L 2.023438 -0.984375 C 2.019531 -0.835938 2.074219 -0.726563 2.1875 -0.65625 C 2.292969 -0.582031 2.441406 -0.542969 2.625 -0.546875 C 3.425781 -0.542969 4.097656 -0.84375 4.648438 -1.449219 C 5.191406 -2.046875 5.464844 -3.222656 5.46875 -4.976563 Z M 1.148438 -8.804688 C 1.148438 -8.949219 1.109375 -9.058594 1.039063 -9.132813 C 0.960938 -9.203125 0.835938 -9.238281 0.65625 -9.242188 L 0.328125 -9.242188 L 0.328125 -9.570313 L 2.789063 -9.570313 C 3.917969 -9.566406 4.820313 -9.203125 5.496094 -8.476563 C 6.167969 -7.746094 6.503906 -6.617188 6.507813 -5.085938 C 6.503906 -3.40625 6.175781 -2.175781 5.523438 -1.394531 C 4.863281 -0.609375 3.898438 -0.214844 2.625 -0.21875 L 0.273438 -0.21875 L 0.273438 -0.546875 L 0.65625 -0.546875 C 0.835938 -0.542969 0.960938 -0.582031 1.039063 -0.65625 C 1.109375 -0.726563 1.148438 -0.835938 1.148438 -0.984375 Z M 1.148438 -8.804688 \"/>\n",
       "</symbol>\n",
       "<symbol overflow=\"visible\" id=\"glyph0-13\">\n",
       "<path style=\"stroke:none;\" d=\"M 0.4375 -0.21875 L 0.4375 -0.546875 L 0.710938 -0.546875 C 0.890625 -0.542969 1.019531 -0.582031 1.09375 -0.65625 C 1.164063 -0.726563 1.199219 -0.835938 1.203125 -0.984375 L 1.203125 -5.6875 C 1.199219 -5.792969 1.183594 -5.875 1.148438 -5.933594 C 1.109375 -5.984375 1.035156 -6.011719 0.929688 -6.015625 L 0.492188 -6.015625 L 0.492188 -6.34375 L 0.875 -6.34375 C 1.054688 -6.339844 1.230469 -6.359375 1.394531 -6.398438 C 1.558594 -6.433594 1.710938 -6.503906 1.859375 -6.617188 L 1.96875 -6.617188 L 1.96875 -5.359375 C 2.296875 -5.722656 2.625 -5.996094 2.953125 -6.179688 C 3.28125 -6.359375 3.625 -6.449219 3.992188 -6.453125 C 4.609375 -6.449219 5.066406 -6.285156 5.359375 -5.960938 C 5.648438 -5.628906 5.792969 -5.136719 5.796875 -4.484375 L 5.796875 -0.984375 C 5.792969 -0.835938 5.839844 -0.726563 5.933594 -0.65625 C 6.023438 -0.582031 6.140625 -0.542969 6.289063 -0.546875 L 6.5625 -0.546875 L 6.5625 -0.21875 L 4.265625 -0.21875 L 4.265625 -0.546875 L 4.539063 -0.546875 C 4.71875 -0.542969 4.847656 -0.582031 4.921875 -0.65625 C 4.992188 -0.726563 5.027344 -0.835938 5.03125 -0.984375 L 5.03125 -4.648438 C 5.027344 -5.082031 4.9375 -5.421875 4.757813 -5.660156 C 4.574219 -5.894531 4.300781 -6.011719 3.9375 -6.015625 C 3.609375 -6.011719 3.269531 -5.902344 2.925781 -5.6875 C 2.574219 -5.464844 2.257813 -5.15625 1.96875 -4.757813 L 1.96875 -0.984375 C 1.96875 -0.835938 2.011719 -0.726563 2.105469 -0.65625 C 2.191406 -0.582031 2.3125 -0.542969 2.460938 -0.546875 L 2.734375 -0.546875 L 2.734375 -0.21875 Z M 0.4375 -0.21875 \"/>\n",
       "</symbol>\n",
       "<symbol overflow=\"visible\" id=\"glyph0-14\">\n",
       "<path style=\"stroke:none;\" d=\"M 1.367188 -4.757813 C 1.363281 -5.304688 1.574219 -5.722656 1.996094 -6.015625 C 2.414063 -6.304688 2.914063 -6.449219 3.5 -6.453125 C 3.824219 -6.449219 4.136719 -6.414063 4.429688 -6.34375 C 4.71875 -6.230469 4.917969 -6.175781 5.03125 -6.179688 C 5.136719 -6.175781 5.226563 -6.195313 5.304688 -6.234375 C 5.375 -6.269531 5.46875 -6.339844 5.578125 -6.453125 L 5.796875 -4.648438 L 5.46875 -4.59375 C 5.320313 -5.066406 5.074219 -5.4375 4.730469 -5.714844 C 4.378906 -5.984375 3.988281 -6.121094 3.554688 -6.125 C 3.078125 -6.121094 2.703125 -6.03125 2.433594 -5.851563 C 2.15625 -5.667969 2.019531 -5.414063 2.023438 -5.085938 C 2.019531 -4.792969 2.085938 -4.5625 2.214844 -4.402344 C 2.339844 -4.234375 2.566406 -4.117188 2.898438 -4.046875 C 3.152344 -3.933594 3.480469 -3.824219 3.882813 -3.71875 C 4.246094 -3.570313 4.59375 -3.425781 4.921875 -3.28125 C 5.210938 -3.132813 5.457031 -2.941406 5.660156 -2.707031 C 5.859375 -2.46875 5.957031 -2.203125 5.960938 -1.914063 C 5.957031 -1.363281 5.765625 -0.933594 5.386719 -0.628906 C 5 -0.316406 4.445313 -0.164063 3.71875 -0.164063 C 3.242188 -0.164063 2.894531 -0.21875 2.679688 -0.328125 C 2.421875 -0.398438 2.222656 -0.433594 2.078125 -0.4375 C 1.964844 -0.433594 1.847656 -0.40625 1.722656 -0.355469 C 1.59375 -0.296875 1.457031 -0.234375 1.3125 -0.164063 L 1.148438 -2.1875 L 1.476563 -2.242188 C 1.585938 -1.65625 1.820313 -1.21875 2.1875 -0.929688 C 2.546875 -0.636719 3.058594 -0.492188 3.71875 -0.492188 C 4.226563 -0.492188 4.617188 -0.582031 4.894531 -0.765625 C 5.164063 -0.945313 5.300781 -1.21875 5.304688 -1.585938 C 5.300781 -1.839844 5.230469 -2.050781 5.085938 -2.214844 C 4.9375 -2.378906 4.789063 -2.496094 4.648438 -2.570313 C 4.28125 -2.714844 3.882813 -2.878906 3.445313 -3.0625 C 3.007813 -3.207031 2.625 -3.351563 2.296875 -3.5 C 1.96875 -3.640625 1.730469 -3.824219 1.585938 -4.046875 C 1.4375 -4.261719 1.363281 -4.5 1.367188 -4.757813 Z M 1.367188 -4.757813 \"/>\n",
       "</symbol>\n",
       "<symbol overflow=\"visible\" id=\"glyph0-15\">\n",
       "<path style=\"stroke:none;\" d=\"M 0.4375 -9.242188 L 0.4375 -9.570313 L 5.796875 -9.570313 L 6.398438 -7.710938 L 6.125 -7.601563 C 5.828125 -8.144531 5.519531 -8.554688 5.195313 -8.832031 C 4.863281 -9.101563 4.5 -9.238281 4.101563 -9.242188 L 2.570313 -9.242188 C 2.421875 -9.238281 2.304688 -9.203125 2.214844 -9.132813 C 2.121094 -9.058594 2.074219 -8.949219 2.078125 -8.804688 L 2.078125 -5.414063 L 3.664063 -5.414063 C 4.023438 -5.414063 4.289063 -5.503906 4.457031 -5.6875 C 4.617188 -5.867188 4.699219 -6.140625 4.703125 -6.507813 L 4.703125 -6.835938 L 5.03125 -6.835938 L 5.03125 -3.609375 L 4.703125 -3.609375 L 4.703125 -3.828125 C 4.699219 -4.226563 4.617188 -4.539063 4.457031 -4.757813 C 4.289063 -4.976563 4.023438 -5.085938 3.664063 -5.085938 L 2.078125 -5.085938 L 2.078125 -0.984375 C 2.074219 -0.835938 2.121094 -0.726563 2.214844 -0.65625 C 2.304688 -0.582031 2.421875 -0.542969 2.570313 -0.546875 L 3.992188 -0.546875 C 4.535156 -0.542969 5 -0.699219 5.386719 -1.011719 C 5.765625 -1.320313 6.066406 -1.804688 6.289063 -2.460938 L 6.5625 -2.351563 L 5.960938 -0.21875 L 0.382813 -0.21875 L 0.382813 -0.546875 L 0.710938 -0.546875 C 0.890625 -0.542969 1.019531 -0.582031 1.09375 -0.65625 C 1.164063 -0.726563 1.199219 -0.835938 1.203125 -0.984375 L 1.203125 -8.804688 C 1.199219 -8.949219 1.164063 -9.058594 1.09375 -9.132813 C 1.019531 -9.203125 0.890625 -9.238281 0.710938 -9.242188 Z M 0.4375 -9.242188 \"/>\n",
       "</symbol>\n",
       "<symbol overflow=\"visible\" id=\"glyph0-16\">\n",
       "<path style=\"stroke:none;\" d=\"M 3.28125 -1.96875 C 3.28125 -1.457031 3.371094 -1.109375 3.554688 -0.929688 C 3.734375 -0.746094 4.007813 -0.65625 4.375 -0.65625 C 4.738281 -0.65625 5.03125 -0.773438 5.25 -1.011719 C 5.46875 -1.246094 5.613281 -1.582031 5.6875 -2.023438 L 5.960938 -1.914063 C 5.882813 -1.402344 5.691406 -0.984375 5.386719 -0.65625 C 5.074219 -0.328125 4.664063 -0.164063 4.15625 -0.164063 C 3.605469 -0.164063 3.195313 -0.328125 2.925781 -0.65625 C 2.648438 -0.984375 2.511719 -1.492188 2.515625 -2.1875 L 2.515625 -6.015625 L 0.875 -6.015625 L 0.875 -6.34375 L 1.3125 -6.34375 C 1.75 -6.339844 2.105469 -6.476563 2.378906 -6.753906 C 2.652344 -7.023438 2.824219 -7.453125 2.898438 -8.039063 L 2.953125 -8.476563 L 3.28125 -8.476563 L 3.28125 -6.34375 L 5.46875 -6.34375 L 5.46875 -6.015625 L 3.28125 -6.015625 Z M 3.28125 -1.96875 \"/>\n",
       "</symbol>\n",
       "<symbol overflow=\"visible\" id=\"glyph0-17\">\n",
       "<path style=\"stroke:none;\" d=\"M 0.4375 -0.21875 L 0.4375 -0.546875 L 0.710938 -0.546875 C 0.890625 -0.542969 1.019531 -0.582031 1.09375 -0.65625 C 1.164063 -0.726563 1.199219 -0.835938 1.203125 -0.984375 L 1.203125 -8.804688 C 1.199219 -8.949219 1.164063 -9.058594 1.09375 -9.132813 C 1.019531 -9.203125 0.890625 -9.238281 0.710938 -9.242188 L 0.382813 -9.242188 L 0.382813 -9.570313 L 0.984375 -9.570313 C 1.128906 -9.566406 1.273438 -9.605469 1.421875 -9.679688 C 1.566406 -9.75 1.710938 -9.859375 1.859375 -10.007813 L 1.96875 -10.007813 L 1.96875 -5.359375 C 2.296875 -5.757813 2.632813 -6.039063 2.980469 -6.207031 C 3.324219 -6.367188 3.699219 -6.449219 4.101563 -6.453125 C 4.648438 -6.449219 5.066406 -6.296875 5.359375 -5.988281 C 5.648438 -5.675781 5.792969 -5.191406 5.796875 -4.539063 L 5.796875 -0.984375 C 5.792969 -0.835938 5.839844 -0.726563 5.933594 -0.65625 C 6.023438 -0.582031 6.140625 -0.542969 6.289063 -0.546875 L 6.5625 -0.546875 L 6.5625 -0.21875 L 4.265625 -0.21875 L 4.265625 -0.546875 L 4.539063 -0.546875 C 4.71875 -0.542969 4.847656 -0.582031 4.921875 -0.65625 C 4.992188 -0.726563 5.027344 -0.835938 5.03125 -0.984375 L 5.03125 -4.429688 C 5.027344 -5.046875 4.925781 -5.457031 4.730469 -5.660156 C 4.527344 -5.859375 4.265625 -5.957031 3.9375 -5.960938 C 3.644531 -5.957031 3.324219 -5.867188 2.980469 -5.6875 C 2.632813 -5.503906 2.296875 -5.195313 1.96875 -4.757813 L 1.96875 -0.984375 C 1.96875 -0.835938 2.011719 -0.726563 2.105469 -0.65625 C 2.191406 -0.582031 2.3125 -0.542969 2.460938 -0.546875 L 2.734375 -0.546875 L 2.734375 -0.21875 Z M 0.4375 -0.21875 \"/>\n",
       "</symbol>\n",
       "<symbol overflow=\"visible\" id=\"glyph0-18\">\n",
       "<path style=\"stroke:none;\" d=\"M 2.953125 -0.546875 L 2.953125 -0.21875 L 0.328125 -0.21875 L 0.328125 -0.546875 L 0.710938 -0.546875 C 0.890625 -0.542969 1.019531 -0.582031 1.09375 -0.65625 C 1.164063 -0.726563 1.199219 -0.835938 1.203125 -0.984375 L 1.203125 -8.804688 C 1.199219 -8.949219 1.164063 -9.058594 1.09375 -9.132813 C 1.019531 -9.203125 0.890625 -9.238281 0.710938 -9.242188 L 0.382813 -9.242188 L 0.382813 -9.570313 L 6.070313 -9.570313 L 6.726563 -7.601563 L 6.453125 -7.492188 C 6.15625 -8.074219 5.8125 -8.511719 5.414063 -8.804688 C 5.011719 -9.09375 4.574219 -9.238281 4.101563 -9.242188 L 2.570313 -9.242188 C 2.421875 -9.238281 2.304688 -9.203125 2.214844 -9.132813 C 2.121094 -9.058594 2.074219 -8.949219 2.078125 -8.804688 L 2.078125 -5.304688 L 3.882813 -5.304688 C 4.246094 -5.300781 4.511719 -5.382813 4.675781 -5.550781 C 4.839844 -5.710938 4.921875 -5.976563 4.921875 -6.34375 L 4.921875 -6.617188 L 5.25 -6.617188 L 5.25 -3.445313 L 4.921875 -3.445313 L 4.921875 -3.664063 C 4.921875 -4.097656 4.839844 -4.425781 4.675781 -4.648438 C 4.511719 -4.863281 4.246094 -4.972656 3.882813 -4.976563 L 2.078125 -4.976563 L 2.078125 -0.984375 C 2.074219 -0.835938 2.121094 -0.726563 2.214844 -0.65625 C 2.304688 -0.582031 2.421875 -0.542969 2.570313 -0.546875 Z M 2.953125 -0.546875 \"/>\n",
       "</symbol>\n",
       "<symbol overflow=\"visible\" id=\"glyph0-19\">\n",
       "<path style=\"stroke:none;\" d=\"M 3.664063 -4.15625 L 5.742188 -0.929688 C 5.851563 -0.78125 5.949219 -0.679688 6.042969 -0.628906 C 6.128906 -0.570313 6.230469 -0.542969 6.34375 -0.546875 L 6.5625 -0.546875 L 6.5625 -0.21875 L 4.320313 -0.21875 L 4.320313 -0.546875 L 4.484375 -0.546875 C 4.664063 -0.542969 4.792969 -0.570313 4.867188 -0.628906 C 4.9375 -0.679688 4.917969 -0.78125 4.8125 -0.929688 L 3.117188 -3.570313 L 2.023438 -2.460938 L 2.023438 -0.984375 C 2.019531 -0.835938 2.066406 -0.726563 2.160156 -0.65625 C 2.25 -0.582031 2.367188 -0.542969 2.515625 -0.546875 L 2.789063 -0.546875 L 2.789063 -0.21875 L 0.492188 -0.21875 L 0.492188 -0.546875 L 0.765625 -0.546875 C 0.945313 -0.542969 1.074219 -0.582031 1.148438 -0.65625 C 1.21875 -0.726563 1.253906 -0.835938 1.257813 -0.984375 L 1.257813 -8.804688 C 1.253906 -8.949219 1.21875 -9.058594 1.148438 -9.132813 C 1.074219 -9.203125 0.945313 -9.238281 0.765625 -9.242188 L 0.4375 -9.242188 L 0.4375 -9.570313 L 0.929688 -9.570313 C 1.144531 -9.566406 1.335938 -9.605469 1.503906 -9.679688 C 1.664063 -9.75 1.800781 -9.859375 1.914063 -10.007813 L 2.023438 -10.007813 L 2.023438 -3.0625 L 4.320313 -5.523438 C 4.390625 -5.667969 4.417969 -5.785156 4.402344 -5.878906 C 4.378906 -5.964844 4.296875 -6.011719 4.15625 -6.015625 L 3.828125 -6.015625 L 3.828125 -6.34375 L 6.125 -6.34375 L 6.125 -6.015625 L 5.851563 -6.015625 C 5.738281 -6.011719 5.601563 -5.984375 5.441406 -5.933594 C 5.273438 -5.875 5.117188 -5.773438 4.976563 -5.632813 Z M 3.664063 -4.15625 \"/>\n",
       "</symbol>\n",
       "<symbol overflow=\"visible\" id=\"glyph0-20\">\n",
       "<path style=\"stroke:none;\" d=\"M 3.554688 -9.296875 C 3.003906 -9.292969 2.503906 -8.917969 2.050781 -8.175781 C 1.59375 -7.425781 1.363281 -6.289063 1.367188 -4.757813 C 1.363281 -3.734375 1.539063 -2.765625 1.886719 -1.859375 C 2.230469 -0.945313 2.804688 -0.492188 3.609375 -0.492188 C 4.007813 -0.492188 4.324219 -0.574219 4.566406 -0.738281 C 4.800781 -0.902344 4.9375 -1.148438 4.976563 -1.476563 L 4.976563 -3.335938 C 4.972656 -3.550781 4.917969 -3.714844 4.8125 -3.828125 C 4.699219 -3.933594 4.535156 -3.988281 4.320313 -3.992188 L 3.992188 -3.992188 L 3.992188 -4.320313 L 6.726563 -4.320313 L 6.726563 -3.992188 L 6.453125 -3.992188 C 6.265625 -3.988281 6.121094 -3.933594 6.015625 -3.828125 C 5.902344 -3.714844 5.847656 -3.570313 5.851563 -3.390625 L 5.851563 -0.65625 C 5.777344 -0.691406 5.714844 -0.71875 5.660156 -0.738281 C 5.605469 -0.753906 5.539063 -0.761719 5.46875 -0.765625 C 5.390625 -0.761719 5.320313 -0.753906 5.25 -0.738281 C 5.175781 -0.71875 5.101563 -0.671875 5.03125 -0.601563 C 4.808594 -0.417969 4.582031 -0.289063 4.347656 -0.21875 C 4.109375 -0.140625 3.84375 -0.105469 3.554688 -0.109375 C 2.457031 -0.105469 1.65625 -0.589844 1.148438 -1.558594 C 0.636719 -2.523438 0.378906 -3.589844 0.382813 -4.757813 C 0.378906 -6.105469 0.679688 -7.261719 1.285156 -8.230469 C 1.882813 -9.195313 2.640625 -9.679688 3.554688 -9.679688 C 3.769531 -9.679688 4.023438 -9.625 4.320313 -9.515625 C 4.609375 -9.40625 4.792969 -9.351563 4.867188 -9.351563 C 4.972656 -9.351563 5.082031 -9.378906 5.195313 -9.433594 C 5.300781 -9.488281 5.390625 -9.570313 5.46875 -9.679688 L 5.90625 -7.21875 L 5.578125 -7.109375 C 5.359375 -7.871094 5.085938 -8.429688 4.757813 -8.777344 C 4.429688 -9.121094 4.027344 -9.292969 3.554688 -9.296875 Z M 3.554688 -9.296875 \"/>\n",
       "</symbol>\n",
       "<symbol overflow=\"visible\" id=\"glyph0-21\">\n",
       "<path style=\"stroke:none;\" d=\"M 1.914063 -4.320313 C 1.910156 -3.878906 2.039063 -3.507813 2.296875 -3.199219 C 2.550781 -2.886719 2.894531 -2.730469 3.335938 -2.734375 C 3.804688 -2.730469 4.160156 -2.867188 4.402344 -3.144531 C 4.636719 -3.414063 4.757813 -3.804688 4.757813 -4.320313 C 4.757813 -4.9375 4.621094 -5.386719 4.347656 -5.660156 C 4.074219 -5.933594 3.734375 -6.070313 3.335938 -6.070313 C 2.929688 -6.070313 2.59375 -5.933594 2.324219 -5.660156 C 2.046875 -5.386719 1.910156 -4.9375 1.914063 -4.320313 Z M 4.59375 -1.367188 C 5.140625 -1.289063 5.539063 -1.136719 5.796875 -0.902344 C 6.046875 -0.664063 6.175781 -0.347656 6.179688 0.0546875 C 6.175781 0.597656 5.949219 1.035156 5.496094 1.367188 C 5.039063 1.691406 4.316406 1.855469 3.335938 1.859375 C 2.566406 1.855469 1.949219 1.703125 1.476563 1.394531 C 1 1.082031 0.761719 0.726563 0.765625 0.328125 C 0.761719 0.0742188 0.851563 -0.179688 1.039063 -0.4375 C 1.21875 -0.691406 1.511719 -0.890625 1.914063 -1.039063 C 1.691406 -1.144531 1.519531 -1.265625 1.394531 -1.394531 C 1.265625 -1.519531 1.199219 -1.671875 1.203125 -1.859375 C 1.199219 -2.074219 1.273438 -2.265625 1.421875 -2.433594 C 1.566406 -2.59375 1.75 -2.730469 1.96875 -2.84375 C 1.75 -3.023438 1.558594 -3.242188 1.394531 -3.5 C 1.230469 -3.75 1.148438 -4.023438 1.148438 -4.320313 C 1.148438 -4.863281 1.339844 -5.347656 1.722656 -5.769531 C 2.105469 -6.1875 2.640625 -6.398438 3.335938 -6.398438 C 3.625 -6.398438 3.910156 -6.359375 4.183594 -6.289063 C 4.457031 -6.210938 4.683594 -6.085938 4.867188 -5.90625 C 5.121094 -6.085938 5.347656 -6.222656 5.550781 -6.316406 C 5.746094 -6.40625 5.921875 -6.449219 6.070313 -6.453125 C 6.25 -6.449219 6.375 -6.386719 6.453125 -6.261719 C 6.523438 -6.132813 6.5625 -6.015625 6.5625 -5.90625 C 6.5625 -5.757813 6.535156 -5.636719 6.480469 -5.550781 C 6.425781 -5.457031 6.324219 -5.414063 6.179688 -5.414063 C 6.066406 -5.414063 5.976563 -5.441406 5.90625 -5.496094 C 5.832031 -5.550781 5.777344 -5.632813 5.742188 -5.742188 C 5.703125 -5.851563 5.621094 -5.894531 5.496094 -5.878906 C 5.367188 -5.855469 5.230469 -5.792969 5.085938 -5.6875 C 5.230469 -5.539063 5.339844 -5.339844 5.414063 -5.085938 C 5.484375 -4.828125 5.519531 -4.570313 5.523438 -4.320313 C 5.519531 -3.878906 5.347656 -3.453125 5.003906 -3.035156 C 4.65625 -2.613281 4.097656 -2.402344 3.335938 -2.40625 C 3.113281 -2.402344 2.914063 -2.429688 2.734375 -2.488281 C 2.550781 -2.539063 2.40625 -2.601563 2.296875 -2.679688 C 2.148438 -2.601563 2.039063 -2.511719 1.96875 -2.40625 C 1.894531 -2.292969 1.855469 -2.203125 1.859375 -2.132813 C 1.855469 -1.984375 1.894531 -1.875 1.96875 -1.804688 C 2.039063 -1.730469 2.148438 -1.691406 2.296875 -1.695313 C 2.769531 -1.617188 3.195313 -1.554688 3.582031 -1.503906 C 3.960938 -1.445313 4.300781 -1.398438 4.59375 -1.367188 Z M 2.351563 -0.929688 C 2.019531 -0.78125 1.792969 -0.609375 1.667969 -0.410156 C 1.539063 -0.207031 1.476563 0.0390625 1.476563 0.328125 C 1.476563 0.617188 1.640625 0.890625 1.96875 1.148438 C 2.296875 1.402344 2.789063 1.527344 3.445313 1.53125 C 4.0625 1.527344 4.554688 1.429688 4.921875 1.230469 C 5.285156 1.027344 5.464844 0.726563 5.46875 0.328125 C 5.464844 0.0742188 5.421875 -0.125 5.332031 -0.273438 C 5.238281 -0.417969 5.101563 -0.507813 4.921875 -0.546875 C 4.554688 -0.617188 4.152344 -0.691406 3.71875 -0.765625 C 3.277344 -0.800781 2.820313 -0.855469 2.351563 -0.929688 Z M 2.351563 -0.929688 \"/>\n",
       "</symbol>\n",
       "</g>\n",
       "</defs>\n",
       "<g id=\"surface363\">\n",
       "<rect x=\"0\" y=\"0\" width=\"300\" height=\"300\" style=\"fill:rgb(100%,100%,100%);fill-opacity:1;stroke:none;\"/>\n",
       "<path style=\"fill:none;stroke-width:3;stroke-linecap:butt;stroke-linejoin:miter;stroke:rgb(26.666667%,26.666667%,26.666667%);stroke-opacity:1;stroke-miterlimit:10;\" d=\"M 109.265625 197.066406 L 20 207.710938 \"/>\n",
       "<path style=\"fill:none;stroke-width:1;stroke-linecap:butt;stroke-linejoin:miter;stroke:rgb(26.666667%,26.666667%,26.666667%);stroke-opacity:1;stroke-miterlimit:10;\" d=\"M 109.265625 197.066406 L 185.691406 128.527344 \"/>\n",
       "<path style=\"fill:none;stroke-width:3;stroke-linecap:butt;stroke-linejoin:miter;stroke:rgb(26.666667%,26.666667%,26.666667%);stroke-opacity:1;stroke-miterlimit:10;\" d=\"M 185.691406 128.527344 L 280 135.917969 \"/>\n",
       "<path style=\"fill:none;stroke-width:3;stroke-linecap:butt;stroke-linejoin:miter;stroke:rgb(26.666667%,26.666667%,26.666667%);stroke-opacity:1;stroke-miterlimit:10;\" d=\"M 280 135.917969 L 238.214844 20 \"/>\n",
       "<path style=\"fill:none;stroke-width:3;stroke-linecap:butt;stroke-linejoin:miter;stroke:rgb(26.666667%,26.666667%,26.666667%);stroke-opacity:1;stroke-miterlimit:10;\" d=\"M 185.691406 128.527344 L 238.214844 20 \"/>\n",
       "<path style=\"fill:none;stroke-width:1;stroke-linecap:butt;stroke-linejoin:miter;stroke:rgb(26.666667%,26.666667%,26.666667%);stroke-opacity:1;stroke-miterlimit:10;\" d=\"M 185.691406 128.527344 L 182.359375 272.703125 \"/>\n",
       "<path style=\"fill:none;stroke-width:3;stroke-linecap:butt;stroke-linejoin:miter;stroke:rgb(26.666667%,26.666667%,26.666667%);stroke-opacity:1;stroke-miterlimit:10;\" d=\"M 109.265625 197.066406 L 182.359375 272.703125 \"/>\n",
       "<path style=\"fill:none;stroke-width:1;stroke-linecap:butt;stroke-linejoin:miter;stroke:rgb(26.666667%,26.666667%,26.666667%);stroke-opacity:1;stroke-miterlimit:10;\" d=\"M 280 135.917969 L 276.179688 280 \"/>\n",
       "<path style=\"fill:none;stroke-width:1;stroke-linecap:butt;stroke-linejoin:miter;stroke:rgb(26.666667%,26.666667%,26.666667%);stroke-opacity:1;stroke-miterlimit:10;\" d=\"M 182.359375 272.703125 L 276.179688 280 \"/>\n",
       "<path style=\"fill-rule:nonzero;fill:rgb(100%,75.294118%,79.607843%);fill-opacity:1;stroke-width:1;stroke-linecap:butt;stroke-linejoin:miter;stroke:rgb(0%,0%,0%);stroke-opacity:1;stroke-miterlimit:10;\" d=\"M 119.265625 197.066406 C 119.265625 202.589844 114.785156 207.066406 109.265625 207.066406 C 103.742188 207.066406 99.265625 202.589844 99.265625 197.066406 C 99.265625 191.542969 103.742188 187.066406 109.265625 187.066406 C 114.785156 187.066406 119.265625 191.542969 119.265625 197.066406 \"/>\n",
       "<path style=\"fill-rule:nonzero;fill:rgb(0%,100%,0%);fill-opacity:1;stroke-width:1;stroke-linecap:butt;stroke-linejoin:miter;stroke:rgb(0%,0%,0%);stroke-opacity:1;stroke-miterlimit:10;\" d=\"M 30 207.710938 C 30 213.234375 25.523438 217.710938 20 217.710938 C 14.476563 217.710938 10 213.234375 10 207.710938 C 10 202.191406 14.476563 197.710938 20 197.710938 C 25.523438 197.710938 30 202.191406 30 207.710938 \"/>\n",
       "<path style=\"fill-rule:nonzero;fill:rgb(100%,75.294118%,79.607843%);fill-opacity:1;stroke-width:1;stroke-linecap:butt;stroke-linejoin:miter;stroke:rgb(0%,0%,0%);stroke-opacity:1;stroke-miterlimit:10;\" d=\"M 195.691406 128.527344 C 195.691406 134.050781 191.214844 138.527344 185.691406 138.527344 C 180.167969 138.527344 175.691406 134.050781 175.691406 128.527344 C 175.691406 123.003906 180.167969 118.527344 185.691406 118.527344 C 191.214844 118.527344 195.691406 123.003906 195.691406 128.527344 \"/>\n",
       "<path style=\"fill-rule:nonzero;fill:rgb(0%,100%,0%);fill-opacity:1;stroke-width:1;stroke-linecap:butt;stroke-linejoin:miter;stroke:rgb(0%,0%,0%);stroke-opacity:1;stroke-miterlimit:10;\" d=\"M 290 135.917969 C 290 141.441406 285.523438 145.917969 280 145.917969 C 274.476563 145.917969 270 141.441406 270 135.917969 C 270 130.394531 274.476563 125.917969 280 125.917969 C 285.523438 125.917969 290 130.394531 290 135.917969 \"/>\n",
       "<path style=\"fill-rule:nonzero;fill:rgb(100%,75.294118%,79.607843%);fill-opacity:1;stroke-width:1;stroke-linecap:butt;stroke-linejoin:miter;stroke:rgb(0%,0%,0%);stroke-opacity:1;stroke-miterlimit:10;\" d=\"M 248.214844 20 C 248.214844 25.523438 243.738281 30 238.214844 30 C 232.691406 30 228.214844 25.523438 228.214844 20 C 228.214844 14.476563 232.691406 10 238.214844 10 C 243.738281 10 248.214844 14.476563 248.214844 20 \"/>\n",
       "<path style=\"fill-rule:nonzero;fill:rgb(0%,100%,0%);fill-opacity:1;stroke-width:1;stroke-linecap:butt;stroke-linejoin:miter;stroke:rgb(0%,0%,0%);stroke-opacity:1;stroke-miterlimit:10;\" d=\"M 192.359375 272.703125 C 192.359375 278.226563 187.882813 282.703125 182.359375 282.703125 C 176.835938 282.703125 172.359375 278.226563 172.359375 272.703125 C 172.359375 267.183594 176.835938 262.703125 182.359375 262.703125 C 187.882813 262.703125 192.359375 267.183594 192.359375 272.703125 \"/>\n",
       "<path style=\"fill-rule:nonzero;fill:rgb(0%,100%,0%);fill-opacity:1;stroke-width:1;stroke-linecap:butt;stroke-linejoin:miter;stroke:rgb(0%,0%,0%);stroke-opacity:1;stroke-miterlimit:10;\" d=\"M 286.179688 280 C 286.179688 285.523438 281.703125 290 276.179688 290 C 270.65625 290 266.179688 285.523438 266.179688 280 C 266.179688 274.476563 270.65625 270 276.179688 270 C 281.703125 270 286.179688 274.476563 286.179688 280 \"/>\n",
       "<g style=\"fill:rgb(0%,0%,0%);fill-opacity:1;\">\n",
       "  <use xlink:href=\"#glyph0-1\" x=\"92.121094\" y=\"203.070313\"/>\n",
       "  <use xlink:href=\"#glyph0-2\" x=\"99.121094\" y=\"203.070313\"/>\n",
       "  <use xlink:href=\"#glyph0-3\" x=\"106.121094\" y=\"203.070313\"/>\n",
       "  <use xlink:href=\"#glyph0-4\" x=\"113.121094\" y=\"203.070313\"/>\n",
       "  <use xlink:href=\"#glyph0-5\" x=\"120.121094\" y=\"203.070313\"/>\n",
       "</g>\n",
       "<g style=\"fill:rgb(0%,0%,0%);fill-opacity:1;\">\n",
       "  <use xlink:href=\"#glyph0-6\" x=\"9.773438\" y=\"213.714844\"/>\n",
       "  <use xlink:href=\"#glyph0-7\" x=\"16.773438\" y=\"213.714844\"/>\n",
       "  <use xlink:href=\"#glyph0-8\" x=\"23.773438\" y=\"213.714844\"/>\n",
       "</g>\n",
       "<g style=\"fill:rgb(0%,0%,0%);fill-opacity:1;\">\n",
       "  <use xlink:href=\"#glyph0-9\" x=\"164.882813\" y=\"134.53125\"/>\n",
       "  <use xlink:href=\"#glyph0-2\" x=\"171.882813\" y=\"134.53125\"/>\n",
       "  <use xlink:href=\"#glyph0-10\" x=\"178.882813\" y=\"134.53125\"/>\n",
       "  <use xlink:href=\"#glyph0-3\" x=\"185.882813\" y=\"134.53125\"/>\n",
       "  <use xlink:href=\"#glyph0-11\" x=\"192.882813\" y=\"134.53125\"/>\n",
       "  <use xlink:href=\"#glyph0-5\" x=\"199.882813\" y=\"134.53125\"/>\n",
       "</g>\n",
       "<g style=\"fill:rgb(0%,0%,0%);fill-opacity:1;\">\n",
       "  <use xlink:href=\"#glyph0-12\" x=\"259.382813\" y=\"141.757813\"/>\n",
       "  <use xlink:href=\"#glyph0-5\" x=\"266.382813\" y=\"141.757813\"/>\n",
       "  <use xlink:href=\"#glyph0-13\" x=\"273.382813\" y=\"141.757813\"/>\n",
       "  <use xlink:href=\"#glyph0-13\" x=\"280.382813\" y=\"141.757813\"/>\n",
       "  <use xlink:href=\"#glyph0-3\" x=\"287.382813\" y=\"141.757813\"/>\n",
       "  <use xlink:href=\"#glyph0-14\" x=\"294.382813\" y=\"141.757813\"/>\n",
       "</g>\n",
       "<g style=\"fill:rgb(0%,0%,0%);fill-opacity:1;\">\n",
       "  <use xlink:href=\"#glyph0-15\" x=\"217.324219\" y=\"26.003906\"/>\n",
       "  <use xlink:href=\"#glyph0-14\" x=\"224.324219\" y=\"26.003906\"/>\n",
       "  <use xlink:href=\"#glyph0-16\" x=\"231.324219\" y=\"26.003906\"/>\n",
       "  <use xlink:href=\"#glyph0-17\" x=\"238.324219\" y=\"26.003906\"/>\n",
       "  <use xlink:href=\"#glyph0-5\" x=\"245.324219\" y=\"26.003906\"/>\n",
       "  <use xlink:href=\"#glyph0-11\" x=\"252.324219\" y=\"26.003906\"/>\n",
       "</g>\n",
       "<g style=\"fill:rgb(0%,0%,0%);fill-opacity:1;\">\n",
       "  <use xlink:href=\"#glyph0-18\" x=\"164.914063\" y=\"278.707031\"/>\n",
       "  <use xlink:href=\"#glyph0-11\" x=\"171.914063\" y=\"278.707031\"/>\n",
       "  <use xlink:href=\"#glyph0-10\" x=\"178.914063\" y=\"278.707031\"/>\n",
       "  <use xlink:href=\"#glyph0-13\" x=\"185.914063\" y=\"278.707031\"/>\n",
       "  <use xlink:href=\"#glyph0-19\" x=\"192.914063\" y=\"278.707031\"/>\n",
       "</g>\n",
       "<g style=\"fill:rgb(0%,0%,0%);fill-opacity:1;\">\n",
       "  <use xlink:href=\"#glyph0-20\" x=\"255.398438\" y=\"285.839844\"/>\n",
       "  <use xlink:href=\"#glyph0-5\" x=\"262.398438\" y=\"285.839844\"/>\n",
       "  <use xlink:href=\"#glyph0-7\" x=\"269.398438\" y=\"285.839844\"/>\n",
       "  <use xlink:href=\"#glyph0-11\" x=\"276.398438\" y=\"285.839844\"/>\n",
       "  <use xlink:href=\"#glyph0-21\" x=\"283.398438\" y=\"285.839844\"/>\n",
       "  <use xlink:href=\"#glyph0-5\" x=\"290.398438\" y=\"285.839844\"/>\n",
       "</g>\n",
       "</g>\n",
       "</svg>\n"
      ],
      "text/plain": [
       "<igraph.drawing.Plot at 0x21d123470f0>"
      ]
     },
     "execution_count": 247,
     "metadata": {},
     "output_type": "execute_result"
    }
   ],
   "source": [
    "plot(g, \"social_network.png\", **visual_style)"
   ]
  },
  {
   "cell_type": "code",
   "execution_count": null,
   "metadata": {},
   "outputs": [],
   "source": []
  },
  {
   "cell_type": "code",
   "execution_count": null,
   "metadata": {},
   "outputs": [],
   "source": []
  },
  {
   "cell_type": "code",
   "execution_count": null,
   "metadata": {},
   "outputs": [],
   "source": []
  },
  {
   "cell_type": "code",
   "execution_count": null,
   "metadata": {},
   "outputs": [],
   "source": []
  },
  {
   "cell_type": "code",
   "execution_count": null,
   "metadata": {},
   "outputs": [],
   "source": []
  },
  {
   "cell_type": "code",
   "execution_count": null,
   "metadata": {},
   "outputs": [],
   "source": []
  }
 ],
 "metadata": {
  "kernelspec": {
   "display_name": "Python 3",
   "language": "python",
   "name": "python3"
  }
 },
 "nbformat": 4,
 "nbformat_minor": 2
}
